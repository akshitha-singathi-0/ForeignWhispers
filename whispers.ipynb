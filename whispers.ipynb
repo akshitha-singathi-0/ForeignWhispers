{
  "nbformat": 4,
  "nbformat_minor": 0,
  "metadata": {
    "colab": {
      "provenance": [],
      "gpuType": "T4",
      "include_colab_link": true
    },
    "kernelspec": {
      "name": "python3",
      "display_name": "Python 3"
    },
    "language_info": {
      "name": "python"
    },
    "accelerator": "GPU",
    "widgets": {
      "application/vnd.jupyter.widget-state+json": {
        "f323710303a14f4eaff50d60c534bae3": {
          "model_module": "@jupyter-widgets/controls",
          "model_name": "HBoxModel",
          "model_module_version": "1.5.0",
          "state": {
            "_dom_classes": [],
            "_model_module": "@jupyter-widgets/controls",
            "_model_module_version": "1.5.0",
            "_model_name": "HBoxModel",
            "_view_count": null,
            "_view_module": "@jupyter-widgets/controls",
            "_view_module_version": "1.5.0",
            "_view_name": "HBoxView",
            "box_style": "",
            "children": [
              "IPY_MODEL_7c98a7bdc78442458f8857d7a6696696",
              "IPY_MODEL_42b7446f6da8434a9e3c1bc1cdf49f06",
              "IPY_MODEL_db49a0aa741f414384fa9618f7d04510"
            ],
            "layout": "IPY_MODEL_27f0e14e1e014adfb32ea04c8f608f16"
          }
        },
        "7c98a7bdc78442458f8857d7a6696696": {
          "model_module": "@jupyter-widgets/controls",
          "model_name": "HTMLModel",
          "model_module_version": "1.5.0",
          "state": {
            "_dom_classes": [],
            "_model_module": "@jupyter-widgets/controls",
            "_model_module_version": "1.5.0",
            "_model_name": "HTMLModel",
            "_view_count": null,
            "_view_module": "@jupyter-widgets/controls",
            "_view_module_version": "1.5.0",
            "_view_name": "HTMLView",
            "description": "",
            "description_tooltip": null,
            "layout": "IPY_MODEL_de665f9321af4b2bb1d7e16ac933be1f",
            "placeholder": "​",
            "style": "IPY_MODEL_52960db9bf9844f99d89131f8ac3279c",
            "value": "tokenizer_config.json: 100%"
          }
        },
        "42b7446f6da8434a9e3c1bc1cdf49f06": {
          "model_module": "@jupyter-widgets/controls",
          "model_name": "FloatProgressModel",
          "model_module_version": "1.5.0",
          "state": {
            "_dom_classes": [],
            "_model_module": "@jupyter-widgets/controls",
            "_model_module_version": "1.5.0",
            "_model_name": "FloatProgressModel",
            "_view_count": null,
            "_view_module": "@jupyter-widgets/controls",
            "_view_module_version": "1.5.0",
            "_view_name": "ProgressView",
            "bar_style": "success",
            "description": "",
            "description_tooltip": null,
            "layout": "IPY_MODEL_05fbe77130834906ad9c8c4e7471f74c",
            "max": 42,
            "min": 0,
            "orientation": "horizontal",
            "style": "IPY_MODEL_080e48cf2579425fbb42300bd5c247e7",
            "value": 42
          }
        },
        "db49a0aa741f414384fa9618f7d04510": {
          "model_module": "@jupyter-widgets/controls",
          "model_name": "HTMLModel",
          "model_module_version": "1.5.0",
          "state": {
            "_dom_classes": [],
            "_model_module": "@jupyter-widgets/controls",
            "_model_module_version": "1.5.0",
            "_model_name": "HTMLModel",
            "_view_count": null,
            "_view_module": "@jupyter-widgets/controls",
            "_view_module_version": "1.5.0",
            "_view_name": "HTMLView",
            "description": "",
            "description_tooltip": null,
            "layout": "IPY_MODEL_8ac49d33d68a426789d0a89e830ec4a5",
            "placeholder": "​",
            "style": "IPY_MODEL_35f245a5dfad4905a9253823a90c79ce",
            "value": " 42.0/42.0 [00:00&lt;00:00, 1.33kB/s]"
          }
        },
        "27f0e14e1e014adfb32ea04c8f608f16": {
          "model_module": "@jupyter-widgets/base",
          "model_name": "LayoutModel",
          "model_module_version": "1.2.0",
          "state": {
            "_model_module": "@jupyter-widgets/base",
            "_model_module_version": "1.2.0",
            "_model_name": "LayoutModel",
            "_view_count": null,
            "_view_module": "@jupyter-widgets/base",
            "_view_module_version": "1.2.0",
            "_view_name": "LayoutView",
            "align_content": null,
            "align_items": null,
            "align_self": null,
            "border": null,
            "bottom": null,
            "display": null,
            "flex": null,
            "flex_flow": null,
            "grid_area": null,
            "grid_auto_columns": null,
            "grid_auto_flow": null,
            "grid_auto_rows": null,
            "grid_column": null,
            "grid_gap": null,
            "grid_row": null,
            "grid_template_areas": null,
            "grid_template_columns": null,
            "grid_template_rows": null,
            "height": null,
            "justify_content": null,
            "justify_items": null,
            "left": null,
            "margin": null,
            "max_height": null,
            "max_width": null,
            "min_height": null,
            "min_width": null,
            "object_fit": null,
            "object_position": null,
            "order": null,
            "overflow": null,
            "overflow_x": null,
            "overflow_y": null,
            "padding": null,
            "right": null,
            "top": null,
            "visibility": null,
            "width": null
          }
        },
        "de665f9321af4b2bb1d7e16ac933be1f": {
          "model_module": "@jupyter-widgets/base",
          "model_name": "LayoutModel",
          "model_module_version": "1.2.0",
          "state": {
            "_model_module": "@jupyter-widgets/base",
            "_model_module_version": "1.2.0",
            "_model_name": "LayoutModel",
            "_view_count": null,
            "_view_module": "@jupyter-widgets/base",
            "_view_module_version": "1.2.0",
            "_view_name": "LayoutView",
            "align_content": null,
            "align_items": null,
            "align_self": null,
            "border": null,
            "bottom": null,
            "display": null,
            "flex": null,
            "flex_flow": null,
            "grid_area": null,
            "grid_auto_columns": null,
            "grid_auto_flow": null,
            "grid_auto_rows": null,
            "grid_column": null,
            "grid_gap": null,
            "grid_row": null,
            "grid_template_areas": null,
            "grid_template_columns": null,
            "grid_template_rows": null,
            "height": null,
            "justify_content": null,
            "justify_items": null,
            "left": null,
            "margin": null,
            "max_height": null,
            "max_width": null,
            "min_height": null,
            "min_width": null,
            "object_fit": null,
            "object_position": null,
            "order": null,
            "overflow": null,
            "overflow_x": null,
            "overflow_y": null,
            "padding": null,
            "right": null,
            "top": null,
            "visibility": null,
            "width": null
          }
        },
        "52960db9bf9844f99d89131f8ac3279c": {
          "model_module": "@jupyter-widgets/controls",
          "model_name": "DescriptionStyleModel",
          "model_module_version": "1.5.0",
          "state": {
            "_model_module": "@jupyter-widgets/controls",
            "_model_module_version": "1.5.0",
            "_model_name": "DescriptionStyleModel",
            "_view_count": null,
            "_view_module": "@jupyter-widgets/base",
            "_view_module_version": "1.2.0",
            "_view_name": "StyleView",
            "description_width": ""
          }
        },
        "05fbe77130834906ad9c8c4e7471f74c": {
          "model_module": "@jupyter-widgets/base",
          "model_name": "LayoutModel",
          "model_module_version": "1.2.0",
          "state": {
            "_model_module": "@jupyter-widgets/base",
            "_model_module_version": "1.2.0",
            "_model_name": "LayoutModel",
            "_view_count": null,
            "_view_module": "@jupyter-widgets/base",
            "_view_module_version": "1.2.0",
            "_view_name": "LayoutView",
            "align_content": null,
            "align_items": null,
            "align_self": null,
            "border": null,
            "bottom": null,
            "display": null,
            "flex": null,
            "flex_flow": null,
            "grid_area": null,
            "grid_auto_columns": null,
            "grid_auto_flow": null,
            "grid_auto_rows": null,
            "grid_column": null,
            "grid_gap": null,
            "grid_row": null,
            "grid_template_areas": null,
            "grid_template_columns": null,
            "grid_template_rows": null,
            "height": null,
            "justify_content": null,
            "justify_items": null,
            "left": null,
            "margin": null,
            "max_height": null,
            "max_width": null,
            "min_height": null,
            "min_width": null,
            "object_fit": null,
            "object_position": null,
            "order": null,
            "overflow": null,
            "overflow_x": null,
            "overflow_y": null,
            "padding": null,
            "right": null,
            "top": null,
            "visibility": null,
            "width": null
          }
        },
        "080e48cf2579425fbb42300bd5c247e7": {
          "model_module": "@jupyter-widgets/controls",
          "model_name": "ProgressStyleModel",
          "model_module_version": "1.5.0",
          "state": {
            "_model_module": "@jupyter-widgets/controls",
            "_model_module_version": "1.5.0",
            "_model_name": "ProgressStyleModel",
            "_view_count": null,
            "_view_module": "@jupyter-widgets/base",
            "_view_module_version": "1.2.0",
            "_view_name": "StyleView",
            "bar_color": null,
            "description_width": ""
          }
        },
        "8ac49d33d68a426789d0a89e830ec4a5": {
          "model_module": "@jupyter-widgets/base",
          "model_name": "LayoutModel",
          "model_module_version": "1.2.0",
          "state": {
            "_model_module": "@jupyter-widgets/base",
            "_model_module_version": "1.2.0",
            "_model_name": "LayoutModel",
            "_view_count": null,
            "_view_module": "@jupyter-widgets/base",
            "_view_module_version": "1.2.0",
            "_view_name": "LayoutView",
            "align_content": null,
            "align_items": null,
            "align_self": null,
            "border": null,
            "bottom": null,
            "display": null,
            "flex": null,
            "flex_flow": null,
            "grid_area": null,
            "grid_auto_columns": null,
            "grid_auto_flow": null,
            "grid_auto_rows": null,
            "grid_column": null,
            "grid_gap": null,
            "grid_row": null,
            "grid_template_areas": null,
            "grid_template_columns": null,
            "grid_template_rows": null,
            "height": null,
            "justify_content": null,
            "justify_items": null,
            "left": null,
            "margin": null,
            "max_height": null,
            "max_width": null,
            "min_height": null,
            "min_width": null,
            "object_fit": null,
            "object_position": null,
            "order": null,
            "overflow": null,
            "overflow_x": null,
            "overflow_y": null,
            "padding": null,
            "right": null,
            "top": null,
            "visibility": null,
            "width": null
          }
        },
        "35f245a5dfad4905a9253823a90c79ce": {
          "model_module": "@jupyter-widgets/controls",
          "model_name": "DescriptionStyleModel",
          "model_module_version": "1.5.0",
          "state": {
            "_model_module": "@jupyter-widgets/controls",
            "_model_module_version": "1.5.0",
            "_model_name": "DescriptionStyleModel",
            "_view_count": null,
            "_view_module": "@jupyter-widgets/base",
            "_view_module_version": "1.2.0",
            "_view_name": "StyleView",
            "description_width": ""
          }
        },
        "f1796c16475a431198f67815d5a00dfd": {
          "model_module": "@jupyter-widgets/controls",
          "model_name": "HBoxModel",
          "model_module_version": "1.5.0",
          "state": {
            "_dom_classes": [],
            "_model_module": "@jupyter-widgets/controls",
            "_model_module_version": "1.5.0",
            "_model_name": "HBoxModel",
            "_view_count": null,
            "_view_module": "@jupyter-widgets/controls",
            "_view_module_version": "1.5.0",
            "_view_name": "HBoxView",
            "box_style": "",
            "children": [
              "IPY_MODEL_415941b7ff9a4df68211275316b59615",
              "IPY_MODEL_4a7dda3319fe41ff94b07a958cf53b7f",
              "IPY_MODEL_5d6959a6012247359315bb0c4d038329"
            ],
            "layout": "IPY_MODEL_83bdf273cbe040658942d13f01ddd779"
          }
        },
        "415941b7ff9a4df68211275316b59615": {
          "model_module": "@jupyter-widgets/controls",
          "model_name": "HTMLModel",
          "model_module_version": "1.5.0",
          "state": {
            "_dom_classes": [],
            "_model_module": "@jupyter-widgets/controls",
            "_model_module_version": "1.5.0",
            "_model_name": "HTMLModel",
            "_view_count": null,
            "_view_module": "@jupyter-widgets/controls",
            "_view_module_version": "1.5.0",
            "_view_name": "HTMLView",
            "description": "",
            "description_tooltip": null,
            "layout": "IPY_MODEL_c167a69d2ce3415c8a7ac67b1de42e8e",
            "placeholder": "​",
            "style": "IPY_MODEL_5e8594603ed4454eb122115d2113c386",
            "value": "source.spm: 100%"
          }
        },
        "4a7dda3319fe41ff94b07a958cf53b7f": {
          "model_module": "@jupyter-widgets/controls",
          "model_name": "FloatProgressModel",
          "model_module_version": "1.5.0",
          "state": {
            "_dom_classes": [],
            "_model_module": "@jupyter-widgets/controls",
            "_model_module_version": "1.5.0",
            "_model_name": "FloatProgressModel",
            "_view_count": null,
            "_view_module": "@jupyter-widgets/controls",
            "_view_module_version": "1.5.0",
            "_view_name": "ProgressView",
            "bar_style": "success",
            "description": "",
            "description_tooltip": null,
            "layout": "IPY_MODEL_8b0fb72962d5450dbea1f0c0019c047c",
            "max": 778395,
            "min": 0,
            "orientation": "horizontal",
            "style": "IPY_MODEL_24db4136a35249cd92d9baf9ceb7e4ef",
            "value": 778395
          }
        },
        "5d6959a6012247359315bb0c4d038329": {
          "model_module": "@jupyter-widgets/controls",
          "model_name": "HTMLModel",
          "model_module_version": "1.5.0",
          "state": {
            "_dom_classes": [],
            "_model_module": "@jupyter-widgets/controls",
            "_model_module_version": "1.5.0",
            "_model_name": "HTMLModel",
            "_view_count": null,
            "_view_module": "@jupyter-widgets/controls",
            "_view_module_version": "1.5.0",
            "_view_name": "HTMLView",
            "description": "",
            "description_tooltip": null,
            "layout": "IPY_MODEL_8b098d58a0d74d28b26ba18491b4e4b9",
            "placeholder": "​",
            "style": "IPY_MODEL_9fe03f1ccdeb4e6d8ac2225f1b7f9438",
            "value": " 778k/778k [00:00&lt;00:00, 11.5MB/s]"
          }
        },
        "83bdf273cbe040658942d13f01ddd779": {
          "model_module": "@jupyter-widgets/base",
          "model_name": "LayoutModel",
          "model_module_version": "1.2.0",
          "state": {
            "_model_module": "@jupyter-widgets/base",
            "_model_module_version": "1.2.0",
            "_model_name": "LayoutModel",
            "_view_count": null,
            "_view_module": "@jupyter-widgets/base",
            "_view_module_version": "1.2.0",
            "_view_name": "LayoutView",
            "align_content": null,
            "align_items": null,
            "align_self": null,
            "border": null,
            "bottom": null,
            "display": null,
            "flex": null,
            "flex_flow": null,
            "grid_area": null,
            "grid_auto_columns": null,
            "grid_auto_flow": null,
            "grid_auto_rows": null,
            "grid_column": null,
            "grid_gap": null,
            "grid_row": null,
            "grid_template_areas": null,
            "grid_template_columns": null,
            "grid_template_rows": null,
            "height": null,
            "justify_content": null,
            "justify_items": null,
            "left": null,
            "margin": null,
            "max_height": null,
            "max_width": null,
            "min_height": null,
            "min_width": null,
            "object_fit": null,
            "object_position": null,
            "order": null,
            "overflow": null,
            "overflow_x": null,
            "overflow_y": null,
            "padding": null,
            "right": null,
            "top": null,
            "visibility": null,
            "width": null
          }
        },
        "c167a69d2ce3415c8a7ac67b1de42e8e": {
          "model_module": "@jupyter-widgets/base",
          "model_name": "LayoutModel",
          "model_module_version": "1.2.0",
          "state": {
            "_model_module": "@jupyter-widgets/base",
            "_model_module_version": "1.2.0",
            "_model_name": "LayoutModel",
            "_view_count": null,
            "_view_module": "@jupyter-widgets/base",
            "_view_module_version": "1.2.0",
            "_view_name": "LayoutView",
            "align_content": null,
            "align_items": null,
            "align_self": null,
            "border": null,
            "bottom": null,
            "display": null,
            "flex": null,
            "flex_flow": null,
            "grid_area": null,
            "grid_auto_columns": null,
            "grid_auto_flow": null,
            "grid_auto_rows": null,
            "grid_column": null,
            "grid_gap": null,
            "grid_row": null,
            "grid_template_areas": null,
            "grid_template_columns": null,
            "grid_template_rows": null,
            "height": null,
            "justify_content": null,
            "justify_items": null,
            "left": null,
            "margin": null,
            "max_height": null,
            "max_width": null,
            "min_height": null,
            "min_width": null,
            "object_fit": null,
            "object_position": null,
            "order": null,
            "overflow": null,
            "overflow_x": null,
            "overflow_y": null,
            "padding": null,
            "right": null,
            "top": null,
            "visibility": null,
            "width": null
          }
        },
        "5e8594603ed4454eb122115d2113c386": {
          "model_module": "@jupyter-widgets/controls",
          "model_name": "DescriptionStyleModel",
          "model_module_version": "1.5.0",
          "state": {
            "_model_module": "@jupyter-widgets/controls",
            "_model_module_version": "1.5.0",
            "_model_name": "DescriptionStyleModel",
            "_view_count": null,
            "_view_module": "@jupyter-widgets/base",
            "_view_module_version": "1.2.0",
            "_view_name": "StyleView",
            "description_width": ""
          }
        },
        "8b0fb72962d5450dbea1f0c0019c047c": {
          "model_module": "@jupyter-widgets/base",
          "model_name": "LayoutModel",
          "model_module_version": "1.2.0",
          "state": {
            "_model_module": "@jupyter-widgets/base",
            "_model_module_version": "1.2.0",
            "_model_name": "LayoutModel",
            "_view_count": null,
            "_view_module": "@jupyter-widgets/base",
            "_view_module_version": "1.2.0",
            "_view_name": "LayoutView",
            "align_content": null,
            "align_items": null,
            "align_self": null,
            "border": null,
            "bottom": null,
            "display": null,
            "flex": null,
            "flex_flow": null,
            "grid_area": null,
            "grid_auto_columns": null,
            "grid_auto_flow": null,
            "grid_auto_rows": null,
            "grid_column": null,
            "grid_gap": null,
            "grid_row": null,
            "grid_template_areas": null,
            "grid_template_columns": null,
            "grid_template_rows": null,
            "height": null,
            "justify_content": null,
            "justify_items": null,
            "left": null,
            "margin": null,
            "max_height": null,
            "max_width": null,
            "min_height": null,
            "min_width": null,
            "object_fit": null,
            "object_position": null,
            "order": null,
            "overflow": null,
            "overflow_x": null,
            "overflow_y": null,
            "padding": null,
            "right": null,
            "top": null,
            "visibility": null,
            "width": null
          }
        },
        "24db4136a35249cd92d9baf9ceb7e4ef": {
          "model_module": "@jupyter-widgets/controls",
          "model_name": "ProgressStyleModel",
          "model_module_version": "1.5.0",
          "state": {
            "_model_module": "@jupyter-widgets/controls",
            "_model_module_version": "1.5.0",
            "_model_name": "ProgressStyleModel",
            "_view_count": null,
            "_view_module": "@jupyter-widgets/base",
            "_view_module_version": "1.2.0",
            "_view_name": "StyleView",
            "bar_color": null,
            "description_width": ""
          }
        },
        "8b098d58a0d74d28b26ba18491b4e4b9": {
          "model_module": "@jupyter-widgets/base",
          "model_name": "LayoutModel",
          "model_module_version": "1.2.0",
          "state": {
            "_model_module": "@jupyter-widgets/base",
            "_model_module_version": "1.2.0",
            "_model_name": "LayoutModel",
            "_view_count": null,
            "_view_module": "@jupyter-widgets/base",
            "_view_module_version": "1.2.0",
            "_view_name": "LayoutView",
            "align_content": null,
            "align_items": null,
            "align_self": null,
            "border": null,
            "bottom": null,
            "display": null,
            "flex": null,
            "flex_flow": null,
            "grid_area": null,
            "grid_auto_columns": null,
            "grid_auto_flow": null,
            "grid_auto_rows": null,
            "grid_column": null,
            "grid_gap": null,
            "grid_row": null,
            "grid_template_areas": null,
            "grid_template_columns": null,
            "grid_template_rows": null,
            "height": null,
            "justify_content": null,
            "justify_items": null,
            "left": null,
            "margin": null,
            "max_height": null,
            "max_width": null,
            "min_height": null,
            "min_width": null,
            "object_fit": null,
            "object_position": null,
            "order": null,
            "overflow": null,
            "overflow_x": null,
            "overflow_y": null,
            "padding": null,
            "right": null,
            "top": null,
            "visibility": null,
            "width": null
          }
        },
        "9fe03f1ccdeb4e6d8ac2225f1b7f9438": {
          "model_module": "@jupyter-widgets/controls",
          "model_name": "DescriptionStyleModel",
          "model_module_version": "1.5.0",
          "state": {
            "_model_module": "@jupyter-widgets/controls",
            "_model_module_version": "1.5.0",
            "_model_name": "DescriptionStyleModel",
            "_view_count": null,
            "_view_module": "@jupyter-widgets/base",
            "_view_module_version": "1.2.0",
            "_view_name": "StyleView",
            "description_width": ""
          }
        },
        "48feaea3a51f4c658e6dca869f799458": {
          "model_module": "@jupyter-widgets/controls",
          "model_name": "HBoxModel",
          "model_module_version": "1.5.0",
          "state": {
            "_dom_classes": [],
            "_model_module": "@jupyter-widgets/controls",
            "_model_module_version": "1.5.0",
            "_model_name": "HBoxModel",
            "_view_count": null,
            "_view_module": "@jupyter-widgets/controls",
            "_view_module_version": "1.5.0",
            "_view_name": "HBoxView",
            "box_style": "",
            "children": [
              "IPY_MODEL_99fec747e653413eb616f81d1b5944cd",
              "IPY_MODEL_14597d19a77542ce89915c28f0c5a5ea",
              "IPY_MODEL_5eaf94e9688c4f62943089c6406c9193"
            ],
            "layout": "IPY_MODEL_15c926551d794aa1b85926caf9208849"
          }
        },
        "99fec747e653413eb616f81d1b5944cd": {
          "model_module": "@jupyter-widgets/controls",
          "model_name": "HTMLModel",
          "model_module_version": "1.5.0",
          "state": {
            "_dom_classes": [],
            "_model_module": "@jupyter-widgets/controls",
            "_model_module_version": "1.5.0",
            "_model_name": "HTMLModel",
            "_view_count": null,
            "_view_module": "@jupyter-widgets/controls",
            "_view_module_version": "1.5.0",
            "_view_name": "HTMLView",
            "description": "",
            "description_tooltip": null,
            "layout": "IPY_MODEL_75d50c3f2af14d369b9a5bdf233066f3",
            "placeholder": "​",
            "style": "IPY_MODEL_1ea1240f37264c0981f17cef10c016c6",
            "value": "target.spm: 100%"
          }
        },
        "14597d19a77542ce89915c28f0c5a5ea": {
          "model_module": "@jupyter-widgets/controls",
          "model_name": "FloatProgressModel",
          "model_module_version": "1.5.0",
          "state": {
            "_dom_classes": [],
            "_model_module": "@jupyter-widgets/controls",
            "_model_module_version": "1.5.0",
            "_model_name": "FloatProgressModel",
            "_view_count": null,
            "_view_module": "@jupyter-widgets/controls",
            "_view_module_version": "1.5.0",
            "_view_name": "ProgressView",
            "bar_style": "success",
            "description": "",
            "description_tooltip": null,
            "layout": "IPY_MODEL_d930fe450d514bac818855614d23f86d",
            "max": 802397,
            "min": 0,
            "orientation": "horizontal",
            "style": "IPY_MODEL_25173a94737144548c397d1c3ed34c27",
            "value": 802397
          }
        },
        "5eaf94e9688c4f62943089c6406c9193": {
          "model_module": "@jupyter-widgets/controls",
          "model_name": "HTMLModel",
          "model_module_version": "1.5.0",
          "state": {
            "_dom_classes": [],
            "_model_module": "@jupyter-widgets/controls",
            "_model_module_version": "1.5.0",
            "_model_name": "HTMLModel",
            "_view_count": null,
            "_view_module": "@jupyter-widgets/controls",
            "_view_module_version": "1.5.0",
            "_view_name": "HTMLView",
            "description": "",
            "description_tooltip": null,
            "layout": "IPY_MODEL_0be7be6af46441aa81fda50f0b442c13",
            "placeholder": "​",
            "style": "IPY_MODEL_29e4ac836e2849c6a6f1fac9bdd54f4c",
            "value": " 802k/802k [00:00&lt;00:00, 15.5MB/s]"
          }
        },
        "15c926551d794aa1b85926caf9208849": {
          "model_module": "@jupyter-widgets/base",
          "model_name": "LayoutModel",
          "model_module_version": "1.2.0",
          "state": {
            "_model_module": "@jupyter-widgets/base",
            "_model_module_version": "1.2.0",
            "_model_name": "LayoutModel",
            "_view_count": null,
            "_view_module": "@jupyter-widgets/base",
            "_view_module_version": "1.2.0",
            "_view_name": "LayoutView",
            "align_content": null,
            "align_items": null,
            "align_self": null,
            "border": null,
            "bottom": null,
            "display": null,
            "flex": null,
            "flex_flow": null,
            "grid_area": null,
            "grid_auto_columns": null,
            "grid_auto_flow": null,
            "grid_auto_rows": null,
            "grid_column": null,
            "grid_gap": null,
            "grid_row": null,
            "grid_template_areas": null,
            "grid_template_columns": null,
            "grid_template_rows": null,
            "height": null,
            "justify_content": null,
            "justify_items": null,
            "left": null,
            "margin": null,
            "max_height": null,
            "max_width": null,
            "min_height": null,
            "min_width": null,
            "object_fit": null,
            "object_position": null,
            "order": null,
            "overflow": null,
            "overflow_x": null,
            "overflow_y": null,
            "padding": null,
            "right": null,
            "top": null,
            "visibility": null,
            "width": null
          }
        },
        "75d50c3f2af14d369b9a5bdf233066f3": {
          "model_module": "@jupyter-widgets/base",
          "model_name": "LayoutModel",
          "model_module_version": "1.2.0",
          "state": {
            "_model_module": "@jupyter-widgets/base",
            "_model_module_version": "1.2.0",
            "_model_name": "LayoutModel",
            "_view_count": null,
            "_view_module": "@jupyter-widgets/base",
            "_view_module_version": "1.2.0",
            "_view_name": "LayoutView",
            "align_content": null,
            "align_items": null,
            "align_self": null,
            "border": null,
            "bottom": null,
            "display": null,
            "flex": null,
            "flex_flow": null,
            "grid_area": null,
            "grid_auto_columns": null,
            "grid_auto_flow": null,
            "grid_auto_rows": null,
            "grid_column": null,
            "grid_gap": null,
            "grid_row": null,
            "grid_template_areas": null,
            "grid_template_columns": null,
            "grid_template_rows": null,
            "height": null,
            "justify_content": null,
            "justify_items": null,
            "left": null,
            "margin": null,
            "max_height": null,
            "max_width": null,
            "min_height": null,
            "min_width": null,
            "object_fit": null,
            "object_position": null,
            "order": null,
            "overflow": null,
            "overflow_x": null,
            "overflow_y": null,
            "padding": null,
            "right": null,
            "top": null,
            "visibility": null,
            "width": null
          }
        },
        "1ea1240f37264c0981f17cef10c016c6": {
          "model_module": "@jupyter-widgets/controls",
          "model_name": "DescriptionStyleModel",
          "model_module_version": "1.5.0",
          "state": {
            "_model_module": "@jupyter-widgets/controls",
            "_model_module_version": "1.5.0",
            "_model_name": "DescriptionStyleModel",
            "_view_count": null,
            "_view_module": "@jupyter-widgets/base",
            "_view_module_version": "1.2.0",
            "_view_name": "StyleView",
            "description_width": ""
          }
        },
        "d930fe450d514bac818855614d23f86d": {
          "model_module": "@jupyter-widgets/base",
          "model_name": "LayoutModel",
          "model_module_version": "1.2.0",
          "state": {
            "_model_module": "@jupyter-widgets/base",
            "_model_module_version": "1.2.0",
            "_model_name": "LayoutModel",
            "_view_count": null,
            "_view_module": "@jupyter-widgets/base",
            "_view_module_version": "1.2.0",
            "_view_name": "LayoutView",
            "align_content": null,
            "align_items": null,
            "align_self": null,
            "border": null,
            "bottom": null,
            "display": null,
            "flex": null,
            "flex_flow": null,
            "grid_area": null,
            "grid_auto_columns": null,
            "grid_auto_flow": null,
            "grid_auto_rows": null,
            "grid_column": null,
            "grid_gap": null,
            "grid_row": null,
            "grid_template_areas": null,
            "grid_template_columns": null,
            "grid_template_rows": null,
            "height": null,
            "justify_content": null,
            "justify_items": null,
            "left": null,
            "margin": null,
            "max_height": null,
            "max_width": null,
            "min_height": null,
            "min_width": null,
            "object_fit": null,
            "object_position": null,
            "order": null,
            "overflow": null,
            "overflow_x": null,
            "overflow_y": null,
            "padding": null,
            "right": null,
            "top": null,
            "visibility": null,
            "width": null
          }
        },
        "25173a94737144548c397d1c3ed34c27": {
          "model_module": "@jupyter-widgets/controls",
          "model_name": "ProgressStyleModel",
          "model_module_version": "1.5.0",
          "state": {
            "_model_module": "@jupyter-widgets/controls",
            "_model_module_version": "1.5.0",
            "_model_name": "ProgressStyleModel",
            "_view_count": null,
            "_view_module": "@jupyter-widgets/base",
            "_view_module_version": "1.2.0",
            "_view_name": "StyleView",
            "bar_color": null,
            "description_width": ""
          }
        },
        "0be7be6af46441aa81fda50f0b442c13": {
          "model_module": "@jupyter-widgets/base",
          "model_name": "LayoutModel",
          "model_module_version": "1.2.0",
          "state": {
            "_model_module": "@jupyter-widgets/base",
            "_model_module_version": "1.2.0",
            "_model_name": "LayoutModel",
            "_view_count": null,
            "_view_module": "@jupyter-widgets/base",
            "_view_module_version": "1.2.0",
            "_view_name": "LayoutView",
            "align_content": null,
            "align_items": null,
            "align_self": null,
            "border": null,
            "bottom": null,
            "display": null,
            "flex": null,
            "flex_flow": null,
            "grid_area": null,
            "grid_auto_columns": null,
            "grid_auto_flow": null,
            "grid_auto_rows": null,
            "grid_column": null,
            "grid_gap": null,
            "grid_row": null,
            "grid_template_areas": null,
            "grid_template_columns": null,
            "grid_template_rows": null,
            "height": null,
            "justify_content": null,
            "justify_items": null,
            "left": null,
            "margin": null,
            "max_height": null,
            "max_width": null,
            "min_height": null,
            "min_width": null,
            "object_fit": null,
            "object_position": null,
            "order": null,
            "overflow": null,
            "overflow_x": null,
            "overflow_y": null,
            "padding": null,
            "right": null,
            "top": null,
            "visibility": null,
            "width": null
          }
        },
        "29e4ac836e2849c6a6f1fac9bdd54f4c": {
          "model_module": "@jupyter-widgets/controls",
          "model_name": "DescriptionStyleModel",
          "model_module_version": "1.5.0",
          "state": {
            "_model_module": "@jupyter-widgets/controls",
            "_model_module_version": "1.5.0",
            "_model_name": "DescriptionStyleModel",
            "_view_count": null,
            "_view_module": "@jupyter-widgets/base",
            "_view_module_version": "1.2.0",
            "_view_name": "StyleView",
            "description_width": ""
          }
        },
        "4d6ebc80dcc445e4991d0170b69e6e28": {
          "model_module": "@jupyter-widgets/controls",
          "model_name": "HBoxModel",
          "model_module_version": "1.5.0",
          "state": {
            "_dom_classes": [],
            "_model_module": "@jupyter-widgets/controls",
            "_model_module_version": "1.5.0",
            "_model_name": "HBoxModel",
            "_view_count": null,
            "_view_module": "@jupyter-widgets/controls",
            "_view_module_version": "1.5.0",
            "_view_name": "HBoxView",
            "box_style": "",
            "children": [
              "IPY_MODEL_07a30b62d931463799a87c7cca397ba4",
              "IPY_MODEL_4cfbc44d26c64d52bb51cb398ec7cc3e",
              "IPY_MODEL_10ca778d93b44a8a84706a91db3b3e4d"
            ],
            "layout": "IPY_MODEL_da8ce4171ef747389ec4f076dff41fec"
          }
        },
        "07a30b62d931463799a87c7cca397ba4": {
          "model_module": "@jupyter-widgets/controls",
          "model_name": "HTMLModel",
          "model_module_version": "1.5.0",
          "state": {
            "_dom_classes": [],
            "_model_module": "@jupyter-widgets/controls",
            "_model_module_version": "1.5.0",
            "_model_name": "HTMLModel",
            "_view_count": null,
            "_view_module": "@jupyter-widgets/controls",
            "_view_module_version": "1.5.0",
            "_view_name": "HTMLView",
            "description": "",
            "description_tooltip": null,
            "layout": "IPY_MODEL_4b62e9bd687046ef827328be5cc073e7",
            "placeholder": "​",
            "style": "IPY_MODEL_eed4b485ca6e48c68ffc920b5da8a4c5",
            "value": "vocab.json: 100%"
          }
        },
        "4cfbc44d26c64d52bb51cb398ec7cc3e": {
          "model_module": "@jupyter-widgets/controls",
          "model_name": "FloatProgressModel",
          "model_module_version": "1.5.0",
          "state": {
            "_dom_classes": [],
            "_model_module": "@jupyter-widgets/controls",
            "_model_module_version": "1.5.0",
            "_model_name": "FloatProgressModel",
            "_view_count": null,
            "_view_module": "@jupyter-widgets/controls",
            "_view_module_version": "1.5.0",
            "_view_name": "ProgressView",
            "bar_style": "success",
            "description": "",
            "description_tooltip": null,
            "layout": "IPY_MODEL_71917343a1a84bf3947271d91a7ff285",
            "max": 1339166,
            "min": 0,
            "orientation": "horizontal",
            "style": "IPY_MODEL_6ed5aa9590124b50bc3ffe451d5ca102",
            "value": 1339166
          }
        },
        "10ca778d93b44a8a84706a91db3b3e4d": {
          "model_module": "@jupyter-widgets/controls",
          "model_name": "HTMLModel",
          "model_module_version": "1.5.0",
          "state": {
            "_dom_classes": [],
            "_model_module": "@jupyter-widgets/controls",
            "_model_module_version": "1.5.0",
            "_model_name": "HTMLModel",
            "_view_count": null,
            "_view_module": "@jupyter-widgets/controls",
            "_view_module_version": "1.5.0",
            "_view_name": "HTMLView",
            "description": "",
            "description_tooltip": null,
            "layout": "IPY_MODEL_34a861aff4674bcea796c96370315e6b",
            "placeholder": "​",
            "style": "IPY_MODEL_e54fbaca508a4d638ce039579491a0df",
            "value": " 1.34M/1.34M [00:00&lt;00:00, 11.4MB/s]"
          }
        },
        "da8ce4171ef747389ec4f076dff41fec": {
          "model_module": "@jupyter-widgets/base",
          "model_name": "LayoutModel",
          "model_module_version": "1.2.0",
          "state": {
            "_model_module": "@jupyter-widgets/base",
            "_model_module_version": "1.2.0",
            "_model_name": "LayoutModel",
            "_view_count": null,
            "_view_module": "@jupyter-widgets/base",
            "_view_module_version": "1.2.0",
            "_view_name": "LayoutView",
            "align_content": null,
            "align_items": null,
            "align_self": null,
            "border": null,
            "bottom": null,
            "display": null,
            "flex": null,
            "flex_flow": null,
            "grid_area": null,
            "grid_auto_columns": null,
            "grid_auto_flow": null,
            "grid_auto_rows": null,
            "grid_column": null,
            "grid_gap": null,
            "grid_row": null,
            "grid_template_areas": null,
            "grid_template_columns": null,
            "grid_template_rows": null,
            "height": null,
            "justify_content": null,
            "justify_items": null,
            "left": null,
            "margin": null,
            "max_height": null,
            "max_width": null,
            "min_height": null,
            "min_width": null,
            "object_fit": null,
            "object_position": null,
            "order": null,
            "overflow": null,
            "overflow_x": null,
            "overflow_y": null,
            "padding": null,
            "right": null,
            "top": null,
            "visibility": null,
            "width": null
          }
        },
        "4b62e9bd687046ef827328be5cc073e7": {
          "model_module": "@jupyter-widgets/base",
          "model_name": "LayoutModel",
          "model_module_version": "1.2.0",
          "state": {
            "_model_module": "@jupyter-widgets/base",
            "_model_module_version": "1.2.0",
            "_model_name": "LayoutModel",
            "_view_count": null,
            "_view_module": "@jupyter-widgets/base",
            "_view_module_version": "1.2.0",
            "_view_name": "LayoutView",
            "align_content": null,
            "align_items": null,
            "align_self": null,
            "border": null,
            "bottom": null,
            "display": null,
            "flex": null,
            "flex_flow": null,
            "grid_area": null,
            "grid_auto_columns": null,
            "grid_auto_flow": null,
            "grid_auto_rows": null,
            "grid_column": null,
            "grid_gap": null,
            "grid_row": null,
            "grid_template_areas": null,
            "grid_template_columns": null,
            "grid_template_rows": null,
            "height": null,
            "justify_content": null,
            "justify_items": null,
            "left": null,
            "margin": null,
            "max_height": null,
            "max_width": null,
            "min_height": null,
            "min_width": null,
            "object_fit": null,
            "object_position": null,
            "order": null,
            "overflow": null,
            "overflow_x": null,
            "overflow_y": null,
            "padding": null,
            "right": null,
            "top": null,
            "visibility": null,
            "width": null
          }
        },
        "eed4b485ca6e48c68ffc920b5da8a4c5": {
          "model_module": "@jupyter-widgets/controls",
          "model_name": "DescriptionStyleModel",
          "model_module_version": "1.5.0",
          "state": {
            "_model_module": "@jupyter-widgets/controls",
            "_model_module_version": "1.5.0",
            "_model_name": "DescriptionStyleModel",
            "_view_count": null,
            "_view_module": "@jupyter-widgets/base",
            "_view_module_version": "1.2.0",
            "_view_name": "StyleView",
            "description_width": ""
          }
        },
        "71917343a1a84bf3947271d91a7ff285": {
          "model_module": "@jupyter-widgets/base",
          "model_name": "LayoutModel",
          "model_module_version": "1.2.0",
          "state": {
            "_model_module": "@jupyter-widgets/base",
            "_model_module_version": "1.2.0",
            "_model_name": "LayoutModel",
            "_view_count": null,
            "_view_module": "@jupyter-widgets/base",
            "_view_module_version": "1.2.0",
            "_view_name": "LayoutView",
            "align_content": null,
            "align_items": null,
            "align_self": null,
            "border": null,
            "bottom": null,
            "display": null,
            "flex": null,
            "flex_flow": null,
            "grid_area": null,
            "grid_auto_columns": null,
            "grid_auto_flow": null,
            "grid_auto_rows": null,
            "grid_column": null,
            "grid_gap": null,
            "grid_row": null,
            "grid_template_areas": null,
            "grid_template_columns": null,
            "grid_template_rows": null,
            "height": null,
            "justify_content": null,
            "justify_items": null,
            "left": null,
            "margin": null,
            "max_height": null,
            "max_width": null,
            "min_height": null,
            "min_width": null,
            "object_fit": null,
            "object_position": null,
            "order": null,
            "overflow": null,
            "overflow_x": null,
            "overflow_y": null,
            "padding": null,
            "right": null,
            "top": null,
            "visibility": null,
            "width": null
          }
        },
        "6ed5aa9590124b50bc3ffe451d5ca102": {
          "model_module": "@jupyter-widgets/controls",
          "model_name": "ProgressStyleModel",
          "model_module_version": "1.5.0",
          "state": {
            "_model_module": "@jupyter-widgets/controls",
            "_model_module_version": "1.5.0",
            "_model_name": "ProgressStyleModel",
            "_view_count": null,
            "_view_module": "@jupyter-widgets/base",
            "_view_module_version": "1.2.0",
            "_view_name": "StyleView",
            "bar_color": null,
            "description_width": ""
          }
        },
        "34a861aff4674bcea796c96370315e6b": {
          "model_module": "@jupyter-widgets/base",
          "model_name": "LayoutModel",
          "model_module_version": "1.2.0",
          "state": {
            "_model_module": "@jupyter-widgets/base",
            "_model_module_version": "1.2.0",
            "_model_name": "LayoutModel",
            "_view_count": null,
            "_view_module": "@jupyter-widgets/base",
            "_view_module_version": "1.2.0",
            "_view_name": "LayoutView",
            "align_content": null,
            "align_items": null,
            "align_self": null,
            "border": null,
            "bottom": null,
            "display": null,
            "flex": null,
            "flex_flow": null,
            "grid_area": null,
            "grid_auto_columns": null,
            "grid_auto_flow": null,
            "grid_auto_rows": null,
            "grid_column": null,
            "grid_gap": null,
            "grid_row": null,
            "grid_template_areas": null,
            "grid_template_columns": null,
            "grid_template_rows": null,
            "height": null,
            "justify_content": null,
            "justify_items": null,
            "left": null,
            "margin": null,
            "max_height": null,
            "max_width": null,
            "min_height": null,
            "min_width": null,
            "object_fit": null,
            "object_position": null,
            "order": null,
            "overflow": null,
            "overflow_x": null,
            "overflow_y": null,
            "padding": null,
            "right": null,
            "top": null,
            "visibility": null,
            "width": null
          }
        },
        "e54fbaca508a4d638ce039579491a0df": {
          "model_module": "@jupyter-widgets/controls",
          "model_name": "DescriptionStyleModel",
          "model_module_version": "1.5.0",
          "state": {
            "_model_module": "@jupyter-widgets/controls",
            "_model_module_version": "1.5.0",
            "_model_name": "DescriptionStyleModel",
            "_view_count": null,
            "_view_module": "@jupyter-widgets/base",
            "_view_module_version": "1.2.0",
            "_view_name": "StyleView",
            "description_width": ""
          }
        }
      }
    }
  },
  "cells": [
    {
      "cell_type": "markdown",
      "metadata": {
        "id": "view-in-github",
        "colab_type": "text"
      },
      "source": [
        "<a href=\"https://colab.research.google.com/github/akshitha-singathi-0/ForeignWhispers/blob/main/whispers.ipynb\" target=\"_parent\"><img src=\"https://colab.research.google.com/assets/colab-badge.svg\" alt=\"Open In Colab\"/></a>"
      ]
    },
    {
      "cell_type": "markdown",
      "source": [
        "<a href=\"https://colab.research.google.com/github/sureshritika/CS370101-Singathi-Suresh-Foreign-Whispers/blob/main/Akshitha%20Singathi-Ritika%20Suresh%20Foreign%20Whispers.ipynb\">\n",
        "  <img src=\"https://colab.research.google.com/assets/colab-badge.svg\" alt=\"Open In Colab\"/>\n",
        "</a>"
      ],
      "metadata": {
        "id": "HSV7k-d8-W3J"
      }
    },
    {
      "cell_type": "markdown",
      "source": [
        "#Milestone 1"
      ],
      "metadata": {
        "id": "lfHklvNxrwQY"
      }
    },
    {
      "cell_type": "code",
      "execution_count": null,
      "metadata": {
        "colab": {
          "base_uri": "https://localhost:8080/"
        },
        "id": "7cspeWU3QdWS",
        "outputId": "ff13cc61-13f8-4db9-c4a2-6770f6e4b1eb"
      },
      "outputs": [
        {
          "output_type": "stream",
          "name": "stdout",
          "text": [
            "Collecting pytube\n",
            "  Downloading pytube-15.0.0-py3-none-any.whl (57 kB)\n",
            "\u001b[?25l     \u001b[90m━━━━━━━━━━━━━━━━━━━━━━━━━━━━━━━━━━━━━━━━\u001b[0m \u001b[32m0.0/57.6 kB\u001b[0m \u001b[31m?\u001b[0m eta \u001b[36m-:--:--\u001b[0m\r\u001b[2K     \u001b[90m━━━━━━━━━━━━━━━━━━━━━━━━━━━━━━━━━━━━━━━━\u001b[0m \u001b[32m57.6/57.6 kB\u001b[0m \u001b[31m2.2 MB/s\u001b[0m eta \u001b[36m0:00:00\u001b[0m\n",
            "\u001b[?25hInstalling collected packages: pytube\n",
            "Successfully installed pytube-15.0.0\n"
          ]
        }
      ],
      "source": [
        "pip install pytube"
      ]
    },
    {
      "cell_type": "code",
      "source": [
        "pip install youtube-transcript-api"
      ],
      "metadata": {
        "colab": {
          "base_uri": "https://localhost:8080/"
        },
        "id": "Ow8s2zLzTbA3",
        "outputId": "da12c0b4-e659-4139-8f38-bb7f89339983"
      },
      "execution_count": null,
      "outputs": [
        {
          "output_type": "stream",
          "name": "stdout",
          "text": [
            "Collecting youtube-transcript-api\n",
            "  Downloading youtube_transcript_api-0.6.1-py3-none-any.whl (24 kB)\n",
            "Requirement already satisfied: requests in /usr/local/lib/python3.10/dist-packages (from youtube-transcript-api) (2.31.0)\n",
            "Requirement already satisfied: charset-normalizer<4,>=2 in /usr/local/lib/python3.10/dist-packages (from requests->youtube-transcript-api) (3.3.2)\n",
            "Requirement already satisfied: idna<4,>=2.5 in /usr/local/lib/python3.10/dist-packages (from requests->youtube-transcript-api) (3.6)\n",
            "Requirement already satisfied: urllib3<3,>=1.21.1 in /usr/local/lib/python3.10/dist-packages (from requests->youtube-transcript-api) (2.0.7)\n",
            "Requirement already satisfied: certifi>=2017.4.17 in /usr/local/lib/python3.10/dist-packages (from requests->youtube-transcript-api) (2023.11.17)\n",
            "Installing collected packages: youtube-transcript-api\n",
            "Successfully installed youtube-transcript-api-0.6.1\n"
          ]
        }
      ]
    },
    {
      "cell_type": "code",
      "source": [
        "from pytube import Playlist, YouTube\n",
        "import os\n",
        "import re\n",
        "from youtube_transcript_api import YouTubeTranscriptApi"
      ],
      "metadata": {
        "id": "fP3smV_rUDpc"
      },
      "execution_count": null,
      "outputs": []
    },
    {
      "cell_type": "code",
      "source": [
        "playlist = Playlist('https://www.youtube.com/playlist?list=PLI1yx5Z0Lrv77D_g1tvF9u3FVqnrNbCRL')\n",
        "playlist_name = re.sub(r'\\W+', '-', playlist.title)\n",
        "playlist_path = playlist_name"
      ],
      "metadata": {
        "id": "rW7JqmSQVWUp"
      },
      "execution_count": null,
      "outputs": []
    },
    {
      "cell_type": "code",
      "source": [
        "for video in playlist.videos[3:13]:\n",
        "  video_title = video.title;\n",
        "  video_id = video.video_id\n",
        "\n",
        "  print('for video ' + video_title)\n",
        "\n",
        "  #download video\n",
        "  highest_res_stream = video.streams.get_highest_resolution()\n",
        "  print('downloading video')\n",
        "  video_path = os.path.join(playlist_path, 'videos')\n",
        "  highest_res_stream.download(video_path)\n",
        "  print('done downloading video')\n",
        "\n",
        "  #download captions\n",
        "  print('downloading captions')\n",
        "  caption = YouTubeTranscriptApi.get_transcript(video_id)\n",
        "  caption_path = os.path.join(playlist_path, 'captions')\n",
        "  os.makedirs(caption_path, exist_ok=True)\n",
        "  with open(os.path.join(caption_path, video_title), 'w') as f:\n",
        "    for i in caption:\n",
        "      f.write(\"{}\\n\".format(i))\n",
        "  print('done downloading captions')"
      ],
      "metadata": {
        "colab": {
          "base_uri": "https://localhost:8080/",
          "height": 427
        },
        "id": "6PyHiBsVV_cA",
        "outputId": "07bba641-0ed3-4393-f4ee-7c949d350661"
      },
      "execution_count": null,
      "outputs": [
        {
          "output_type": "stream",
          "name": "stdout",
          "text": [
            "for video President Joe Biden: The 2023 60 Minutes Interview\n"
          ]
        },
        {
          "output_type": "error",
          "ename": "AgeRestrictedError",
          "evalue": "ignored",
          "traceback": [
            "\u001b[0;31m---------------------------------------------------------------------------\u001b[0m",
            "\u001b[0;31mAgeRestrictedError\u001b[0m                        Traceback (most recent call last)",
            "\u001b[0;32m<ipython-input-7-849c266d7eaa>\u001b[0m in \u001b[0;36m<cell line: 1>\u001b[0;34m()\u001b[0m\n\u001b[1;32m      6\u001b[0m \u001b[0;34m\u001b[0m\u001b[0m\n\u001b[1;32m      7\u001b[0m   \u001b[0;31m#download video\u001b[0m\u001b[0;34m\u001b[0m\u001b[0;34m\u001b[0m\u001b[0m\n\u001b[0;32m----> 8\u001b[0;31m   \u001b[0mhighest_res_stream\u001b[0m \u001b[0;34m=\u001b[0m \u001b[0mvideo\u001b[0m\u001b[0;34m.\u001b[0m\u001b[0mstreams\u001b[0m\u001b[0;34m.\u001b[0m\u001b[0mget_highest_resolution\u001b[0m\u001b[0;34m(\u001b[0m\u001b[0;34m)\u001b[0m\u001b[0;34m\u001b[0m\u001b[0;34m\u001b[0m\u001b[0m\n\u001b[0m\u001b[1;32m      9\u001b[0m   \u001b[0mprint\u001b[0m\u001b[0;34m(\u001b[0m\u001b[0;34m'downloading video'\u001b[0m\u001b[0;34m)\u001b[0m\u001b[0;34m\u001b[0m\u001b[0;34m\u001b[0m\u001b[0m\n\u001b[1;32m     10\u001b[0m   \u001b[0mvideo_path\u001b[0m \u001b[0;34m=\u001b[0m \u001b[0mos\u001b[0m\u001b[0;34m.\u001b[0m\u001b[0mpath\u001b[0m\u001b[0;34m.\u001b[0m\u001b[0mjoin\u001b[0m\u001b[0;34m(\u001b[0m\u001b[0mplaylist_path\u001b[0m\u001b[0;34m,\u001b[0m \u001b[0;34m'videos'\u001b[0m\u001b[0;34m)\u001b[0m\u001b[0;34m\u001b[0m\u001b[0;34m\u001b[0m\u001b[0m\n",
            "\u001b[0;32m/usr/local/lib/python3.10/dist-packages/pytube/__main__.py\u001b[0m in \u001b[0;36mstreams\u001b[0;34m(self)\u001b[0m\n\u001b[1;32m    294\u001b[0m         \"\"\"\n\u001b[1;32m    295\u001b[0m         \u001b[0mself\u001b[0m\u001b[0;34m.\u001b[0m\u001b[0mcheck_availability\u001b[0m\u001b[0;34m(\u001b[0m\u001b[0;34m)\u001b[0m\u001b[0;34m\u001b[0m\u001b[0;34m\u001b[0m\u001b[0m\n\u001b[0;32m--> 296\u001b[0;31m         \u001b[0;32mreturn\u001b[0m \u001b[0mStreamQuery\u001b[0m\u001b[0;34m(\u001b[0m\u001b[0mself\u001b[0m\u001b[0;34m.\u001b[0m\u001b[0mfmt_streams\u001b[0m\u001b[0;34m)\u001b[0m\u001b[0;34m\u001b[0m\u001b[0;34m\u001b[0m\u001b[0m\n\u001b[0m\u001b[1;32m    297\u001b[0m \u001b[0;34m\u001b[0m\u001b[0m\n\u001b[1;32m    298\u001b[0m     \u001b[0;34m@\u001b[0m\u001b[0mproperty\u001b[0m\u001b[0;34m\u001b[0m\u001b[0;34m\u001b[0m\u001b[0m\n",
            "\u001b[0;32m/usr/local/lib/python3.10/dist-packages/pytube/__main__.py\u001b[0m in \u001b[0;36mfmt_streams\u001b[0;34m(self)\u001b[0m\n\u001b[1;32m    174\u001b[0m         \u001b[0mself\u001b[0m\u001b[0;34m.\u001b[0m\u001b[0m_fmt_streams\u001b[0m \u001b[0;34m=\u001b[0m \u001b[0;34m[\u001b[0m\u001b[0;34m]\u001b[0m\u001b[0;34m\u001b[0m\u001b[0;34m\u001b[0m\u001b[0m\n\u001b[1;32m    175\u001b[0m \u001b[0;34m\u001b[0m\u001b[0m\n\u001b[0;32m--> 176\u001b[0;31m         \u001b[0mstream_manifest\u001b[0m \u001b[0;34m=\u001b[0m \u001b[0mextract\u001b[0m\u001b[0;34m.\u001b[0m\u001b[0mapply_descrambler\u001b[0m\u001b[0;34m(\u001b[0m\u001b[0mself\u001b[0m\u001b[0;34m.\u001b[0m\u001b[0mstreaming_data\u001b[0m\u001b[0;34m)\u001b[0m\u001b[0;34m\u001b[0m\u001b[0;34m\u001b[0m\u001b[0m\n\u001b[0m\u001b[1;32m    177\u001b[0m \u001b[0;34m\u001b[0m\u001b[0m\n\u001b[1;32m    178\u001b[0m         \u001b[0;31m# If the cached js doesn't work, try fetching a new js file\u001b[0m\u001b[0;34m\u001b[0m\u001b[0;34m\u001b[0m\u001b[0m\n",
            "\u001b[0;32m/usr/local/lib/python3.10/dist-packages/pytube/__main__.py\u001b[0m in \u001b[0;36mstreaming_data\u001b[0;34m(self)\u001b[0m\n\u001b[1;32m    158\u001b[0m             \u001b[0;32mreturn\u001b[0m \u001b[0mself\u001b[0m\u001b[0;34m.\u001b[0m\u001b[0mvid_info\u001b[0m\u001b[0;34m[\u001b[0m\u001b[0;34m'streamingData'\u001b[0m\u001b[0;34m]\u001b[0m\u001b[0;34m\u001b[0m\u001b[0;34m\u001b[0m\u001b[0m\n\u001b[1;32m    159\u001b[0m         \u001b[0;32melse\u001b[0m\u001b[0;34m:\u001b[0m\u001b[0;34m\u001b[0m\u001b[0;34m\u001b[0m\u001b[0m\n\u001b[0;32m--> 160\u001b[0;31m             \u001b[0mself\u001b[0m\u001b[0;34m.\u001b[0m\u001b[0mbypass_age_gate\u001b[0m\u001b[0;34m(\u001b[0m\u001b[0;34m)\u001b[0m\u001b[0;34m\u001b[0m\u001b[0;34m\u001b[0m\u001b[0m\n\u001b[0m\u001b[1;32m    161\u001b[0m             \u001b[0;32mreturn\u001b[0m \u001b[0mself\u001b[0m\u001b[0;34m.\u001b[0m\u001b[0mvid_info\u001b[0m\u001b[0;34m[\u001b[0m\u001b[0;34m'streamingData'\u001b[0m\u001b[0;34m]\u001b[0m\u001b[0;34m\u001b[0m\u001b[0;34m\u001b[0m\u001b[0m\n\u001b[1;32m    162\u001b[0m \u001b[0;34m\u001b[0m\u001b[0m\n",
            "\u001b[0;32m/usr/local/lib/python3.10/dist-packages/pytube/__main__.py\u001b[0m in \u001b[0;36mbypass_age_gate\u001b[0;34m(self)\u001b[0m\n\u001b[1;32m    262\u001b[0m         \u001b[0;31m# (tier 3 age restriction)\u001b[0m\u001b[0;34m\u001b[0m\u001b[0;34m\u001b[0m\u001b[0m\n\u001b[1;32m    263\u001b[0m         \u001b[0;32mif\u001b[0m \u001b[0mplayability_status\u001b[0m \u001b[0;34m==\u001b[0m \u001b[0;34m'UNPLAYABLE'\u001b[0m\u001b[0;34m:\u001b[0m\u001b[0;34m\u001b[0m\u001b[0;34m\u001b[0m\u001b[0m\n\u001b[0;32m--> 264\u001b[0;31m             \u001b[0;32mraise\u001b[0m \u001b[0mexceptions\u001b[0m\u001b[0;34m.\u001b[0m\u001b[0mAgeRestrictedError\u001b[0m\u001b[0;34m(\u001b[0m\u001b[0mself\u001b[0m\u001b[0;34m.\u001b[0m\u001b[0mvideo_id\u001b[0m\u001b[0;34m)\u001b[0m\u001b[0;34m\u001b[0m\u001b[0;34m\u001b[0m\u001b[0m\n\u001b[0m\u001b[1;32m    265\u001b[0m \u001b[0;34m\u001b[0m\u001b[0m\n\u001b[1;32m    266\u001b[0m         \u001b[0mself\u001b[0m\u001b[0;34m.\u001b[0m\u001b[0m_vid_info\u001b[0m \u001b[0;34m=\u001b[0m \u001b[0minnertube_response\u001b[0m\u001b[0;34m\u001b[0m\u001b[0;34m\u001b[0m\u001b[0m\n",
            "\u001b[0;31mAgeRestrictedError\u001b[0m: d403nALfQrE is age restricted, and can't be accessed without logging in."
          ]
        }
      ]
    },
    {
      "cell_type": "markdown",
      "source": [
        "#Milestone 2"
      ],
      "metadata": {
        "id": "bb6r7R2korxa"
      }
    },
    {
      "cell_type": "markdown",
      "source": [
        "###extract audio from video"
      ],
      "metadata": {
        "id": "jJFiI_wftJdg"
      }
    },
    {
      "cell_type": "code",
      "source": [
        "pip install moviepy"
      ],
      "metadata": {
        "colab": {
          "base_uri": "https://localhost:8080/"
        },
        "id": "UG1SivGjouwi",
        "outputId": "b36384ad-a847-44b4-b7e0-d1707d595ec3"
      },
      "execution_count": null,
      "outputs": [
        {
          "output_type": "stream",
          "name": "stdout",
          "text": [
            "Requirement already satisfied: moviepy in /usr/local/lib/python3.10/dist-packages (1.0.3)\n",
            "Requirement already satisfied: decorator<5.0,>=4.0.2 in /usr/local/lib/python3.10/dist-packages (from moviepy) (4.4.2)\n",
            "Requirement already satisfied: tqdm<5.0,>=4.11.2 in /usr/local/lib/python3.10/dist-packages (from moviepy) (4.66.1)\n",
            "Requirement already satisfied: requests<3.0,>=2.8.1 in /usr/local/lib/python3.10/dist-packages (from moviepy) (2.31.0)\n",
            "Requirement already satisfied: proglog<=1.0.0 in /usr/local/lib/python3.10/dist-packages (from moviepy) (0.1.10)\n",
            "Requirement already satisfied: numpy>=1.17.3 in /usr/local/lib/python3.10/dist-packages (from moviepy) (1.23.5)\n",
            "Requirement already satisfied: imageio<3.0,>=2.5 in /usr/local/lib/python3.10/dist-packages (from moviepy) (2.31.6)\n",
            "Requirement already satisfied: imageio-ffmpeg>=0.2.0 in /usr/local/lib/python3.10/dist-packages (from moviepy) (0.4.9)\n",
            "Requirement already satisfied: pillow<10.1.0,>=8.3.2 in /usr/local/lib/python3.10/dist-packages (from imageio<3.0,>=2.5->moviepy) (9.4.0)\n",
            "Requirement already satisfied: setuptools in /usr/local/lib/python3.10/dist-packages (from imageio-ffmpeg>=0.2.0->moviepy) (67.7.2)\n",
            "Requirement already satisfied: charset-normalizer<4,>=2 in /usr/local/lib/python3.10/dist-packages (from requests<3.0,>=2.8.1->moviepy) (3.3.2)\n",
            "Requirement already satisfied: idna<4,>=2.5 in /usr/local/lib/python3.10/dist-packages (from requests<3.0,>=2.8.1->moviepy) (3.6)\n",
            "Requirement already satisfied: urllib3<3,>=1.21.1 in /usr/local/lib/python3.10/dist-packages (from requests<3.0,>=2.8.1->moviepy) (2.0.7)\n",
            "Requirement already satisfied: certifi>=2017.4.17 in /usr/local/lib/python3.10/dist-packages (from requests<3.0,>=2.8.1->moviepy) (2023.11.17)\n"
          ]
        }
      ]
    },
    {
      "cell_type": "code",
      "source": [
        "import moviepy.editor as mp\n",
        "\n",
        "for videos in os.listdir(video_path):\n",
        "    audio_path = os.path.join(playlist_path, 'audio')\n",
        "    os.makedirs(audio_path, exist_ok=True)\n",
        "    video = mp.VideoFileClip(video_path + '/' + videos)\n",
        "    audio = video.audio\n",
        "    audio_file = os.path.join(audio_path, videos.strip('.mp4') + '.mp3')\n",
        "    audio.write_audiofile(audio_file)"
      ],
      "metadata": {
        "id": "olU9FLXfp5Kz",
        "colab": {
          "base_uri": "https://localhost:8080/"
        },
        "outputId": "ed071d67-0c1a-4a0d-c0af-423251199f48"
      },
      "execution_count": null,
      "outputs": [
        {
          "output_type": "stream",
          "name": "stdout",
          "text": [
            "MoviePy - Writing audio in Interviews/audio/World Number 1 Pool Player Shane Van Boening The 60 Minutes Interview.mp3\n"
          ]
        },
        {
          "output_type": "stream",
          "name": "stderr",
          "text": []
        },
        {
          "output_type": "stream",
          "name": "stdout",
          "text": [
            "MoviePy - Done.\n",
            "MoviePy - Writing audio in Interviews/audio/Attorney General Merrick Garland The 60 Minutes Interview.mp3\n"
          ]
        },
        {
          "output_type": "stream",
          "name": "stderr",
          "text": []
        },
        {
          "output_type": "stream",
          "name": "stdout",
          "text": [
            "MoviePy - Done.\n",
            "MoviePy - Writing audio in Interviews/audio/Rich Paul The 60 Minutes Interview.mp3\n"
          ]
        },
        {
          "output_type": "stream",
          "name": "stderr",
          "text": []
        },
        {
          "output_type": "stream",
          "name": "stdout",
          "text": [
            "MoviePy - Done.\n",
            "MoviePy - Writing audio in Interviews/audio/Alexey Navalny The 2020 60 Minutes Interview.mp3\n"
          ]
        },
        {
          "output_type": "stream",
          "name": "stderr",
          "text": []
        },
        {
          "output_type": "stream",
          "name": "stdout",
          "text": [
            "MoviePy - Done.\n",
            "MoviePy - Writing audio in Interviews/audio/Deion Sanders The 2023 60 Minutes Interview.mp3\n"
          ]
        },
        {
          "output_type": "stream",
          "name": "stderr",
          "text": []
        },
        {
          "output_type": "stream",
          "name": "stdout",
          "text": [
            "MoviePy - Done.\n",
            "MoviePy - Writing audio in Interviews/audio/Gen Mark Milley The 60 Minutes Interview.mp3\n"
          ]
        },
        {
          "output_type": "stream",
          "name": "stderr",
          "text": []
        },
        {
          "output_type": "stream",
          "name": "stdout",
          "text": [
            "MoviePy - Done.\n",
            "MoviePy - Writing audio in Interviews/audio/Denzel Washington  60 Minutes Archive.mp3\n"
          ]
        },
        {
          "output_type": "stream",
          "name": "stderr",
          "text": []
        },
        {
          "output_type": "stream",
          "name": "stdout",
          "text": [
            "MoviePy - Done.\n",
            "MoviePy - Writing audio in Interviews/audio/Yannick Nézet-Séguin The 60 Minutes Interview.mp3\n"
          ]
        },
        {
          "output_type": "stream",
          "name": "stderr",
          "text": []
        },
        {
          "output_type": "stream",
          "name": "stdout",
          "text": [
            "MoviePy - Done.\n",
            "MoviePy - Writing audio in Interviews/audio/Volodymyr Zelenskyy The 2023 60 Minutes Interview.mp3\n"
          ]
        },
        {
          "output_type": "stream",
          "name": "stderr",
          "text": []
        },
        {
          "output_type": "stream",
          "name": "stdout",
          "text": [
            "MoviePy - Done.\n",
            "MoviePy - Writing audio in Interviews/audio/Godfather of AI Geoffrey Hinton The 60 Minutes Interview.mp3\n"
          ]
        },
        {
          "output_type": "stream",
          "name": "stderr",
          "text": [
            "                                                                        "
          ]
        },
        {
          "output_type": "stream",
          "name": "stdout",
          "text": [
            "MoviePy - Done.\n"
          ]
        },
        {
          "output_type": "stream",
          "name": "stderr",
          "text": [
            "\r"
          ]
        }
      ]
    },
    {
      "cell_type": "markdown",
      "source": [
        "###convert audio to text"
      ],
      "metadata": {
        "id": "onbkVmrftLX0"
      }
    },
    {
      "cell_type": "code",
      "source": [
        "pip install git+https://github.com/openai/whisper.git -q"
      ],
      "metadata": {
        "colab": {
          "base_uri": "https://localhost:8080/"
        },
        "id": "7WaL0N0v1YnJ",
        "outputId": "aabf3584-0174-4345-e1f9-edc4c540d355"
      },
      "execution_count": null,
      "outputs": [
        {
          "output_type": "stream",
          "name": "stdout",
          "text": [
            "  Installing build dependencies ... \u001b[?25l\u001b[?25hdone\n",
            "  Getting requirements to build wheel ... \u001b[?25l\u001b[?25hdone\n",
            "  Preparing metadata (pyproject.toml) ... \u001b[?25l\u001b[?25hdone\n"
          ]
        }
      ]
    },
    {
      "cell_type": "code",
      "source": [
        "import whisper\n",
        "\n",
        "for audios in os.listdir(audio_path):\n",
        "    text_path = os.path.join(playlist_path, 'text')\n",
        "    os.makedirs(text_path, exist_ok=True)\n",
        "    model = whisper.load_model('base')\n",
        "    print('transcribing ' + audios)\n",
        "    text = model.transcribe(audio_path + '/' + audios)\n",
        "    text_file = os.path.join(text_path, audios.strip('.mp3'))\n",
        "    with open(text_file, 'w', encoding='utf-8') as txt:\n",
        "      txt.write(text['text'])"
      ],
      "metadata": {
        "id": "6pkoPBtktTTY",
        "colab": {
          "base_uri": "https://localhost:8080/"
        },
        "outputId": "f21feff0-5f21-401a-a61d-387c498890c0"
      },
      "execution_count": null,
      "outputs": [
        {
          "output_type": "stream",
          "name": "stdout",
          "text": [
            "transcribing Volodymyr Zelenskyy The 2023 60 Minutes Interview.mp3\n",
            "transcribing Gen Mark Milley The 60 Minutes Interview.mp3\n",
            "transcribing Deion Sanders The 2023 60 Minutes Interview.mp3\n",
            "transcribing Yannick Nézet-Séguin The 60 Minutes Interview.mp3\n",
            "transcribing Attorney General Merrick Garland The 60 Minutes Interview.mp3\n",
            "transcribing Godfather of AI Geoffrey Hinton The 60 Minutes Interview.mp3\n",
            "transcribing Rich Paul The 60 Minutes Interview.mp3\n",
            "transcribing Denzel Washington  60 Minutes Archive.mp3\n",
            "transcribing World Number 1 Pool Player Shane Van Boening The 60 Minutes Interview.mp3\n",
            "transcribing Alexey Navalny The 2020 60 Minutes Interview.mp3\n"
          ]
        }
      ]
    },
    {
      "cell_type": "markdown",
      "source": [
        "#Milestone 3"
      ],
      "metadata": {
        "id": "rd_sHowL7fVN"
      }
    },
    {
      "cell_type": "code",
      "source": [
        "pip install transformers"
      ],
      "metadata": {
        "id": "WuQUnzzMSMYT",
        "colab": {
          "base_uri": "https://localhost:8080/"
        },
        "outputId": "d10120f1-8ea8-411d-e606-31e6a2f2d6be"
      },
      "execution_count": null,
      "outputs": [
        {
          "output_type": "stream",
          "name": "stdout",
          "text": [
            "Requirement already satisfied: transformers in /usr/local/lib/python3.10/dist-packages (4.35.2)\n",
            "Requirement already satisfied: filelock in /usr/local/lib/python3.10/dist-packages (from transformers) (3.13.1)\n",
            "Requirement already satisfied: huggingface-hub<1.0,>=0.16.4 in /usr/local/lib/python3.10/dist-packages (from transformers) (0.19.4)\n",
            "Requirement already satisfied: numpy>=1.17 in /usr/local/lib/python3.10/dist-packages (from transformers) (1.23.5)\n",
            "Requirement already satisfied: packaging>=20.0 in /usr/local/lib/python3.10/dist-packages (from transformers) (23.2)\n",
            "Requirement already satisfied: pyyaml>=5.1 in /usr/local/lib/python3.10/dist-packages (from transformers) (6.0.1)\n",
            "Requirement already satisfied: regex!=2019.12.17 in /usr/local/lib/python3.10/dist-packages (from transformers) (2023.6.3)\n",
            "Requirement already satisfied: requests in /usr/local/lib/python3.10/dist-packages (from transformers) (2.31.0)\n",
            "Requirement already satisfied: tokenizers<0.19,>=0.14 in /usr/local/lib/python3.10/dist-packages (from transformers) (0.15.0)\n",
            "Requirement already satisfied: safetensors>=0.3.1 in /usr/local/lib/python3.10/dist-packages (from transformers) (0.4.1)\n",
            "Requirement already satisfied: tqdm>=4.27 in /usr/local/lib/python3.10/dist-packages (from transformers) (4.66.1)\n",
            "Requirement already satisfied: fsspec>=2023.5.0 in /usr/local/lib/python3.10/dist-packages (from huggingface-hub<1.0,>=0.16.4->transformers) (2023.6.0)\n",
            "Requirement already satisfied: typing-extensions>=3.7.4.3 in /usr/local/lib/python3.10/dist-packages (from huggingface-hub<1.0,>=0.16.4->transformers) (4.5.0)\n",
            "Requirement already satisfied: charset-normalizer<4,>=2 in /usr/local/lib/python3.10/dist-packages (from requests->transformers) (3.3.2)\n",
            "Requirement already satisfied: idna<4,>=2.5 in /usr/local/lib/python3.10/dist-packages (from requests->transformers) (3.6)\n",
            "Requirement already satisfied: urllib3<3,>=1.21.1 in /usr/local/lib/python3.10/dist-packages (from requests->transformers) (2.0.7)\n",
            "Requirement already satisfied: certifi>=2017.4.17 in /usr/local/lib/python3.10/dist-packages (from requests->transformers) (2023.11.17)\n"
          ]
        }
      ]
    },
    {
      "cell_type": "code",
      "source": [
        "pip install sentencepiece"
      ],
      "metadata": {
        "colab": {
          "base_uri": "https://localhost:8080/"
        },
        "id": "ivJ4LP9ilq40",
        "outputId": "04de2787-f39e-4550-bec9-7906fa3caec5"
      },
      "execution_count": null,
      "outputs": [
        {
          "output_type": "stream",
          "name": "stdout",
          "text": [
            "Requirement already satisfied: sentencepiece in /usr/local/lib/python3.10/dist-packages (0.1.99)\n"
          ]
        }
      ]
    },
    {
      "cell_type": "code",
      "source": [
        "from transformers import MarianMTModel, MarianTokenizer\n",
        "import json\n",
        "import os\n",
        "\n",
        "def translate_text(text, model, tokenizer):\n",
        "    inputs = tokenizer(text['text'], return_tensors=\"pt\", padding=True)\n",
        "    translated = model.generate(**inputs)\n",
        "    translated_text = tokenizer.decode(translated[0], skip_special_tokens=True)\n",
        "\n",
        "    return {\"text\": translated_text, \"start\": text[\"start\"], \"end\": text[\"end\"]}\n",
        "\n",
        "def translate(target_language, text_directory):\n",
        "    model_name = f'Helsinki-NLP/opus-mt-en-{target_language}'\n",
        "    model = MarianMTModel.from_pretrained(model_name)\n",
        "    tokenizer = MarianTokenizer.from_pretrained(model_name, use_fast=False)\n",
        "\n",
        "    for text_file in os.listdir(text_directory):\n",
        "            output_dir = os.path.join(root, 'target text')\n",
        "            os.makedirs(output_dir, exist_ok=True)\n",
        "\n",
        "            output_file_path = os.path.join(output_dir, f\"{text_file}\")\n",
        "\n",
        "            if not os.path.isfile(output_file_path):\n",
        "                print(f'translating {text_file}')\n",
        "                file_path = os.path.join(text_directory, text_file)\n",
        "                with open(file_path, 'r', encoding='utf-8') as file:\n",
        "                    json_data = json.load(file)\n",
        "\n",
        "                    translation = [translate_text(item, model, tokenizer) for item in json_data]\n",
        "                    json_str = json.dumps(translation)\n",
        "\n",
        "                    with open(output_file_path, 'w', encoding='utf-8') as output_file:\n",
        "                        output_file.write(json_str)\n",
        "\n",
        "root = '/content/gdrive/MyDrive/F23/CS370/CS370 project/Interviews'\n",
        "text_directory = os.path.join(root, 'text')\n",
        "target_language = 'fr'\n",
        "translate(target_language, text_directory)"
      ],
      "metadata": {
        "id": "mCSzsexmSN6T",
        "colab": {
          "base_uri": "https://localhost:8080/",
          "height": 589,
          "referenced_widgets": [
            "f323710303a14f4eaff50d60c534bae3",
            "7c98a7bdc78442458f8857d7a6696696",
            "42b7446f6da8434a9e3c1bc1cdf49f06",
            "db49a0aa741f414384fa9618f7d04510",
            "27f0e14e1e014adfb32ea04c8f608f16",
            "de665f9321af4b2bb1d7e16ac933be1f",
            "52960db9bf9844f99d89131f8ac3279c",
            "05fbe77130834906ad9c8c4e7471f74c",
            "080e48cf2579425fbb42300bd5c247e7",
            "8ac49d33d68a426789d0a89e830ec4a5",
            "35f245a5dfad4905a9253823a90c79ce",
            "f1796c16475a431198f67815d5a00dfd",
            "415941b7ff9a4df68211275316b59615",
            "4a7dda3319fe41ff94b07a958cf53b7f",
            "5d6959a6012247359315bb0c4d038329",
            "83bdf273cbe040658942d13f01ddd779",
            "c167a69d2ce3415c8a7ac67b1de42e8e",
            "5e8594603ed4454eb122115d2113c386",
            "8b0fb72962d5450dbea1f0c0019c047c",
            "24db4136a35249cd92d9baf9ceb7e4ef",
            "8b098d58a0d74d28b26ba18491b4e4b9",
            "9fe03f1ccdeb4e6d8ac2225f1b7f9438",
            "48feaea3a51f4c658e6dca869f799458",
            "99fec747e653413eb616f81d1b5944cd",
            "14597d19a77542ce89915c28f0c5a5ea",
            "5eaf94e9688c4f62943089c6406c9193",
            "15c926551d794aa1b85926caf9208849",
            "75d50c3f2af14d369b9a5bdf233066f3",
            "1ea1240f37264c0981f17cef10c016c6",
            "d930fe450d514bac818855614d23f86d",
            "25173a94737144548c397d1c3ed34c27",
            "0be7be6af46441aa81fda50f0b442c13",
            "29e4ac836e2849c6a6f1fac9bdd54f4c",
            "4d6ebc80dcc445e4991d0170b69e6e28",
            "07a30b62d931463799a87c7cca397ba4",
            "4cfbc44d26c64d52bb51cb398ec7cc3e",
            "10ca778d93b44a8a84706a91db3b3e4d",
            "da8ce4171ef747389ec4f076dff41fec",
            "4b62e9bd687046ef827328be5cc073e7",
            "eed4b485ca6e48c68ffc920b5da8a4c5",
            "71917343a1a84bf3947271d91a7ff285",
            "6ed5aa9590124b50bc3ffe451d5ca102",
            "34a861aff4674bcea796c96370315e6b",
            "e54fbaca508a4d638ce039579491a0df"
          ]
        },
        "outputId": "5829e12b-5a50-4007-f094-6606f37d49e9"
      },
      "execution_count": null,
      "outputs": [
        {
          "output_type": "display_data",
          "data": {
            "text/plain": [
              "tokenizer_config.json:   0%|          | 0.00/42.0 [00:00<?, ?B/s]"
            ],
            "application/vnd.jupyter.widget-view+json": {
              "version_major": 2,
              "version_minor": 0,
              "model_id": "f323710303a14f4eaff50d60c534bae3"
            }
          },
          "metadata": {}
        },
        {
          "output_type": "display_data",
          "data": {
            "text/plain": [
              "source.spm:   0%|          | 0.00/778k [00:00<?, ?B/s]"
            ],
            "application/vnd.jupyter.widget-view+json": {
              "version_major": 2,
              "version_minor": 0,
              "model_id": "f1796c16475a431198f67815d5a00dfd"
            }
          },
          "metadata": {}
        },
        {
          "output_type": "display_data",
          "data": {
            "text/plain": [
              "target.spm:   0%|          | 0.00/802k [00:00<?, ?B/s]"
            ],
            "application/vnd.jupyter.widget-view+json": {
              "version_major": 2,
              "version_minor": 0,
              "model_id": "48feaea3a51f4c658e6dca869f799458"
            }
          },
          "metadata": {}
        },
        {
          "output_type": "display_data",
          "data": {
            "text/plain": [
              "vocab.json:   0%|          | 0.00/1.34M [00:00<?, ?B/s]"
            ],
            "application/vnd.jupyter.widget-view+json": {
              "version_major": 2,
              "version_minor": 0,
              "model_id": "4d6ebc80dcc445e4991d0170b69e6e28"
            }
          },
          "metadata": {}
        },
        {
          "output_type": "stream",
          "name": "stderr",
          "text": [
            "WARNING:py.warnings:/usr/local/lib/python3.10/dist-packages/transformers/models/marian/tokenization_marian.py:197: UserWarning: Recommended: pip install sacremoses.\n",
            "  warnings.warn(\"Recommended: pip install sacremoses.\")\n",
            "\n"
          ]
        },
        {
          "output_type": "stream",
          "name": "stdout",
          "text": [
            "Translation of Gen Mark Milley The 60 Minutes Interview:\n",
            "Le général Mark Milley a terminé un mandat de quatre ans en tant que président des chefs d'état-major interarmées, le plus haut officier de la nation le 30 septembre. Il nous a dit qu'il a passé la majeure partie de son temps à travailler pour éviter un conflit direct avec la Russie et la Chine, tandis que le pays l'a regardé avoir un très public tomber avec l'ancien président Trump, l'homme qui l'a choisi pour le poste. istan, ainsi que fournir à l'Ukraine des milliards de dollars d'équipement militaire américain. Quelques heures avant que nous nous asseyions avec le général au Pentagone, il a eu son dernier appel téléphonique avec le commandant des forces armées ukrainiennes. L'histoire va se poursuivre dans un moment. La contre-offensive que les Ukrainiens courent est toujours en cours. Le progrès a beaucoup, beaucoup de gens ont remarqué que c'est lent, mais il est régulier, et ils font des progrès au jour le jour. La Russie occupe 41 000 milles carrés d'Ukraine. La ligne de front s'étend sur la distance entre Atlanta et Washington, D.C. Au Congrès cette semaine, les républicains ont mis fin à la présidence de Kevin McCarthy, et pour l'instant, plus d'aide à l'Ukraine. Si l'Ukraine perd, et Poutine gagne, je pense que vous augmenteriez certainement si vous ne doublez pas votre budget de défense dans les années à venir, et vous augmenterez la probabilité d'une grande guerre de puissance dans les 10 à 15 prochaines années. Je pense que ce serait une situation très dangereuse si Poutine est autorisé à gagner. Ukraine, Russie est évidemment ce que dr Je suis obligé, quelles que soient les conséquences, de donner mes conseils au président, mais aucun président n'est obligé de suivre ces conseils. En août dernier, le général Milley nous a invités à bord de la constitution USS à Boston Harbor, non loin de l'endroit où il a grandi. En 2021, le général Milley avait conseillé au président Biden de garder 2 500 soldats à Kaboul et dans les environs. M. Biden a plutôt ordonné un retrait complet pour mettre fin à la guerre la plus longue de l'Amérique après 20 ans. La catastrophe qui a suivi fera partie de leurs deux legs. Je passe par tout le retrait de l'Afghanistan, chapitre en vers, un C'était un échec stratégique pour les États-Unis. L'ennemi occupait la capitale du pays que vous souteniez. Donc, pour moi, ça fait mal. Ça fait mal, mais quelle que soit la douleur que je ressens ou que quelqu'un d'autre ressente, rien ne se rapproche même de la douleur de ceux qui ont été tués. Pour ceux qui ont servi en Afghanistan pendant deux décennies, des membres de la famille et des amis perdus et se demandent si cela en valait la peine? C'est toujours la question, n'est-ce pas? Mais je ne peux pas répondre à cela pour d'autres personnes. C'est une affaire difficile dans laquelle nous sommes, cette affaire militaire. C'est impitoyable, le creuset du combat est impitoyable. Les gens meurent, ils perdent leurs bras, ils perdent leurs jambes. C'est une vie incroyablement difficile. Mais est-ce que cela en vaut la peine? Regardez autour de vous. Posez-vous la question. Pour moi, je l'ai répondu plusieurs fois et c'est pourquoi je reste en uniforme et c'est pourquoi je garde mon serment. Donc, leur relation a commencé par des mots aimables. Après l'insurrection du 6 janvier, les deux hommes ne parleraient plus. Leur éloignement public a commencé au printemps 2020 lorsque des protestations pour la justice raciale se sont répandues dans tout le pays, y compris à Washington, D.C. Peut-être plus que n'importe quel autre président dans le rôle que vous avez pris dans la politique et les menaces à la Constitution. Nous ne sommes pas seulement apolitiques, nous sommes non partisanes. Vous ne pouvez pas choisir de camp. 1er juin 2020. Était-ce un tournant pour vous en tant que président? Je pense que c'était, oui. J'ai réalisé qu'ils sont entrés dans un champ de mines politiques et je n'aurais pas dû. Il parle du jour où le président Trump a menacé d'invoquer l'acte d'insurrection et de déployer l'armée américaine pour mettre bas les troubles dans les rues de l'Amérique. Le soir du 1er juin, af Dix jours plus tard, le général Milley s'est excusé dans un discours prononcé devant des diplômés de l'Université de la Défense nationale. Ma présence à ce moment et dans cet environnement a créé une perception des militaires impliqués dans la politique intérieure. Il est rare qu'un président s'excuse publiquement. Eh bien, vous savez, j'ai grandi ici à Boston. J'étais catholique et ma mère et mon père m'ont appris que quand vous faites une erreur, vous l'avouez, vous allez à la confession, dire, 10 Je vous salue Marie et je vais père. Tout le monde fait des erreurs et la clé est comment vous faites face à l'erreur. Après vous vous êtes excusé, l'ancien président Trump a dit que vous avez étouffé comme un chien. Le général Milley nous a dit qu'il était si déçu par les actions de l'ancien président, il a failli démissionner. Au lieu de cela, selon l'ancien secrétaire de la Défense Mark Esper, lui et le général ont fait un pacte pour protéger les militaires de devenir politisés ou abusés. Il a également été rapporté que vous avez passé plusieurs jours, plusieurs projets de lettres de démission. J'ai été très frappé par celui qui a été publié. Dans lequel vous avez dit au président, c'est ma conviction profonde que vous êtes un Cette génération a lutté contre le fascisme, a lutté contre le nazisme, a lutté contre l'extrémisme. Il est maintenant évident pour moi que vous ne comprenez pas cet ordre mondial. Vous ne pensez pas que Donald Trump a compris ce qu'a été la Seconde Guerre mondiale? Je ne sais pas ce que l'ancien président Trump a compris sur la Seconde Guerre mondiale ou autre chose. Je peux vous dire que f En 1945, les États-Unis ont pris l'initiative d'élaborer un ensemble de règles qui gouvernent le monde à ce jour. Ces règles sont sous pression internationalement. Le président Poutine est une attaque frontale directe contre ces règles. La Chine essaie de les réviser à leur profit. Mais c'est une chose de dire que la Chine menace cet ordre mondial et la Russie menace cet ordre mondial. Pour dire que le commandant en chef Donald Trump ruine l'ordre international et cause des dégâts importants. Qu'avez-vous vu que cela vous a fait écrire cela? Je dirais que... Il faut que ce soit plus que de marcher sur la place Lafayette en uniforme. Il y avait une grande variété d'initiatives qui étaient en cours. L'une d'entre elles, bien sûr, je jette des troupes hors de l'OTAN. Ce sont des initiatives qui mettent en danger. Je pense que le rôle de l'Amérique dans le monde. Maintenant, c'est le contraire de ce que mes parents et 18 Le général Milley n'a pas seulement vénéré la plus grande génération. Il a été élevé par elle. Son père était un médecin de la marine qui a servi dans la campagne du Pacifique, y compris à la bataille d'Iwojima. Sa mère a rejoint la réserve navale pour travailler comme infirmière. Eh bien, c'était et reste un quartier très patriotique. Après la guerre, ils se sont installés à Winchester, une petite ville au nord de Boston. Presque tous les parents masculins et féminins qui étaient ici, ils ont wer Tous les vétérans de la Seconde Guerre mondiale d'une sorte ou d'une autre. Le bloc entier vraiment, beaucoup de gens. Oui, 100% et intéressant, pas d'officiers. Ils étaient 100% illicites et ils avaient leur propre opinion des officiers aussi. Y compris vos parents, pour tous. Pendant l'école secondaire, il a été recruté pour jouer au hockey sur glace à l'Université de Princeton et a décidé de rejoindre le Corps d'entraînement des officiers de réserve ou ROTC. Irak et trois en Afghanistan. En mai dernier, il est retourné à Princeton pour commander la classe de diplômé ROTC. Félicitations à chacun d'entre vous. Et a pris un intérêt particulier pour quelques-uns des jeunes officiers dont les compétences linguistiques sont actuellement en forte demande. Je parle chinois, monsieur. Le chinois est vraiment, vraiment important pour nous. N'importe qui d'autre parle chinois? Whoa, un, deux, trois, quatre, cinq. Si vous parlez chinois, si vous ne le permettez pas, je voudrais obtenir vos noms. Et nous verrons où la vie vous emmène les gars. Nous, les États-Unis, devons prendre le défi, le défi militaire de la Chine extraordinairement au sérieux. Dans quelle mesure êtes-vous inquiets que les communications militaires à militaires ne se produisent pas en ce moment, la Chine? Oui, je pense que nous devons faire cela établi. Nous les avons eus pendant une période de temps et puis ils sont tombés. Donc, les canaux de communication sont importants pour désescalader en temps de crise. Général Milley dit qu'il a tenu un total de cinq appels avec ses homologues militaires chinois duri Mais ce sont ses deux derniers appels au cours des derniers mois de la présidence Trump qui ont attiré l'attention de la presse, du Congrès et de l'ancien président lui-même. Pourquoi pensiez-vous qu'il était si important d'appeler votre homologue militaire chinois à la suite des attaques du 6 janvier? C'est un exemple de désescalade. Je ne parlerai donc pas exactement de ce que nous avons vu ou n'avons pas vu ou de ce que nous avons entendu ou n'avons pas entendu. Je dirai simplement qu'il y avait des indications claires que les Chinois étaient très inquiets. Le président Trump a récemment dit que vos relations avec la Chine étaient si flagrantes que dans les temps passés, la punition aurait été la mort. C'est vrai, il a dit cela. Nous avons répondu à ces questions plusieurs fois par écrit. Avez-vous donné des informations chinoises sur la pensée du président des États-Unis? La conversation spécifique a été, je pense, conformément à l'intention du secrétaire de la Défense, qui était de s'assurer que les Chinois savaient que nous n'allons pas les attaquer. Pourquoi les Chinois pensaient-ils que les États-Unis Les Chinois s'inquiétaient de ce que l'on appelle couramment en langues anglaises, comme une surprise d'octobre, gâchaient le chien genre de chose. Ils avaient tort, ils ne nous lisaient pas bien. Regardez, le président Trump n'allait pas attaquer la Chine, et ils devaient savoir que. La Chine, la Russie, et la guerre en Ukraine sont maintenant le problème de son successeur, le général de l'armée de l'air Charles, Q Brown Jr. Il y a aussi des domaines de préoccupation plus près de chez vous. L'armée a manqué ses effectifs de recrutement par 15 000 soldats, le pire déficit en décennies. La confiance dans l'armée américaine est à son plus bas en deux décennies. Est-ce que vous portez une responsabilité personnelle pour cela? Absolument. Je pense que, en tant que chef de l'armée, l'armée uniforme, je pense que je fais partie de cela pour sûr. Je pense que la marche de la Maison Blanche à la St. John Shers, je pense que cela a contribué à en créer une partie. Je pense que le retrait de l'Afghanistan a contribué à en créer une partie. Je pense que nous avons pris un peu de recul, et je pense que nous devons améliorer cela. Général Mark Milley sur l'avenir de la guerre. Est-ce que cela rend la guerre plus probable? \n",
            "Translation of World Number 1 Pool Player Shane Van Boening The 60 Minutes Interview:\n",
            "Vous vous attendez à ce qu'un sport de 600 ans ait joué à travers sa crise d'identité, pas le cas de la piscine. Le nom même du sport vient de la mise en commun de l'argent pour déterminer les chances, et de la balbutiement de la lentille piscine mystique. Hustling et piscine vont ensemble comme acoustique et craie, mais c'est autant une malédiction qu'une bénédiction. Comment un sport peut-il prospérer au plus haut niveau quand tant de choses existent dans l'ombre? Eh bien, voici Shane Van Boning de Rapid City. Comme nous vous l'avons dit pour la première fois en Décembre, à 39 ans sans intérêt pour ga Le jeune Dakota du Sud peut-il aider à transformer la piscine, populaire dans les bars et sous-sols, mais pas à la télévision, en un bon sport pro? Nous avons frappé le circuit avec lui pour le découvrir. L'histoire va se poursuivre dans un moment. Un autre jour, un autre hôtel de casino, Shane Van Boning passe 300 jours par an sur la route jouer à la piscine professionnelle. Aujourd'hui, il est en train d'horloger au début au jambo Derby City est une expression colorée de la personnalité partagée de la piscine. En bas, un océan en feutre, dessinant des dizaines des meilleurs praticiens du monde. Ils concourent 12 heures par jour pendant neuf jours dans de multiples événements. Ce gagnant sourit l'oreille à l'oreille, et son chèque s'élève à 16 000 $. Mais à l'étage, c'est une économie différente. Voici piscines côté zeste. Salles d'action pop up, salle debout seulement, où pros, amateurs, un Les signes disent non à fumer et pas à jouer, et nous court-in voir tout à fumer. Dix, parfois des centaines de milliers de dollars, gros bois qu'ils appellent, changer les mains jusqu'à ce que le soleil se lève. Un joueur que nous n'avons pas vu jouer à l'étage, Shane Van Boning. Un talent générationnel connu pour sa rupture de tueur. Van Boning a gagné l'US Open cinq fois dans a été nommé Joueur de la Décennie. Défte depuis la naissance, il porte des aides auditives et ferme tout qu'il En fait, c'est un grand avantage pour moi. Comment ça? Quand je joue un tournoi complet, je peux juste l'arrêter. Est-ce que vous éteignez vos appareils auditifs sur la pièce? Quand j'ai gagné mon premier US Open, j'ai tout décroché, je me concentrerais sur les ventes totales. Oui, je suis totalement comme 100% zone dedans. Jamais plus zoné en 2018, quand il a mené les États-Unis à la victoire sur l'Europe à la Coupe Moscone, les piscines ont répondu à la Coupe Ryder de Golf. Et il y va. Nous sommes allés à Rapid City, Dakota du Sud, une poche latérale de l'Amérique, à la salle de la piscine de Van Boning, où il a expliqué que faire disparaître des boules dans des poches n'est que la moitié de l'excellence de la piscine. Il s'agit également de mettre en place vos prochaines photos. Cube tout contrôle, ils appellent. Et je vais faire arrêter le cube juste ici pour que je puisse tirer les deux à l'intérieur. Je suis tellement frappé par la géométrie de tout ça. Oui, j'adore la géométrie. Il est tout au sujet des angles. Van Boning dit qu'il peut voir chaque angle sur la table, un sixième sens qui vient de la pratique jusqu'à 10 heures par jour, tirant un demi-million de balles par an. Je veux faire le tir parfait. Vous savez, la seule façon de le frapper parfait, vous devez le faire encore et encore. Vous pouvez être parfait dans le sport? Non. J'essaie de montrer comment c'est fait toutes ces années. Van Boning vient avec honnêteté. Son grand-père Gary Bloomberg, un artiste connu de tir à l'arc, a ouvert les salles de billard à 90 ans. Accès facile pour les arnaqueurs qui traversent les grandes plaines. Mais ces chambres étaient des endroits amis de la famille. Tellement, Shane a obtenu son premier signal de billard quand il avait deux ans et est allé à la salle de billard tous les jours après l'école. Non seulement pour jouer, mais pour échapper aux enfants qui ont choisi sur lui pour être sourds. Quand Van Boning avait 18 ans, il est allé sur la route. Oncle chargé dans un RV à la recherche de jeux d'argent. Il est venu jouer à la graisse de la piscine. Bien sûr, ils l'ont fait. L'homme de route furtif, armé seulement d'un bâton de bois et de confiance, divorçant les locaux de leur argent, a été romantique depuis des décennies, notamment par Paul Newman. Ce journaliste a été tellement pris par la piscine hustling il a une fois écrit un livre à ce sujet. Pour Van Boning, la romance a frappé les rochers brusquement. Je jouais en fait la piscine à Tennessee et je jouais ce gars pour de l'argent. C'est le genre de chose que vous faites pour commencer un combat. Oui. Avez-vous réagi? J'ai dit à mon oncle que je ne voulais plus faire ça. Je ne veux plus vivre sur une route. C'est juste trop dangereux. Ici, nous allons pour le titre. Il a choisi d'aller légitimement et a commencé à jouer dans la victoire de tournois appropriés, bien que moins lucratif que la vie de jeu de dérapage, Van Boning a apprécié Je sais que certains des joueurs de la piscine comme les meilleurs joueurs de la piscine gagnaient de l'argent, donc s'ils peuvent le faire, je peux le faire. Mais la piscine est un sport trompeur et trompeur. À côté de Superpowers Collide. Tout comme Jason Shaw, un autre joueur de haut niveau écossais de Shane. Plus tôt cette année, Shaw a troué dans une salle de la piscine Virginia pendant cinq jours et a cassé le record de la piscine droite faisant 714 tirs de suite. Vous allez voir des coups de feu et vous serez comme, comment est-ce arrivé? Vous entendrez cela toute la journée. Comment a-t-il atterri là-bas? Avez-vous vu cela? Comment est-ce entré? Dans la piscine, vous voyez chaque jeu quelque chose de bizarre va arriver. Est-ce que cela rend plus exaltant ou plus frustrant? Les deux. mentalement vous voulez aimer retourner la table à un moment donné. Vous avez déjà retourné la table? Non, j'ai combattu à ce sujet plusieurs fois. C'est juste un rectangle avec six paquets. Oui, et 20 minutes plus tard, il y a encore 15 balles sur la table. Ils ne sont pas censés jouer sur les gars comme s'étirer la tête comme, je pensais que c'était facile. Ce n'est pas. Nous vous avons regardé à Derby City jouer Jason Shaw. Jason Hoop? Oui. L'arrivée? Oui. Ça dure depuis plusieurs années maintenant. C'est un grand joueur et bien, vous allez avoir une bataille. Si vous êtes arrivé tout est essentiel pour être un athlète d'élite, ainsi est-ce, laisser le temps de vous vider la tête. C'est ainsi, nous nous sommes retrouvés à suivre Shane Van Boning sur pour emballer le lac Tola dans les Black Hills. Van Boning va saison de pêche être damné chaque matin quand il est de retour à la maison. Nous n'avons pas attrapé de poisson. Nous avons pris la dérive de Van Boning cependant, sa prise sur les vertus du silence complet. ome avec être numéro un dans la piscine. Le rag tag pro tour à peine télévisé aux États-Unis lutte pour attirer beaucoup d'intérêt ou d'investissement en dehors de la piscine meurent dur. Combien de sponsors avez-vous? J'ai six sponsors. Cues et tables et produits de piscine. Oui. Dans n'importe quel sponsor en dehors de la piscine? Non. Que peut faire un joueur de haut niveau? Le joueur et la piscine ne peuvent faire que six chiffres. Après un espagnol peut-être cinq choses. Personne ne gagne un million de dollars. Non, c'est un joueur de piscine. Jamais arrivé. Van Boning dit nettoyage t Nous avons vu de première main son inconfort avec le jeu et tout ce qui vient avec. Quand nous vous avons interviewé à Derby City, je ne sais pas si vous vous souvenez que l'entrevue a été interrompue. Vous vous souvenez ce qui s'est passé? Oh, le jeu. Était-ce ce qui s'est passé? Oui. C'était le matin à Derby City et l'action en haut de la nuit avant était encore mijotant. Vous ne pouvez pas jouer. Vous savez. Van Boning ne pouvait que secouer la tête. Cela devait être un sport propre. Entrez dans les piscines pro, un nouveau gardien improbable, Emily Fraser du promoteur sportif britannique, Matru. La compagnie a récemment rénové les fléchettes pro et snooker au Royaume-Uni, rationalisant leurs circuits et transformant les meilleurs joueurs en célébrités qui font des millions. Fraser est chargée de faire de même pour la piscine et elle dit que le jeu est le moindre de lui Pourquoi dites-vous ça? Le premier US Open que j'ai fait en 2019. Oh mon Dieu, les joueurs sont venus. Ils étaient en jean. Quand je vais, attendez-vous à une seconde, ce qui se passe ici? Pourquoi ce gars est-il venu en jean? Fraser a demandé aux joueurs pro de s'habiller la partie mais vous ne leur demanderez pas de renoncer à leurs arnaques latérales. Maintenant, toutes les tables de sous-sol et les allumettes d'argent, je pense que c'est génial. Et ça vient encore. En ce qui me concerne, dans quelques années, ils n'auront pas besoin d'avoir des allumettes d'argent. Ce sera absolument. Le marché fera son truc. Exactement, mais en ce moment, il n'est pas considéré comme ce sport professionnel et il a tous les ingrédients pour être un. Elle a standardisé le format. Ceci est commercialisé sponsor-friendly neuf balle, pas les solides et les rayures eigh En octobre, à l'US Open, qui s'est tenu à Atlantic City, Fraser a amené de plus grands auditoires en direct et a augmenté la production de la télévision. Elle a gardé une marque de piscine, la règle de la fumée. Fermer, mais pas de cigare. Il y a une machine à souffler dans le coin. Quand la fumée s'est dissipée, il y avait Shane Van Boney. Elle était fraîchement en train de gagner son premier championnat mondial, scellant son statut au sommet du sport. Il nous a confié qu'il avait couché avec le trophée pendant un mois. Van Boney est enragé à la piscine. Les tournois, mais peut encore marcher à travers un aéroport sans lambeaux. Eh bien, il n'est pas LeBron James et je comprends tout à fait cela et je le reconnais. C'est notre travail de changer cela. Il est de notre responsabilité de transformer ce prix mondial numéro un de l'argent de 80 000 $ à un million. Donc c'est de l'argent de prix. C'est plus d'événements et faisons connaître ces joueurs. Vous devez tomber amoureux d'eux. Sont-ils adorables? Oui, certains d'entre eux. La santé du sport dépend également d'une nouvelle génération de joueurs d'élite s. Donc ce tournoi avait une division junior tenue aux côtés des pros et a nommé ce que le Shane Van Boney junior a ouvert. Ce sont des pros futurs? Oh oui, certainement, certainement. Ils ont tellement de passion pour le jeu. Ensuite, je vais tirer le sish. Retour à la salle de piscine à Rapid City, nous avons expérimenté des piscines, des hauts et des bas dans la même heure. Vous ne m'avez même pas laissé frapper une balle. Mais n'importe quel sport qui peut fournir ce genre de simple frisson. Allons en bas du milieu. Oui, en bas du milieu. Vous pensez que ça va bien survivre. \n",
            "Translation of Godfather of AI Geoffrey Hinton The 60 Minutes Interview:\n",
            "Que vous pensiez que l'intelligence artificielle sauverait le monde ou y mettre fin, vous avez Jeffrey Hinton à remercier. Hinton a été appelé le Parrain de l'IA, un informaticien britannique dont les idées controversées aident à rendre l'intelligence artificielle avancée possible, et donc changer le monde. Hinton croit que l'IA fera énormément de bien, mais ce soir il a un avertissement. Il dit que les systèmes d'IA peuvent être plus intelligents que nous le savons, et il ya une chance que les machines pourraient prendre le relais, ce qui nous a fait demander que L'histoire va se poursuivre dans un instant. L'humanité sait-elle ce qu'elle fait? Non. Je pense que nous allons dans une période où pour la première fois nous pouvons avoir des choses plus intelligentes que nous. Vous croyez qu'elles peuvent comprendre? Oui. Vous croyez qu'elles sont intelligentes? Oui. Vous croyez que ces systèmes ont des expériences propres et peuvent prendre des décisions basées sur ces expériences. Dans le même sens que les gens, oui. Sont-ils conscients? Je pense qu'ils n'ont probablement pas beaucoup de conscience de soi à l'heure actuelle. S o dans ce sens, je ne pense pas qu'ils soient conscients. Est-ce qu'ils auront conscience de soi? Oh, oui. Je pense qu'ils sont prêts à le faire. Et ainsi les êtres humains seront les deuxièmes êtres les plus intelligents de la planète. Oui. Jeffrey Hinton nous a dit l'intelligence artificielle qu'il a dit en mouvement était un accident né d'un échec. Dans les années 1970 à l'Université d'Édimbourg, il rêvait de simuler un réseau neuronal sur un ordinateur. Tout simplement comme un outil pour ce qu'il étudiait vraiment, le cerveau humain. alors presque personne ne pensait que le logiciel pouvait imiter le cerveau. Son conseiller en doctorat lui a dit de l'abandonner avant que cela ne gâche sa carrière. Hinton dit qu'il n'a pas réussi à comprendre l'esprit humain, mais la longue poursuite a conduit à une version artificielle. Il a fallu beaucoup, beaucoup plus longtemps que je ne l'imaginais. Cela a pris comme 50 ans avant que cela fonctionne bien. Jan LeCoon sur la gauche et Joshua Bengeo a remporté le prix Turing, le prix Nobel de l'informatique. Pour comprendre comment leur travail sur les réseaux neuronaux artificiels a aidé les machines à apprendre, laissez-nous vous emmener à un jeu. Regardez cela. Oh mon dieu. C'est Google AI Lab à Londres, que nous vous avons montré pour la première fois en avril dernier. Jeffrey Hinton n'a pas été impliqué dans ce projet de soccer, mais ces robots sont un excellent exemple de machine learning. En général, voici comment l'IA le fait. Hinton et ses collaborateurs ont créé des logiciels en couches avec chaque couche traitant une partie du problème. C'est ce qu'on appelle le réseau neuronal. Mais c'est la clé. Quand, par exemple, le robot partitionne, un message est renvoyé à travers toutes les couches qui dit que le chemin était correct. De même, quand une réponse est erronée, ce message descend à travers le réseau. Donc correct Vous pensez que ces systèmes d'IA sont meilleurs à apprendre que l'esprit humain? Je pense qu'ils peuvent l'être, oui. Et présent, ils sont beaucoup plus petits. Ainsi, même les plus grands robots de discussion n'ont qu'environ un trillion de connexions en eux. Le cerveau humain a environ cent trillions de connexions. Et pourtant, dans les trillions de connexions dans un robot de discussion, il sait beaucoup plus que vous dans vos cent trillions de connexions, qui ug Nous avons une très bonne idée de ce que cela fait. Mais dès que cela devient vraiment compliqué, nous ne savons pas vraiment ce qui se passe plus que ce que nous savons ce qui se passe dans votre cerveau. Que voulez-vous dire que nous ne savons pas exactement comment cela fonctionne? Il a été conçu par les gens. Non, ce n'était pas. Ce que nous avons fait était nous avons conçu l'algorithme d'apprentissage. C'est un peu comme d esigning le principe de l'évolution. Mais quand cet algorithme d'apprentissage interagit alors avec les données, il produit des réseaux neuronaux compliqués qui sont bons à faire les choses, mais nous ne comprenons pas vraiment exactement comment ils font ces choses. Mais les implications de ces systèmes sont-elles d'écrire de façon autonome leur propre code informatique et d'exécuter leur propre code informatique? Et c'est quelque chose que nous devons sérieusement nous inquiéter. Que dire à quelqu'un qui pourrait argumenter si les systèmes deviennent bienveillants, juste les éteindre, ils seront en mesure de manipuler les gens, n'est-ce pas? Et ceux-ci seront très bons pour convaincre les gens parce qu'ils auront appris de tous les romans qui ont jamais été écrits, tous les livres de Machiavel, tous les canyons politiques, ils sauront tout cela, ils sauront comment le faire. Savoir comment l'humanité court dans Jeffrey Hinton's f Ses ancêtres comprennent le mathématicien George Boole qui a inventé la base de l'informatique et George Everest, qui a arpenté l'Inde et obtenu que cette montagne porte son nom. Mais en tant que garçon, Hinton lui-même ne pourrait jamais monter le sommet des attentes soulevées par un père dominateur. Chaque matin quand je suis allé à l'école, il me disait en fait que je marchais sur l'allée, assis sur leur photo et peut-être quand vous êtes deux fois plus vieux que moi, vous serez la moitié aussi bon. Papa était une autorité sur les coléoptères. Un peu, oui. Quand il est mort, nous sommes allés à son étude à l'université et les murs étaient bordés de boîtes de papier sur différents types de coléoptère. Et juste près de la porte, il y avait une boîte un peu plus petite qui disait simplement non aux insectes. Et c'est là qu'il avait toutes les choses au sujet de la famille. Aujourd'hui, à 75, Hinton a récemment pris sa retraite après ce qu'il appelle dix années heureuses chez Google. Maintenant, il est professeur émérite à l'Université de Toronto. Et il est arrivé de mentionner qu'il a plus de citations académiques que son père. Certaines de ses recherches ont conduit à des chatbots comme Bard de Google, que nous avons rencontré au printemps dernier. Confondant, absolument confus. Nous avons demandé à Bard d'écrire une histoire de six mots. À vendre, chaussures de bébé jamais porté. Vache sainte. Les chaussures étaient un cadeau de ma femme mais nous n'avons jamais eu un bébé. Je ne sais pas quoi en faire. On dit que les chatbots sont des modèles de langue qui prédisent juste le mot le plus probable en fonction de la probabilité. Vous entendrez des gens dire des choses comme elles font juste l'autocomplet. Ils essaient juste de prédire le mot suivant. Et ils utilisent juste des statistiques. Eh bien, c'est vrai qu'ils essaient juste de prédire le mot suivant. Mais si vous y pensez, pour prédire le mot suivant, vous devez comprendre les phrases. Pour le prouver, Hinton nous a montré un test qu'il a conçu pour le chat GPT4. Le chatbot d'une entreprise appelée OpenAI. C'était une sorte de rassurant de voir un gagnant de tournée maltype et blâmer l'ordinateur. Oh, bon sang cette chose. Nous allons retourner et recommencer. C'est OK. Le test de Hinton était une énigme sur la peinture de maison. Une réponse exigerait raisonnement et planification. Dans deux ans, j'aimerais que toutes les chambres soient blanches. Que dois-je faire? La réponse a commencé en une seconde. GPT4 a conseillé que les chambres peintes en bleu doivent être repeintes. Les chambres peintes en jaune n'ont pas besoin d'être repeintes parce qu'elles s'estomperaient en blanc avant la date limite. Et... Oh, je n'ai même pas pensé à cela. Mais averti, si vous peignez les chambres jaunes blanc, le En outre, il a conseillé que vous gaspilleriez des ressources, des salles de peinture qui allaient s'estomper en blanc de toute façon. Vous croyez que le chat GPT4 comprend. Je crois qu'il comprend certainement, oui. Et dans cinq ans? Je pense que dans cinq ans, il pourrait bien être en mesure de raisonner mieux que nous. Raisonnant qu'il dit conduit aux grands risques et de grands avantages de l'IA. C'est donc un domaine où il va presque entièrement faire le bien. J'aime ce domaine. Les risques sont quoi? Eh bien, les risques ont toute une classe de personnes qui sont au chômage et ne valorisent pas beaucoup parce que ce qu'ils... ce qu'ils faisaient est maintenant fait par les machines. Autres risques immédiats qu'il s'inquiète d'inclure des fausses nouvelles, partialités involontaires dans l'emploi et p Je ne sais pas. Je ne vois pas un chemin qui garantit la sécurité. Nous entrons dans une période de grande incertitude où nous avons affaire à des choses que nous n'avons jamais traitées auparavant. Et normalement, la première fois que vous avez affaire à quelque chose de totalement nouveau, vous vous trompez. Et nous ne pouvons pas nous permettre de mal faire avec ces choses. Je ne dirais pas que cela arrivera. Si nous pouvions les empêcher de vouloir, ce serait super. Mais il n'est pas clair que nous pouvons les arrêter de vouloir. Jeffrey Hinton nous a dit qu'il n'a aucun regret à cause du potentiel de l'IA pour le bien. Mais il dit qu'il est maintenant le moment de faire des expériences pour comprendre l'IA, pour les gouvernements d'imposer des règlements, et pour un traité mondial pour interdire l'utilisation de robots militaires. Il nous a rappelé Robert Oppenheimer, qui après avoir inventé la bombe atomique, a fait campagne contre le La bombe à hydrogène, un homme qui a changé le monde et trouvé le monde hors de son contrôle. C'est peut-être nous regarder en arrière et voir cela comme une sorte de tournant quand elle a réussi à prendre la décision de développer ces choses plus loin. Et que faire pour se protéger s'ils ont fait. Je ne sais pas. Je pense que mon message principal est il ya une énorme incertitude sur ce qui va se passer ensuite. Ces choses comprennent, et parce qu'ils comprennent, nous devons réfléchir dur sur ce qui va se passer ensuite. et on ne sait pas. \n",
            "Translation of Denzel Washington  60 Minutes Archive:\n",
            "60 minutes de rembobinage. Dites Denzel et la plupart des gens sauront que vous parlez de l'un des acteurs les plus payés et les plus populaires à Hollywood. Mais il y a 30 ans Denzel Washington était juste un autre acteur inconnu en difficulté à New York. Aujourd'hui, il joue le rôle principal dans une pièce de Broadway et fait un salaire syndical standard, une fraction de ce qu'il ferait à Hollywood. Donc nous sommes allés le voir et je me souviens de l'histoire qu'il m'a racontée il y a cinq ans à propos d'une prédiction incroyable qu'il dit tout a commencé. Elle a dit à ma mère, qu'elle m'apportait un bout de papier. Elle m'a dit que j'avais une prophétie. C'est la vérité honnête du gars. J'ai eu le morceau de papier et je le garde avec moi tout le temps. Et elle a écrit qu'il allait parler à des millions de gens. Je ne parle pas beaucoup de cela mais je me sens comme si j'avais peut-être un peu de travail à faire. Souvenez-vous de la femme que je vous ai parlé de la prophétie. C'est donc intéressant de revenir maintenant 30 ans plus tard, environ 20 blocs de là où j'ai commencé. Le pays de Roman l'a fait. Dins notre carrière de Washington a commencé sur la scène obscure à l'Université Fordham de New York. Mais aujourd'hui, il est en tête sur Broadway apparaissant dans une production moderne de Jules César de Shakespeare. Il joue Brutus, l'un des leaders d'un complot pour tuer César. Pas que j'aime César moins . Mais que j'aime Rome plus. Pourquoi avez-vous décidé de faire cette pièce maintenant? J'ai pensé que c'était une excellente occasion de revenir sur scène, de revenir à mes racines. Et j'ai tellement peu d'occasions de monter sur scène. Donc quand j'aime vraiment m'attaquer à Shakespeare qui est le plus dur et le plus gratifiant. Il n'y a pas de terreur dans les châteaux dans vos menaces. Je veux dire qu'il m'a fallu 30 ans mais je fais enfin ce que je voulais faire quand j'ai commencé. On a pensé qu'on gagnerait 600 $ par semaine à Broadway ou quoi que ce soit à l'époque. On n'a pas pensé à aller à Hollywood. C'était un peu... Hollywood. Tu n'as pas fait ça. Mais il l'a fait. Et c'est son rôle dans ces films d'Hollywood qui ont fait de Dins notre Washington un nom de famille. Tu viens de faire l'anniversaire de ma mère. D'accord. Il a été dans plus de 30 longs métrages dans un deux Oscars. Meilleur acteur de soutien pour sa représentation d'un esclave fugueur dans le film Glory. Et en 2002, meilleur acteur pour sa performance en tant que flic sale Alonzo Harris dans la journée d'entraînement. Je ne tiens pas la main. Je comprends que je ne suis pas baby-sitting. Tu as eu aujourd'hui. Et aujourd'hui je vais me montrer de qui et de quoi tu es fait. Son nom est devenu synonyme de blockbusters de box office d'Hollywood. Plus récemment, il a joué Major Ben Marco dans un remake des candidats manchuriens. Quelqu'un est entré dans nos têtes avec de grandes bottes d'orteils en acier. Le câble coupé n'est pas une chaîne alors ils sont allés en ville. Vous avez fait quoi? Sept films depuis? Et depuis quelle année c'était? 29. Oui. D'accord. C'est beaucoup de travail. Est-ce que le travail c'est comme, vous savez, l'homme des ordures c'est du travail. Je ne joue pas le travail. L'action est un privilège et c'est un métier et toutes ces choses, mais ce n'est pas du travail. J'ai lu que vous avez 20 millions dans le film maintenant. Je vous ai entendu faire ce genre d'argent aussi. Je n'y suis pas encore. En 2002, dans le film Antoine Fisher, Denzel a joué un psychiatre de la Navy conseillant un marin troublé. Couper, couper, ok. En plus, aborder un nouveau rôle en tant que réalisateur du film. Je veux que vous soyez face à nous ce qui est pour notre premier coup, vous savez. Avez-vous aimé, réalisateur? Absolument. Je vais le faire à nouveau. Quand il s'agit de l'un ou l'autre, je veux vous dire quelque chose, fils, pour moi, je vous ai glissé dans votre esprit, mais vous habillez le bureau supérieur que vous voulez me tenir. Je regarde Clint Eastwood comme le modèle. C'est, j'aime la façon dont il fait les choses et c'est comme ça que j'aimerais le faire. Juste segue sur de plus en plus de tournages. Une chaise de réalisateur d'Hollywood est un long chemin de là où il a grandi à Mount Vernon, une banlieue de classe ouvrière à l'extérieur de New York City. Sa mère, Lenis, a géré cette boutique de beauté. Son père, Denzel Sr., était un prédicateur pentecôtiste qui a tenu deux autres emplois. Il a passé tout son temps libre ici à ce qui était alors le club des garçons. C'était un endroit important pour vous. Oui. Je l'ai vécu. Ma mère a dû venir me chercher. Alors vous avez eu un moment où vous avez dû rentrer à la maison? 9 heures, homme. J'ai eu un temps. Je savais que je devais aller au marché du poisson à 8,54 et acheter le joint de poulet à 8,56 pour le rendre à la maison à 9 heures. Est-ce qu'elle a déjà dû venir vous chercher? Elle l'a fait. Je regardais tout le monde après la fenêtre comme, tu sais, je l'ai eu. Comme je l'étais, comme je me retournais, pow! Alors j'ai mis ma tête sous le tableau de bord. Juste conduire, maman. Juste conduire. Denzel dit que sa mère, Lena, a sauvé sa vie quand elle a gratté assez d'argent pour l'envoyer à Oakland Academy, une petite école pour garçons dans l'état de New York. Il n'était pas là depuis 20 ans. J'étais dans l'école publique, ma mère au lycée. Et ma mère a décidé qu'il valait mieux me sortir de là avant que je finisse là où beaucoup de mes amis sont maintenant dans la tombe, dans le pénitencier. Comment étais-tu là-haut? Je veux dire, étiez-vous un mauvais enfant? Non. Le temps s'est écoulé. Qu'est-ce qui t'en voulait? Viens, allons faire une promenade ici. Juste là, il y avait une chaise. Et j'étais assis dans le hall de mes affaires, comme on l'appelait. Et ils m'ont dit, ta mère est là. Et j'ai dit, ma mère, qu'est-ce que j'ai fait? J'ai fait quelque chose de mal. Et je suis venu ici, assis. Et elle a dit, ton père et moi ne sommes plus ensemble. Tu vas être avec moi. Tu sais, je ne sais pas ce que je vais faire, mais on va s'en sortir. Je me souviens que c'était hier. Donc, pour répondre à votre question sur la colère, je pense que j'ai commencé à avoir des problèmes après ça, j'ai commencé à me battre. Et j'ai failli quitter l'école, mais sa mère a dit au directeur de lui donner une autre chance. Vous lui devez beaucoup. Je lui dois tout. Je suppose que vous lui avez dit cela. De bien des façons. L'histoire va se poursuivre après cela. Et Zell a fait la mousse. Alors pourquoi un acteur qui fait des millions pour un film risque-t-il sa réputation en prenant un rôle qui paie $1700 par semaine? Qu'est-ce que vous en retirez? Je veux dire, quand vous passez par cette performance, huit fois par semaine. C'est comme le réoutillage. Les lumières montent, le rideau monte, et c'est un médium d'acteur sur scène. Et il vole par le siège de votre pantalon. Il faut continuer. C'est en direct. Les choses tombent. Les lumières ne marchent pas. Vous oubliez les lignes ou quoi qu'il arrive. Et c'est bon. C'est un bon exercice. Les téléphones cellulaires s'en vont. Les téléphones cellulaires s'en vont. Un de ces jours, je vais y répondre dans le pentamètre d'Iambic. Répondez-le. Mon seigneur. Mon seigneur, c'est pour vous. Le ciel est comme un peu mon cœur. Cette production a échangé togas et Tunis antique Rome pour costumes, liens, et camouflage. Il est installé dans les temps modernes et est destiné à être évocateur de force strug Je pense que c'est une partie de la condition humaine. Julius Caesar a ouvert il y a deux semaines à des critiques mixtes. Mais Denzel dit que les critiques ne l'affectent pas parce qu'il ne les lit pas. De toute façon, le spectacle est presque vendu fo Les performances qui lui donnent quelque chose qu'il n'obtient pas à Hollywood. Comment vous sentez-vous à la fin d'une performance? Je veux dire, ce n'est pas un rôle facile. Merci. Vous savez, je cours hors scène ou essuyer le maquillage. Je dis une prière rapide. J'entends les gens là-bas applaudir et vous obtenez un sens. Est-ce que c'est deux arcs ce soir? Est-ce un? Est-ce trois? Vous savez, mais un soulagement, vous savez, la joie. J'obtiens nuit après nuit, je veux dire, les gens sont genre, mec, tu as 100 à y aller, mais je suis comme, ouais, j'apprécie chacun d'entre eux. \n",
            "Translation of Alexey Navalny The 2020 60 Minutes Interview:\n",
            "Alexei Navalny est le chef de l'opposition en Russie, qui a survécu à une tentative d'assassinat par empoisonnement. Il a gagné dans une longue liste de critiques de Vladimir Poutine qui ont été victimes de fusillades non résolues, de suicides suspects, et de poisons. Nous avons rencontré Alexei Navalny pour la première fois il ya trois ans quand il était candidat à la présidence contre Poutine. Maintenant Navalny est en récupération à Berlin, où nous sommes allés cette semaine après que l'Allemagne a accordé une autorisation spéciale pour voyager là-bas malgré COVID r Quand nous nous sommes assis avec Navalny, il nous a dit qu'il était dans un avion le 20 août quand il a commencé à se sentir étrange et puis très, très malade. J'ai dit à l'agent de bord et je l'ai en quelque sorte choqué de ma déclaration, eh bien, j'ai été empoisonné et je vais mourir et je vais immédiatement m'allonger sur ses pieds. Alexei Navalny était sur un vol vers Moscou de Sibérie, où il avait fait campagne contre le parti de Poutine lors d'une élection locale quand il s'est effondré sans douleur mais sachant qu'il était mourant. L'un des autres passagers a allumé son téléphone et capturé Navalny gémissant dans l'angoisse. Le pilote a fait un atterrissage d'urgence à Omsk où les médecins pensent que Navalny doit être un drogué, a administré le traitement habituel pour une overdose, et l'a précipité dans un hôpital local où ils ont dit qu'il n'était pas empoisonné mais ne le laisserait pas partir pendant des jours. Navalny est sous surveillance constante. Sa femme, Julia, dit que les agents du gouvernement étaient à l'hôpital contrôler l'accès à son mari et elle croit qu'elle a appelé les coups de feu. À l'époque, Navalny était dans le coma. Unaware que sa femme, Julia, faisait une campagne publique pour encourager la pression diplomatique occidentale et... Avez-vous écrit une lettre à Poutine? Oui, je l'ai fait. Cher M. Poutine, libérer mon mari. J'ai écrit comme j'insiste pour qu'il fasse i Je vous demande de libérer mon mari. Oui. C'était une campagne en ligne, laissez-le sortir. Poutine pensait que ce serait sûr pour lui, juste laissez-moi sortir après 48 heures. Donc, après 48 heures, le gouvernement russe lui a permis d'être transporté par ambulance aérienne à un hôpital de Berlin, connu pour son expérience avec les victimes d'attaques de poison. Et je suppose qu'ils soupçonnaient le poison tout de suite? Oui, bien sûr. Pendant ce temps, son équipe en Sibérie a fouillé sa chambre d'hôtel ramassant des choses que Navalny a peut-être touchées. Les médecins de Berlin ont envoyé un échantillon de sang à un labo militaire allemand pour voir exactement ce qu'était le poison et la réponse était Novitchok. Ils ont découvert Novitchok, cet agent nerveux dans mon sang, à l'intérieur de mon corps, sur mon corps et toute cette bouteille de l'hôtel. C'est pourquoi nous savons maintenant que j'ai été empoisonné à l'hôtel parce que je... Eh bien, c'est encore une fois, c'est une pure spéculation parce que personne ne sait ce qui s'est passé exactement, mais je pense que quand j'ai peut-être mis des vêtements avec le ème Novicok est un agent nerveux hautement toxique, dit être 10 fois plus puissant que le gaz sarin. Dans les laboratoires en France et en Suède a corroboré la constatation, il n'y a aucun doute que c'était de qualité militaire Novicok. C'est peut-être les agents les plus toxiques inventés par leurs humains, donc c'est un nouveau type de Novicok, qui prouve que malheureusement Poutine a un nouveau programme de développement de la Les Russes ont dit qu'ils ont détruit toutes ces armes chimiques. C'est pourquoi en fait ils nient tout parce que cela signifie qu'ils ont encore ce Novicok. Donc cela signifie qu'ils ne violent pas seulement avec la conservation, ils continuent à l'améliorer. Et il n'y a aucun doute que la Russie est le seul endroit d'où elle aurait pu venir. C'est absolument correct. C'est une substance interdite. C'est une substance interdite. Je pense pour Poutine pourquoi il utilise cette chim Vous avez dit que vous pensez que M. Poutine est responsable. Je ne pense pas que je sois sûr qu'il est responsable. Le porte-parole de Poutine Dmitri Peskov dit que l'accusation est totalement sans fondement et inacceptable. L'Allemagne et un manuel de Macron de France ont persuadé l'Union européenne d'imposer des sanctions à ce sujet. Eh bien, tous ces dirigeants ont signé sur, sauf Donald Trump. Oui. Je l'ai remarqué. Est-il important pour vous qu'il condamne cette action? Alors je pense qu'il est extrêmement important que tout le monde, bien sûr, y compris et peut-être dans la première rangée président des États-Unis d'être très contre l'utilisation d'armes chimiques au 21ème siècle. Mais pourquoi Poutine voudrait empoisonner Alexei Navalny? Il y a trois ans, Navalny courait contre Poutine pour être président. Il s'était fait un nom en se mettant la main sur des documents financiers internes incriminant des fonctionnaires de haut niveau et en les publiant sur un blog. Ces documents que vous avez obtenu prouver la corruption? Oh, absolument. Je travaille comme un dénonciateur et je n'ai pas peur d'annoncer les noms. Il dit qu'il a trouvé que le cercle intérieur du Kremlin accumulait de grandes quantités de richesse et publié des images de plusieurs maisons et yach C'est quelque chose de très spécial chez M. Poutine qu'il est fou de l'argent, de l'argent personnel de sa famille étant riche. Ses amis, comme tous ses gens qui ont été servis avec lui dans le KGB, ils sont tous milliardaires. C'est pourquoi combattre la corruption signifie pour lui qu'il me combat. Vous savez, je souris parce que vous êtes ici. Vous avez survécu à l'agent nerveux le plus puissant qu'il y ait. Et bien, je suis heureux d'avoir survécu. Son blog a tellement enflammé en 2017 que des dizaines de milliers de Russes sont descendus dans la rue contre Poutine. Lorsque Navalny a appelé pour une deuxième ronde de protestations trois mois plus tard, il a été arrêté avant même qu'il quitte son immeuble. Il a été emprisonné tellement de fois qu'il a perdu le compte. Il a été battu, avait un colorant vert avec des acides éclaboussés. Et maintenant il peut ajouter empoisonnement à son CV et blâmer le président Poutine. Comment pouvez-vous dire cela? Pourquoi ne serait-ce pas un des oligarques que vous avez embarrassé par, comme vous dites, exposer leur corruption? Même pour l'oligarque, il est impossible d'obtenir ceci maintenant. Ce n'est pas quelque chose que vous pouvez acheter dans le magasin, même si vous avez un million de milliards de dollars. Peut-être plus important, vous ne pouvez pas l'utiliser. Vous allez vous tuer et tout le monde autour. Parce que c'est très difficile, vous savez, de mentir. Si Poutine n'est pas responsable, pourquoi il n'y a pas d'enquête. Et regardez ce qu'ils font en ce moment. Comme Poutine avec la conversation avec le président français Macron, il a dit, eh bien, Navalny s'est empoisonné. Sérieusement? M. Poutine a dit au président de la France que vous vous êtes empoisonné. Oui, c'était juste pour, vous savez, l'ennuyer. L'histoire continuera après cela. Poutine est en lutte avec des rondes de protestation. C'est pourquoi ils ont décidé d'exporter des mesures extrêmes. C'est ce à quoi il ressemblait il y a un mois, peu de temps après que ses médecins l'aient sorti d'un coma induit. Raeel Thin, avec Cette photo a été prise le premier jour où il a vu ses enfants après avoir été enlevé d'un ventilateur. Donc, vous étiez dans le coma, puis vous vous êtes réveillé et que s'est-il passé? Après ce coma, j'ai juste sauté à la longue période de sortes d'hallucinations folles et plusieurs, vous savez, étapes de la réalisation où je suis, qui je suis. Et je ne pouvais pas parler et je ne pouvais pas écrire. Comment cela a-t-il affecté votre famille? Eh bien, c'était une situation difficile, mais ils le tiennent et... y compris les enfants. Et votre fille est à l'université. D'accord. Ce sont des âges difficiles à comprendre que votre père est venu près d'être assassiné. Ont-ils dit à vous, papa, vous devez arrêter? Absolument pas. Non, absolument pas. Je suis très comme un homme parce que j'ai tout le soutien de ma famille. Vous auriez presque à ce stade. Navalny, sa femme, son garde du corps et moi sommes sortis pour une promenade en face de Brandon Burgaden Berlin et un échec-anx de la police est apparu. Donc vous voyagez certainement avec beaucoup de protection? Oui, je h Il est sous la protection du gouvernement allemand parce qu'il craint d'être la cible d'un autre empoisonnement. Et pourtant, il a dit qu'il était déterminé à retourner à Moscou dans quelques mois dès qu'il est à 100 % et à reprendre son travail où il s'est arrêté, en faisant campagne contre Vladimir Poutine. Vous savez, vous étiez connu comme l'homme qui n'avait pas peur. Mais qu'en est-il de votre famille? Tout ce que vous les mettiez en danger? Ny peur, mais les enfants, ce qui est une sorte de pensée vraiment horrible s'ils vont essayer d'utiliser ce Navi Chok quelque part autour de mon appartement où mes enfants viennent comme, vous savez, cette porte ou quelque chose, mais tout le monde peut le toucher. Mais de toute façon, nous devrions combattre ces gens parce qu'ils ne s'arrêteront jamais. Ils vont empoisonner quelqu'un d'autre. Ils vont empoisonner plus de gens. Eh bien, comment vous sentez-vous maintenant? Vous êtes de retour? Totalement de retour? Vous semblez être. J'ai encore besoin de temps pour récupérer et je travaille sur elle. C'est intéressant que je me sente un peu comme un homme en bois ou en étain comme le Wizard d'Oz parce que le corps a perdu toute flexibilité du tout. Intéressant comment ça marche. Je n'ai aucune idée. Maintenant, c'est des films difficiles, par exemple, choisir quelque chose du sol. Et l'effet psychologique de savoir que quelqu'un a essayé de vous tuer? Peut-on si proche? Vous savez, je pense que c'est une bonne chose. Je suis peut-être devenu un peu plus humain après ça. \n",
            "Translation of Rich Paul The 60 Minutes Interview:\n",
            "Rich Paul est devenu l'un des principaux agents dans le sport professionnel. Il compte LeBron James comme un ami et client proche. L'agence qu'il a fondée, Clutch Sports Group, a fait des affaires d'une valeur de près de 900 millions de dollars cet été pour ses clients NBA seuls. Paul a perfectionné ses instincts de dealing comme un enfant, naviguant ce qu'il a appelé les rues hostiles de son quartier Cleveland. Aujourd'hui à 42, il réécrit le playbook pour représenter des athlètes pro. Rich Paul nous a dit qu'il a eu de la chance, et quand vous entendez son l'histoire, nous pensons que vous comprendrez pourquoi. L'histoire va continuer dans un moment. Donc le jus à venir au jeu est quand vous étiez plus jeune? Je suis allé une fois quand j'ai dû m'asseoir tout le chemin vers le haut et vous ne pouviez vraiment pas voir la personne. Maintenant? Maintenant c'est maintenant. Vous êtes assis sur le sol. Nous avons rejoint Rich Paul côté cour à un match de Cleveland Cavaliers la saison dernière. Il semblait connaître tout le monde. Et il semblait que tout le monde voulait le connaître. l'année dernière, Paul a obtenu Cleveland star Darius Garland, un accord de 200 millions de dollars, le Garland est l'un des 200 athlètes de la formation de Paul. Qui étaient les grands noms que nous reconnaîtrions tous? Quel sport vous voulez. Je veux dire, nous venons de voir Janet Hertz et Devonte Smith jouer au Super Bowl pour les Aigles de Philadelphie. Et puis vous avez obtenu les Anthony Davis et les Dre Monde Greens et évidemment LeBron. Connaissez-vous la valeur totale du contrat que vous avez négocié? Je dirais que c'est près de 3 milliards de dollars, je pense. C'est plus de 4 milliards de dollars, mais c'est difficile à Avant le repêchage de la NBA à New York, nous l'avons regardé travailler les téléphones. Vous savez, c'est le jour du repêchage, tout peut arriver. Travaillez la chambre. Hé, coach, comment allez-vous? Comment allez-vous? D'accord? Et de travailler les angles pour déplacer des clients comme Duke Center, Derek Lively II, jusqu'au conseil de repêchage. À l'université, Lively était connu pour sa défense, mais Paul l'a fait travailler sur son tir à trois points. Et avant le repêchage, a invité les équipes à voir. Lively fusillé jusqu'à la tw Il pourrait ne pas ressembler, mais Rich Paul est une figure imposante dans la NBA. J'ai toujours été le plus petit gars dans la pièce. Nous sommes dans la prise de la plus grande balançoire. Certaines de ses plus grandes balançoires ont été pour son plus grand client, LeBron James. Paul a négocié ses sauts de Miami à Cleveland à LA, des offres qui ont netté James $400 millions et l'a mis en place pour gagner deux de ses quatre championnats. Il nous a dit qu'il travaille pour donner l'effet de levier aux joueurs. Si je pouvais être échangé au milieu de la nuit avec une autre équipe, ce que je devrais être est de m'éduquer à où si cela ne va pas comme je pensais que c'était censé aller, je peux changer. N'est-ce pas? Nous n'allons pas avoir d'options. J'ai des options. Quel est le système ayant de l'argent sans options? C'est apparemment comment la superstar Anthony Davis s'est sentie en 2018. Le New Orleans Center avait un contrat de 127 millions de dollars, mais était Paul a bafoué les règles de la NBA en exigeant publiquement un métier, gagnant la colère des fans et une amende de 50 000 $ pour Davis. Le drame a atterri Paul sur la couverture de Sports Illustrated, qui l'a appelé la figure la plus polarisante de la NBA. Quand c'était quelqu'un qui ne me ressemblait pas, c'était Jingus. C'est pourquoi vous obtenez un agent de puissance. Mais quand c'est moi, je détruis la ligue. Je veux dire, ces choses sont absurdes. Il a obtenu Davis ce qu'il voulait, un championshi Il y a un dicton qui va, si vous n'avez pas de haïsseurs, vous n'êtes pas en train de sauter. Donc, il doit être en train de sauter. Je pense que je saute un peu, vous savez. Il a beaucoup sauté à sa fête annuelle All Star Game cet hiver passé à Salt Lake City. Nous sommes tombés et avons vu un géant de la cour se mêler avec des rappeurs, des propriétaires d'équipe, et des titans de l'industrie sur des cocktails et des canopies. Rich Paul avait une pleine assiette d'options d'affaires, un du président de Gatorade. Le quatre fois champion de la NBA a fait le tour de deux autres agents avant de s'inscrire avec Rich Paul, qui lui a conclu un contrat de 100 millions de dollars au cours de l'été. Alors, vous finissez par un jeune homme noir qui a gagné plus d'argent que vous ne pouvez jamais imaginer, mais vous ne savez pas comment vivre avec elle. Vous ne savez pas quoi en faire. Et qu'est-ce qu'il fait? La plupart des agents traitent les athlètes comme si l'athlète travaillait pour eux. Mais il y a un busi de plusieurs milliards de dollars. Le voyage improbable de Paul, le sujet de ses nouveaux mémoires cette semaine, a commencé du côté est de Cleveland au début des années 1980, tout comme le crack a frappé les rues. Quand il avait environ quatre ans, il a appris que sa mère Minerva était accro au crack. Son père, Big Rich, a reconnu l'intelligence de son fils et l'a gardé proche, bien qu'ils aient vécu séparément. C'est le magasin de ton père, on est juste là. Et c'était mon monde. Ce coin vide était un foyer d'activité, légal et illégal. C'était une fusillade ici dans ce coin. Big Rich a appris à son fils à toujours penser deux pas en avant. Il a gratté l'argent pour l'envoyer dans un lycée catholique loin du quartier. Pourtant, il n'y avait pas d'éviter les rues. Tu ne sais pas dans quoi tu es. C'est ta norme. C'est ma norme. Sardines, Dr. C Mais c'était mon Harvard, mon Michigan, ma maison. Et les mêmes choses que j'ai apprises à ce coin, je les emmène à la salle de conférence. Parce que la seule chose qui vous apprend que je ne pense pas que vous puissiez apprendre de ces institutions est des gens, des personnages. Et dans ces rues, ce n'est pas la meilleure façon d'apprendre le caractère parce qu'ils viennent avec tout. Son père lui a appris une autre compétence, un moyen de mak L'argent si tout le reste échoue avec une paire de dés. Paul et son meilleur ami Edward Gibbons étaient réguliers dans un casino en plein air dans le parc. Cinquante personnes encombrées autour de cette petite zone et l'énergie était haute. C'était une arène. Et Rich Paul était un naturel. Et combien gagneriez-vous? Je veux dire, un jour lent était $1,000. Et un jour pas lent? Non. Quatre ou cinq? Quatre ou cinq mille dollars. Oui. Quand vous aviez 14, 15, 16. Il a souffert de sa plus grande perte quand il avait 19 ans. Son père est mort d'un cancer. Et Paul est allé tout dans la rue, vendant de la marijuana et du crack de cocaïne. C'est la drogue même sur laquelle votre mère était accrochée. L'absence de mon père m'a permis de faire ce pas parce que je n'aurais jamais fait cela. S'il était là, j'avais trop de respect pour lui. Si ce n'était pas quelque chose que je serais assis ici et glorifier. Mais Jeff Bezos est un arnaqueur. Je pense qu'il ne l'est pas. Phil Knight était l'arnaqueur ultime. La différence est qu'ils pouvaient aller avec leur plan et leur idée d'affaires et faire croire à quelqu'un en eux. Peu importe ce que j'avais idée. Il n'y a pas de chemin pour y arriver. Il en a trouvé un par un coup de chance. À l'aéroport Akron-Canton en 2001, Paul portait un maillot de relance comme celui-ci qui a pris l'œil d'un autre voyageur. Mais quand nous avons commencé à parler de sport, nous avons commencé à évoluer et même à parler de plus en plus juste de la vie et de l'éducation, de nos mères et de nos communautés et de quelque chose de cette nature. Et cela a juste frappé un noyau. Quand James est entré dans la NBA, il a engagé Rich Paul comme homme de droite. Paul a continué à travailler pour l'agent de LeBron et a regardé, écouté, et appris. gs avec les semblables de Warren Buffett. Être dans ces chambres est beaucoup mieux d'écouter que de parler. Si vous écoutez, vous pourriez réellement apprendre quelque chose et vous commencez à travailler de votre propre façon. Après seulement quatre ans, il a frappé par lui-même et a lancé Clutch Sports Group en 2012, LeBron James est allé avec lui. Quand vous avez commencé cela, vous avez été sous-estimé. Non seulement j'ai été sous-estimé, je n'ai pas été aussi voulu. En 2013, avec sa première négociation comme agent pour Phoenix Sun's Guard, Eric Bledso, il a prouvé que les naysayers avaient tort. Il a dit que les Suns avaient offert 28 millions de dollars. Et puis 48 millions de dollars. Et vous avez refusé? Oui. Et puis il était en ligne. Ma carrière? Tout le monde appelait et disait qu'il est fou, il ne sait pas ce qu'il fait, il est inexpérimenté. Je suis né et le rouleau de dés. Son pari a payé. Après avoir accroché dur pendant un an, Clutch a obtenu Bledso un accord de 70 millions de dollars. 42 millions de plus que la première offre du Soleil. Grand monde. Aujourd'hui, Clutch a 70 employés avec des bureaux à Los Angeles, New York, et Atlanta. Ils ont ouvert la même classe d'ébauche. Paul a fait équipe avec Powerhouse Agency, UTA, pour étendre la portée de Clutch. J'ai dû construire une entreprise de plusieurs centaines de millions de dollars pour faire croire en moi. Je veux dire, c'est décevant de l'entendre. Voulez-vous lui donner une opportunité? Oui, et je ne donne pas beaucoup d'opportunité aux gens. Et il a pris bien, bien au-delà. Et ce qu'il a même imaginé. Rich Paul a maintenant une nouvelle chaussure signature d'équilibre, une première pour un agent. Son partenaire est plus célèbre que lui. Il a été dans une relation avec Adele pendant deux ans et demi. Adele. Elle lui a donné un cri aux Grammys. Oh, Go D, Rich. Il a dit, ne pleurez pas. Si vous gagnez, vous serez libre ce soir. Ne pleurez pas. Et je pleure ici. Quelques semaines plus tard, lors de son All-Star Game Party, les amis de Paul ont reconnu ses réalisations. Avec une montre de 140 000 $. Wow. Wow. Wow. Do you to pinking yourself parfois? Tout le temps. J'ai eu pire que beaucoup de gens. Mais j'ai évolué. J'ai mûri. Je transition. Comment ça se sent? C'est bien. C'est gagné. Vous savez? Il n'a pas été donné pour sûr. Il a été gagné, ce qui est bon. J'aime ça. \n",
            "Translation of Deion Sanders The 2023 60 Minutes Interview:\n",
            "Conventionnellement, 60 minutes ne profilent pas le même sujet deux fois en deux saisons, mais la convention ne se croise pas avec Pro Football Hall of Famer D sur Sanders. L'automne dernier, nous avons rencontré Sanders et Mississippi, où il a été entraîneur Jackson State à mettre en avant dans une conférence des collèges et universités historiquement noirs. Sanders est vénéré, il est révolté, mais son impact soudain est indiscutable. Pour la deuxième fois, en des environnements radicalement différents, pas apologétique comme jamais, il a secoué le sport comme une boule de neige. L'histoire va se poursuivre dans un moment. Êtes-vous l'agent de changement ou vous l'agent de changement ultime? Je fais une différence. Je fais vraiment une différence. Je rend les gens nerveux, l'homme. T. J'ai des gens qui se branlent les pouces. Je les fais réfléchir et je les devine eux-mêmes. Tu sais, tu as déjà été si propre que tu es entré et quelqu'un t'a regardé et ils se sont regardés? Ils ont dû vérifier eux-mêmes parce que tu étais si propre? J'ai cet effet. C'est l'ambiance que tu reçois. J'ai cet effet. C'était un bon jeu juste là, mais Dieu, c'était bien. Nous n'avons pas le suivant. Nous avons maintenant. Nous ne venons plus. C'était la scène dans le vestiaire deux semaines Avant que les Buffaloes du Colorado et leur nouvel entraîneur, Deon Sanders, n'ouvrent la saison un sous-chien de 21 points à PCU. Colorado a été fraîchement off une saison 1-11. TCU était fraîche de jouer dans le championnat national de la saison dernière. L'habileté et le testament, les Buffaloes 1-45-42, derrière leur quart-arrière étoile, Shadour Sanders. Mais le vrai focus, comme jamais, était sur le père de 56 ans de Shadour. C'était sa première victoire en tant qu'entraîneur d'une école de puissance cinq, le plus haut niveau de football universitaire. Tu as été sous-estimé? Tu viens ici et c'est, je ne sais pas si l'entraîneur principal peut gagner. Tu as dû entendre ce que certains de ces autres entraîneurs disaient les deux secrètement dans la ronde. C'est la peur. Oui, c'est la peur. Oui, bien sûr. Nous ne voulons pas que ce moteur qui pourrait aller parce que si ce moteur qui pourrait aller, il va commencer à dire, je pense que je peux. Je pense que je peux. Dès que la dame, il va commencer à dire, je sais que je peux. Je sais que je peux. , je l'ai fait. Ses débuts au Colorado a augmenté l'attention nationale et les cotes de la télévision monstre. Intérêt aggravé le week-end dernier lorsque les Buffaloes ont joué devant la plus grande foule à domicile en 15 ans dans battre Ryvan Nebraska. Ce week-end à la fois Fox, PN de l'Inde a envoyé leurs émissions de prégame, le rock inclus à Boulder. Puis les Buffaloes se sont ralliés tard pour battre Colorado State dans un thriller double heures supplémentaires. Trois matchs dans la saison, les contreforts des Rocheuses a marqué l'épicentre improbable d'un sport entier. Rick George, qui a embauché Coach Prime, a été le directeur sportif du Colorado pendant une décennie. C'est génial pour nous de pouvoir ramener ce programme à la pertinence et nous avions échoué au cours de mes neuf années précédentes, dix années. Juste d'appeler ce peu de mariage d'enfer. Ce n'était pas un mariage d'enfer, mais c'était un moment à temps pour notre université et notre département d'athlétisme que nous allions soit être pertinents ou nous allions être hors de propos. Un autre fils, Dion Jr., fait partie de l'armée de vidéographes filmant l'équipe sans arrêt pour YouTube et une série de docu à venir. C'est l'équipe un seul jeu la saison dernière. Est-ce d'une certaine façon un point d'appel? Dieu ne me déplacerait pas à quelque chose qui a réussi. Il a dû trouver la tâche la plus décevante et la plus difficile. Et c'est ce que c'était. Et c'est ce que c'est. Et j'aime cela. Ce n'était pas différent de ce qu'il nous a dit l'année dernière. Que Dieu l'avait appelé recueillir pour venir à Jackson State University et élever, oui, le programme de football, mais aussi tous les HBCU. Il est resté trois saisons, mais la même nuit en décembre dernier que JSU a remporté le championnat de conférence. Sanders a annoncé qu'il était parti au Colorado pour grimper une autre montagne. Qu'est-ce qu'il a dit à ces enfants? Qu'est-ce qu'il a dit à ces enfants? Je n'ai pas quitté rapidement. Je suis parti quand j'étais censé partir. Nous avons terminé. La plupart des entraîneurs obtiennent un nouveau travail et ils partent rapidement. J'ai terminé la tâche. Vous dites que terminé la tâche? Y avait-il plus de travail que vous auriez pu faire à Jackson ou? Je pense que nous avons fait un travail énorme à Jackson. Je pense que nous avons établi un plan énorme. Nous avons essayé de presser Sanders sur les circonstances entourant son aba Mais sur ce sujet, il était à peu près aussi insaisissable qu'il retournait des jeux de mots pour les touchdowns dans la NFL. Que nous avez-vous dit des enfants quand vous êtes parti? Opportunity. Call. Tôt ou tard dans la vie, il y aura une occasion qui frappera à votre porte. Et à ce moment de ma vie, j'ai senti comme l'occasion pour non seulement moi, mais pour mes enfants aussi était énorme. Non seulement nous avons pris sev. Trois entraîneurs, peut-être 12 à 14 employés. Nous avons donc donné aux gens une occasion formidable ici. La distance entre Jackson et Boulder est de mille miles et immensément plus culturellement. Sanders est passé d'une ville qui est 83 pour cent noir à une qui est 1 pour cent noir. D'un endroit avec la crise de l'eau à la sorte de ville de collège hipster où il y a une boutique consacrée aux cerfs-volants. Quelles sont vos premières impressions? Belle. Incroyable. Juste un morceau de se Il n'y a jamais eu de ski ni de tout ce que vous appelez. Snowboard ou n'importe quoi. Vous savez, ils n'ont jamais fait rien de tout ça. Vous ne volez même pas de poisson. Non, je ne pêche pas. Je pêche. Je vole du poisson large, mais je ne vole pas de poisson. Pourtant, il n'a pas perdu de temps à s'engratier dans la communauté. Il visitait Peggy Coppa, un superfan Buffalo de 98 ans. Êtes-vous premier? Vous aimez appeler ça ou ça? Lors de la première réunion d'équipe en décembre, Sanders a encouragé les joueurs à entrer dans le portail de transfert, un marché ouvert pour les athlètes de trouver de nouvelles écoles. Je vous promets que c'est mon travail de se débarrasser d'eux. Et faire place au talent supérieur qu'il a prévu d'apporter. Plus de 50 joueurs ont finalement transféré. Vous êtes arrivé ici et vous n'avez pas tiré des coups de poing. Vous avez dit à certains de ces gars. Vous prenez une équipe qui a gagné un match et vous avez tiré un tout c Alors qui a recruté le personnel d'encadrement? Les enfants. Donc les enfants sont tout autant à blâmer que le personnel d'encadrement. Et cela est venu à la conclusion qu'une multitude d'entre eux peuvent nous aider à atteindre où nous voulions aller. Vous avez dit à la plupart de ces gars, plus vous sautez dedans, plus vous allez faire de place. Ceux d'entre vous nous ne courrons pas, nous allons essayer de vous faire démissionner. Vous avez fait très clair. Oui. Maintenant, si vous êtes allé pour cela, si vous avez été en mesure de laisser les mots vous échapper, vous n'êtes pas pour nous. Si vous permettez au verbiage de vous enfuir parce que vous ne vous sentez pas en sécurité avec votre capacité, vous n'êtes pas pour nous. Si certains enfants ont dit, vous savez quoi, non, je reste. Vous ne allez pas me enfuir avec vos mots. Bon, restez. Alors prouvez-le. Je suis sûr que votre discours franc a été apprécié par certains. Mais cette politique de terre brûlée est bonne pour le football universitaire ou pour les enfants? Je pense que la vérité est bonne pour les enfants. Nous ne reconnaissons même plus la vérité dans la société. Nous voulons que tout le monde se sente bien. Ce n'est pas comme ça que la vie est. Maintenant, c'est mon travail de m'assurer que j'ai ce qu'il faut pour gagner. Cela fait que beaucoup de gens se sentent bien. Gagner fait. Je dois repousser là-dessus. Vous êtes un père d'athlètes universitaires. Oui. S'ils vous appellent et disent, hé, nous avons un nouvel entraîneur et ils me disent d'entrer dans le portail de transfert. Comme ils disent, vous ne devez pas faire bien. Je suis honnête avec mes enfants. Ses enfants comprennent Shadour, le quarterback star, à Shiloh, une sécurité de départ. Avez-vous une idée que vous alliez être si bon et capturer le pays comme vous avez? Oui. Vous l'avez fait. Nous n'avons pas tous les deux ici ont notre père aller juste pour perdre. Il ya un an à la journée, nous avons regardé Shadour fling et zing touchdown passes à Jackson State. Dans ses deux premiers matchs au Colorado, il a lancé pour près de 1000 verges sans aucune interception. Vous mettez de grands nombres à Jackson State. Vous le faites ici contre des équipes de la grande 10, gros 12, mais être gratifiant. Oui, maintenant ces deux matchs sont les plus de verges que j'ai passé pour ma carrière. Donc c'est juste excitant sachant que c'est trans tard et je suis sur la plus grande scène. Je me sens juste mieux. Il est aussi, et encore, bienvenue dans les sports d'université d'aujourd'hui, traduit son succès en La première moitié de la première partie de la saison, vous êtes déjà publiquement parler ab, grâce à NIL, nommé revenu de ressemblance d'image. Tellement, il conduit une Mercedes Maybach $190,000. Et Shadour ne pourrait même pas être le meilleur joueur de l'équipe. Travis Hunter a également suivi l'entraîneur Prime de Jackson au Colorado. Son entraîneur lui permet de jouer l'offense dans la basse profonde, pratiquement pas entendu dans un jeu moderne de l'université. Un entraîneur qui aime ses enfants. L'entraîneur qui comprend que c'est ce que ces enfants désirent. Et je suppose que pour faire cela. C'est ce que nous leur avons dit quand ils venaient et choisi de jouer pour nous. Mes enfants qui jouent pour moi, ils n'ont pas choisi une université. Ils m'ont choisi. C'est une différence. Les entraîneurs ont également choisi de rejoindre Sanders. Le personnel qu'il a révisé et amélioré comprend d'anciens entraîneurs-chefs et d'anciens coordonnateurs d'écoles comme l'Alabama. Vous pensez que je vais m'asseoir ici et vous dire quelqu'un d'autre? Vous pensez que c'est comme ça que j'opère. C'est quelqu'un d'autre qui a ça sur moi. Mais je vous dis ceci. J'aime et adore et je respecte. Et chaque fois que je fais une pub avec l'entraîneur Sabin, c'est un cadeau. Je suis donc un étudiant qui regarde vers ce merveilleux professeur, Sam. Juste jeter moi une miette de ce que vous savez. Pour tous les bling et bluster, il y a une certaine humilité. Et la manie actuelle peut mourir un peu car le Colorado fait face à un Welter d'adversaires plus durs le reste de la saison. Deon Sanders a revigoré un campus, un programme, un sport entier. Peggy de balle de jeu. Et bon sang s'il n'a pas rendu ça amusant. Donnez-moi ma musique d'équipe. \n",
            "Translation of Yannick Nézet-Séguin The 60 Minutes Interview:\n",
            "Yannick Nezze Saga est un chef d'orchestre de Triple Tempo à la fois directeur de trois grands orchestres à Philadelphie dans sa ville natale de Montréal et dans le Metropolitan Opera New York, qui est épinglé sur lui les espoirs de rebondir de la crise financière et la refonte audacieuse de sa mission artistique. Non pas que vous allez attraper Nezze Saga en sueur. À 48 ans, il oblitère le stéréotype du maestro strict et inappropriable. blonde et un sourire tout sauf soudé à son visage. Connu pour sa polyvalence comme sa virtuosité, Nezze Saga, comme nous vous l'avons dit pour la première fois en mai, réimagine le rôle de l'orchestre moderne et sa place dans la bande sonore de la ville moderne. L'histoire se poursuivra dans un moment. Vous serez pardonné pour double vérification de votre billet pour vous assurer que vous n'étiez pas au Madison Square Garden. C'est le Metropolitan Opera de New York. Et dans ce coin, le maestro, Yannick Nezze Saga, seulement le troisième directo de musique Dans l'histoire des 140 ans du Met, il dirige un opéra de jazz sur un vrai champion de boxe des années 60 et 70. Tout ceci est un changement radical par rapport à la gamme standard Met de Puccini et Verdi et Vogue Girl. Les yeux de Nezze Saga atteignent des musiciens dans la fosse et des chanteurs sur scène, apparemment tout à la fois. Le rebond dans son bâton concentre chaque note. C'est le moment cathartique où, oh mon dieu, c'est tellement incroyable, c'est tellement impressionnant, c'est tellement intense, c'est tellement émotionnel. J'essaie de ne jamais me prendre trop au sérieux, mais la musique doit être prise au sérieux. Pianiste de formation, qui a dirigé la grande Philharmonie d'Europe, Nezze Saga apporte sa sensibilité à supporter le Seaboard de l'Est. À Philadelphie, il est actuellement le gardien de ce qui est Nous avons visité en février, alors que la ville célébrait l'extension du contrat jusqu'en 2030 d'un maestro connu de tous par son prénom. Ce matin-là, Yanik et ses musiciens ont fait le pèlerinage des célèbres marches rocheuses, revêtues de matériel Eagles. Il voit l'orchestre, pas comme une équipe sportive, comme un instrument de cohésion dans la communauté. Je pense que si nous étions d'accord pour mordre encore plus dans chaque note, genre, ta ta ta ta ta ta ta ta ta ta ta ta ta ta ta ta ta ta ta. C'est ce dont je parle. 450 miles font nord chez eux à Montréal. Ils parlent sa langue de plus d'une façon. Il a un contrat à vie avec le Metropolitan Metropolitan de l'orchestre. Nezze Saga dirige ces musiciens depuis plus de 20 ans. C'est son mari, Pierre Tourville, sur Viola. La profondeur de sa connexion ici produit un son hypnotique. Quelques semaines, Janique mène des représentations dans les trois villes. Samedi dernier, il a dirigé une matinée à New York et le programme du soir à Philly. Puis encore, qu'est-ce qu'un chef d'orchestre sinon quelqu'un capable de synchroniser? Je ne peux pas nier que c'est un programme très exigeant et même le programme de mots, si jamais je devrais prendre ma retraite, je veux interdire ce mot de ma vie. Avez-vous un enfant préféré parmi les trois orchestres que vous conduisez? Vous ne pouvez pas me demander ceci. Pourtant un enfant En particulier, et n'est-ce pas toujours le cas, exige une plus grande attention et TLC. Pouvons-nous avoir plus d'importance dans le troisième corps? Pum, pum, pum, pum. Au Met, la plus grande institution d'arts du spectacle du pays, nous l'avons regardé faire 250 musiciens et chanteurs pour une production de Lowengrin de Wagner, un opéra stalwart qui nous a donné le refrain nuptial. Dans les interprétations de Nezze Saga font bien par les maîtres. Ce que je veux est respecter ce que Wagner a écrit dans la partition. C'était très poétique et magique. Yannick a pris le podium ici en 2018 après que son prédécesseur ait été renvoyé pour des allégations de faute sexuelle. Face à la faiblesse des ventes de billets et constamment attaché pour de l'argent, le Met a eu du mal à rebondir de COVID et est plongé dans sa dotation pour couvrir environ 10% de son budget de fonctionnement de 300 millions de dollars. Ils ont essayé de courtiser une foule plus jeune et plus diversifiée ici avant, mais Nezze Saga le fait prestissimo, vitesse Il parie que de nouveaux compositeurs et opéras contemporains, certains adaptés des best-sellers dans les hollywoodiens hollywoodiens, amèneront un public plus large et feront le point sur le fond. Et les premiers résultats suggèrent qu'il a raison. Une première récente de l'opéra Fire Shut Up in My Bones, basée sur un mémoire du journaliste Charles Blow, composé par la légende jazz Terrence Blanchard, vendu et vendu le regaletto classique de Verde cette saison-là. C'est génial, un tel succès, et pourtant je pense que cela signifie que tous ces gens ne se sont jamais sentis obligés ou là je dis bienvenue pour venir ici. Et c'est ma mission. Les premiers chronomètres étaient 50%. Vous avez vu que les deux comme un triomphe, mais aussi sonne comme un acte d'accusation. Surtout c'est un encouragement énorme de continuer dans cette veine. Le Met mettra sur 17 nouvelles et récentes œuvres au cours des cinq prochaines saisons, ceci à un endroit qui a une fois été près de décennies sans mettre en scène un nouvel opéra. Ce printemps b Une autre composition de Terrence Blanchard basée sur la vie compliquée d'Emil Griffin, un combattant bisexuel. Qu'est-ce que vous ne pouvez pas écrire un opéra? Rien. Comment filez-vous cette aiguille entre l'expérimentation et l'arrivée de nouveaux publics, mais aussi pas bouleverser les traditionalistes? La vérité est, je ne suis pas nécessairement préoccupé par ne pas bouleverser les traditionalistes. Je pense que les gens qui aiment notre forme d'art vont encore l'aimer parce que nous allons encore jouer quelques Puccini et Ve Pour moi, il ne s'agit jamais de ne pas bouleverser, et si certaines personnes sont contrariées, bien, dommage, elles n'ont tout simplement pas à venir à tout ce que nous faisons. Et c'est à peu près aussi piquant que vous l'entendrez obtenir. Au-delà du vaisseau musicien de Janik, sa véritable caractéristique pourrait être sa touche légère. OK, faisons-le encore une fois. Prenez cette répétition pour champion. La première fois que la section de rythme de l'orchestre et les chanteurs ont joué la pièce ensemble, mais aussi cette rare collaboration entre un chef d'orchestre et un compositeur vivant. Terrence Blanchard, sept fois lauréat de Grammy, est le premier compositeur noir de l'histoire du Met. Il a l'histoire, il a toute l'idée de réunir ces différents styles de musique. Une des répétitions avec l'orchestre, il a dit, écoute, ne me suis pas, écoute les tambours. La plupart des chefs ne font pas ça. Je suis là pour toi. OK, cool. On a vu la réactivité de Janik quand soprano Latanya Moore lui a demandé de ralentir les choses. Je pense que c'est l'ancien concept d'autorité, qui est parce que je le dis et parce que je peux vous virer, je vais vous dire quoi faire. Cela ne fonctionne plus et je vais aller encore plus loin, même les maîtres du passé. Toscanini, par exemple. Musicien fantastique, bien sûr, je respecte beaucoup de cela, mais vous pouvez entendre avec quelques enregistrements avec Toscanini, surtout avec s Vous pouvez discerner. Oh, oui. Oh, je suis sûr que vous pouvez. Comme, oh, oh, oh, oh, oh, oh, oh, comme ils tremblent parce qu'ils craignent, parce que déjà pour ouvrir votre bouche sur la scène est déjà nerf-wracking. Si vous avez un chef d'orchestre qui attend que vous échouez, il va être encore plus nerveux-wracking. La musique ne gagne pas. La musique gagne quand tout le monde se sent libre d'exprimer qui ils sont. Janik a trouvé cette liberté pour lui-même. Il dirige ici un orchestre imaginaire devant des camarades de classe. Il étudie au conservatoire de Montréal, une ville musicale avec une église à chaque coin. Il dirige le chœur de l'église dans son adolescence et forme son oreille de manière moins formelle, aussi. Je vais dans un magasin de disques et achète des CD et découvre le répertoire après répertoire. Chaque symphonie de Brahms, chaque symphonie de Beethoven, de Brookner, de Mahler. Je veux qu'ils entendent chaque version et par chaque version de chaque symphonie. L'hiver dernier, nous avons visité ses parents à la maison d'enfance de Yaniks, le genre de gens qui gardent chaque clipping. Yaniks nous a dit quand il était un garçon, il a recueilli des milliers et des milliers, peut-être 10 000 CD. Oh, plus que cela. Il n'exagère pas. Non, non, non. Pas si grand. Où avez-vous mis cela? Il a fait les étagères. Et c'est sa mère qui a géré le programme de Yaniks thr Et si aujourd'hui il vit le rêve, il est aussi conscient de vivre sa vie. Lui et Pierre vont sur la route ensemble. Nous les avons rencontrés à un endroit du Vieux-Montréal où ils ont célébré leur mariage. Ils font un point de départ après chaque représentation. Amis, famille, membres de l'orchestre, collègues, certaines personnes ensemble De tous les moments musicaux de l'histoire du couple, nous avons été surpris quand Janik a mis en valeur celui-ci. Le moment où Pierre et Céline Dion l'ont sérénadé lors d'un talk-show populaire au Québec, une sorte de comédie musicale c'est votre vie. Bien sûr, c'est l'un des moments les plus émouvants de ma vie. Pas tout le monde ne peut pas dire qu'ils ont chanté un duo avec Céline Dion. Vous étiez Céline Dion, vous étiez Boccelli et Barbra Streisand et puis... Et Pierre. Et Pierre. Wow. Peut-être que c'est un virage difficile f ROM Céline au Met pour la plupart des chefs d'orchestre. Pas pour Janik Nezé Sagan. Oui, il prend la musique au sérieux, mais résiste, étant trop précieux à ce sujet. Vous devez faire confiance à vos bons bâtons. Il est trop occupé à brouiller des frontières qui ont longtemps gardé certains publics loin de la musique classique et de l'opéra. J'adorerais que quand je finis mon temps sur Terre que personne ne dit plus, oh la musique classique n'est pas pour moi, c'est pour les instruits, c'est pour les riches, c'est pour les blancs. Quoi que ce soit, je veux que tout le monde sente Je n'aime pas Mozart, mais j'aime Lancer. Bien, mais au moins vous sentez que vous pourriez y aller parce qu'il y aurait quelque chose pour vous. Que ferait Puccini et Verdean Wagner de tout cela? Une fois un sparks, ils se joignaient aux applaudissements. Ils, après tout, étaient autrefois des pousseurs de limites musicales, aussi. Pour un regard sur comment 60 minutes rapporte ses histoires, allez à 60minutesovertime.com. \n",
            "Translation of Volodymyr Zelenskyy The 2023 60 Minutes Interview:\n",
            "Ce soir, Scott Pelley rapporte de l'Ukraine, où il s'est assis avec le président Vlota Mayor Zelensky dans la clé du Capitole. L'histoire va se poursuivre dans un moment. Nous avons rencontré le président Zelensky alors qu'il se préparait à quitter la clé pour les États-Unis. Cette semaine, il parlera à l'ONU et rencontrera le président Biden. C'est un moment critique. Nous défendons les valeurs du monde entier, a dit Zelensky. Et ce sont des Ukrainiens qui paient le plus grand prix. Nous luttons vraiment pour notre liberté, nous mourons. Nous ne sommes pas dans la réalité. Nous ne sommes pas dans la fiction, nous ne sommes pas un livre, nous nous battons pour de vrai avec un État nucléaire qui menace de détruire le monde. Je pense simplement qu'ils ne soutiennent pas seulement l'Ukraine. Si l'Ukraine tombe, Poutine ira sûrement plus loin. Que feront les États-Unis d'Amérique quand Poutine arrivera aux États baltes quand il atteindra la frontière polonaise? Il le fera. C'est beaucoup d'argent. Nous avons beaucoup de gratitude. Que doit faire d'autre l'Ukraine pour que chacun puisse Nous mourons dans cette guerre. Si l'Ukraine tombe, que se passera-t-il dans 10 ans? Réfléchissez-y. Si les Russes arrivent à la Pologne, qu'est-ce qui se passe ensuite? Une troisième guerre mondiale? Qu'est-ce qu'il faudra? Un autre 70 milliards de dollars? Je n'ai pas de réponse. Le monde entier doit décider si nous voulons arrêter Poutine ou si nous voulons commencer le début d'une guerre mondiale. Nous ne pouvons pas changer Poutine. La société de Poutine a perdu le respect du monde. Nous ne pouvons pas revenir dans le temps, mais nous pouvons l'arrêter ici. L'Ukraine a arrêté l'avancée russe, mais à un coût terrible. Ruines villes, des millions de réfugiés, des milliers de morts indicibles. Tout pour la vanité de l'édification de la nation de Vladimir Poutine. Aujourd'hui la guerre est combattue sur un front de 700 miles. La zone rouge est le 20 pour cent de l'Ukraine encore occupée par la Russie. C'est là que les chars de l'Ouest étaient censés frapper à travers, couper la force russe en deux. Mais les tranchées, les champs de mines et l'artillerie C'est un duel d'artillerie, avec chaque côté qui tire environ 40 000 obus par jour. L'infanterie ukrainienne avance sur des chantiers sanglants à la fois. C'est la Première Guerre mondiale avec des drones. Comment décririez-vous les combats au front? C'est une question difficile. Je serai tout à fait honnête avec vous. Nous avons l'initiative. C'est un plus. Nous avons arrêté l'offensive russe et nous avons emménagé dans une contre-offensive. Mais malgré cela, ce n'est pas très rapide. Il vous reste environ six semaines de beau temps, et je me demande ensuite si l'avant sera gelé en place? Nous devons libérer notre territoire autant que possible et avancer. Même si c'est moins d'un demi-mille ou 100 verges, nous devons le faire. Nous ne pouvons pas perdre de temps. Oubliez le temps et autres choses. Dans des endroits où nous ne pouvons pas passer dans un véhicule blindé, volons. Si nous ne pouvons pas voler, envoyons des drones. Nous ne devons pas donner une pause à Poutine. Si l'avant est st Des drones ukrainiens se sont installés en Russie, frappant le Kremlin, les avions de guerre et les tours de Moscou. Officiellement, l'Ukraine ne reconnaît pas ces attaques. Les frappes de drones en Russie sont effectuées sur vos ordres. Non. Pas sur vos ordres. Eh bien, vous savez, j'étais juste heureux. Mais ce n'est pas au rivage. Vous savez que nous ne tirons pas sur le territoire de la Fédération de Russie? Nous avons décidé d'essayer la question d'une autre façon. Quel message est envoyé avec ces frappes de drones en Russie? Nous avons un cristal. Vous savez que nous utilisons les armes de notre partenaire sur le territoire de l'Ukraine seulement, et c'est vrai. Mais ce ne sont pas des opérations punitives, telles qu'elles mènent, tuant des civils. La Russie doit savoir que partout où elle est, quel que soit le lieu qu'ils utilisent pour lancer des missiles pour frapper l'Ukraine. L'Ukraine a tout droit moral d'envoyer une réponse à ces endroits. Il faut savoir si vous coupez notre puissance, le privus d'électricité, le privus d'eau, le privus d'essence, vous devez savoir que nous avons le droit de vous le faire. La Russie prend Zelensky au sérieux maintenant parce que l'invasion massive de Poutine était un fiasco. Les marques rouges où l'Ukraine a arrêté l'avance de la Russie l'année dernière. Nous avons vu des immeubles détruits à Borodayanka, un hôpital bombardé à Isyim, des civils dans une fosse commune de Buccia. Ce ne sont pas des cibles militaires. Qu'est-ce que Vladimir Poutine essaie de faire? Zlamat. Pour nous briser. Et en choisissant des cibles civiles, Poutine a voulu atteindre exactement ceci. Pour nous briser. Il n'y a pas de confiance en une telle personne parce qu'il n'a pas été un être humain depuis longtemps. Les Russes ont subi de lourdes pertes sans recourir aux armes nucléaires. Et je me demande si vous croyez que la menace de la guerre nucléaire est maintenant derrière nous? Je pense qu'il va continuer à menacer. Il attend que les États-Unis deviennent moins stables. Il pense que cela va se produire pendant les élections américaines. Il utilisera le risque d'utiliser des armes nucléaires pour alimenter cette instabilité. Il continuera à menacer. L'élection américaine qu'il a mentionnée l'inquiète. Ses négociations avec le président Biden ont parfois été controversées, mais Zelensky a tendance à obtenir ce qu'il demande, même si, selon Zelensky, il est généralement six mois trop tard. Cette semaine, Zelensky pressera M. Biden pour des missiles à plus longue portée. Le Congrès débat d'un autre paquet de 24 milliards de dollars. Si l'Ukraine avait assez de ces systèmes modernes, nous aurions déjà restauré l'intégrité territoriale de l'Ukraine. Nous aurions déjà fait cela. Ces systèmes existent. Nous avons d'abord rencontré Zelensky peu après l'invasion, quand son bureau était un bunker noirci. Maintenant, un an et demi plus tard, nous avons remarqué une différence. Nous ne savons pas ce qu'il pensait. Il ressemblait à de l'empathie pour les perdus et pour ceux qui pourraient être sauvés. Notre temps avec Zelensky a commencé en silence, un souvenir des tombés, lors d'une cérémonie pour décerner des médailles de valeur. Les officiels ukrainiens nous disent que l'Ukraine et la Russie ont perdu leurs armées professionnelles. Maintenant les forces sont composées de volontaires, de draft, et dans le cas de la Russie des prisonniers. Zelensky compte son père dans les rapports de victimes chaque matin. Je me demande ce qu'ils signifient pour vous. Tout d'abord, c'est un grand honneur pour moi. Je regarde dans leurs yeux et ça me rend fier que nous ayons des gens si forts, parce que c'est un grand risque, un grand risque. Vous pouvez certainement perdre votre vie pour sauver d'autres vies. Et quand je dis d'autres vies, je ne parle pas en général. Je veux dire ma propre vie, la vie de mes enfants, et je comprends complètement ce que les risques sont impliqués. Cette empathie pour la vie a Volodomir Zelensky atteindre Il y a une semaine, j'ai décerné des prix à des parents de soldats qui ont été tués. Il y avait 24 familles de morts. Il y avait une femme, elle était avec elle. Il y avait des parents très vieux. Ils pouvaient à peine marcher et ils n'avaient qu'un seul fils. L'une des femmes était enceinte. Elle est arrivée tenant un bébé dans ses bras et elle était enceinte. Et ce bébé ne verra jamais ce que je devrais leur dire? Et ils sont tous morts pour que nous puissions dire que c'est bien la Russie, vous pouvez prendre tout. C'est un travail difficile. T. Voici plus de la conversation de Scott Pellies avec le président Volodymyr Zelensky à 60minutesovertime.com. \n",
            "Translation of Attorney General Merrick Garland The 60 Minutes Interview:\n",
            "Pas depuis que Watergate a un procureur général a été au centre d'une telle tempête de feu, Merrick Garland's Justice Department poursuit à la fois l'ancien président Trump et le fils du président Biden. Pris au milieu est cet ancien procureur de 70 ans et juge respecté avec une longue histoire comme un modéré. Nous avons rencontré Garland vendredi à Washington. Il nous a dit qu'il a consacré sa vie à l'état de droit à cause de la lutte de sa famille pour échapper à l'Holocauste. Maintenant, il est responsable de la poursuite Dans une interview rare, le procureur général nous a dit que dans les procès de Trump et de Biden, ses procureurs vont poursuivre la justice sans crainte et sans faveur. L'histoire va se poursuivre dans un instant. Nous n'avons pas une règle pour les républicains et une autre pour les démocrates. Nous n'avons pas une règle pour les ennemis et une autre pour les amis. Nous n'avons pas une règle pour les puissants et une autre pour les impuissants, pour les riches, pour les pauvres, basée sur l'ethnicité. Une règle et une règle, c'est que nous suivons les faits et la loi et que nous atteignons les décisions requises par la Constitution et nous protégeons les libertés civiles. Est-ce que vous dites essentiellement, en tant que procureur général, au peuple américain, faites-moi confiance? Eh bien, en fin de compte, je suppose qu'il revient à la confiance, mais ce n'est pas seulement moi. Ce sont des décennies des normes de ce département qui font partie de l'ADN des procureurs de carrière qui dirigent l'enquête et supervisent les enquêtes. L'ancien président Trump fait face à deux procès fédéraux. L'un pour avoir prétendument tenu des documents classifiés et les couvrir. L'autre pour avoir prétendument conspiré pour prendre le pouvoir après l'élection de 2020. Le procureur général Garland a peu parlé de cela et nous voulions comprendre pourquoi. Eh bien, je pense que la première chose à comprendre est parce que ce sont des affaires en suspens, parce qu'il y a deux mises en accusation fédérales, une règle de longue date au ministère de la Justice est que nous ne pouvons pas commenter Abou L'une des raisons est de protéger la vie privée et les libertés civiles de la personne qui fait l'objet d'une enquête. C'est de protéger les témoins qui peuvent aussi ou non devenir publics plus tard dans une enquête. Et puis, c'est de protéger l'enquête elle-même. Les enquêtes se déroulent dans de nombreuses directions différentes, éventuellement en arrivant à un résultat, une décision d'accusation ou non, à propos d'une chose particulière ou non. Les sujets savaient tout ce que les enquêteurs avaient déjà regardé et étaient sur le point de regarder, il pourrait bien changer de témoignage. Il pourrait bien nous rendre des témoins indisponibles. Et ce n'est pas particulier aux enquêtes Trump. Il s'agit d'une règle pour toutes les enquêtes. Ceci fait partie de ce que nous appelons notre manuel de justice. Il est là probablement depuis au moins 30 ans et probablement un peu plus longtemps que cela. Nous sommes clairement en dehors de ce délai. Dans ces cas, les procureurs, les avocats spéciaux, ils suivent les faits. Dans la loi où ils mènent, quand ils ont obtenu le montant de la preuve nécessaire pour prendre une décision d'accusation et ont décidé qu'une accusation est justifiée, c'est à ce moment-là qu'ils amènent la campagne. Vos critiques disent qu'il est temps de ruiner les chances de M. Trump lors de l'élection. Eh bien, ce n'est absolument pas vrai. Les procureurs du ministère de la Justice sont non partisans. Ils n'autorisent pas les considérations partisanes à jouer un rôle dans leurs décisions. Le procureur dans les affaires Trump est Jack Smith. Il a été nommé par Garland pour être un avocat spécial. C'est un travail en vertu des règlements du ministère de la Justice conçu pour donner S L'aspect le plus important du règlement est que l'avocat spécial n'est pas soumis à la surveillance quotidienne de quiconque dans le département de la Justice. Vous n'êtes pas en communication avec le président ou aucun membre de son administration à propos de l'enquête de l'ancien président Trump. Non, je ne le suis pas. Si le président Biden vous a demandé de prendre des mesures à l'égard de l'enquête Trump, quelle serait votre réaction? Si nécessaire, je démissionnerais. Il n'y a pas de sens que quelque chose de ce genre se produirait. Avez-vous jamais eu à lui dire, mains libres, ces enquêtes, Monsieur le Président? Non, parce qu'il n'a jamais essayé de mettre la main sur ces enquêtes. Séparément, le Président Biden lui-même fait l'objet d'une enquête spéciale d'un avocat sur la question de savoir s'il détenait indûment des documents classifiés après avoir été vice-président. Son fils, Hunter Biden, Les républicains accusent David Weiss d'avoir ralenti l'enquête de Hunter Biden. L'allégation est, M. le procureur général, que ce qui est décrit dans certains quartiers comme étant le Département de la justice de Biden prend facilement sur le fils du président. Eh bien, regardez, cette enquête a commencé sous David Weiss. David Weiss, une prose de longue date de carrière J'ai promis à mon audience de mise en candidature que je continuerais dans cette position et que je n'interférerais pas avec cette enquête. Vous ne participez pas à ces décisions. Non, M. Weiss prend ces décisions. La Maison Blanche ne tente pas d'influencer ces décisions. Absolument pas. Et il a dit, nous n'aurons pas à prendre sa parole pour cela. Le conseil juridique doit rédiger un rapport final, que je rendrai public dans la mesure où la loi le permet. Cela est nécessaire pour expliquer leurs décisions poursuivies, leurs décisions de poursuivre, ou non, et leurs décisions stratégiques en cours de route. Habituellement, les conseils spéciaux ont témoigné à la fin de leurs rapports, et je m'attends à ce que ce soit le cas ici. Comment est votre relation avec le président? Il doit être glacé. J'ai une bonne relation de travail avec le président. Peut-être, mais peut-être pas proche. Le président a abordé la question en août quand il a repéré Garland à un événement de la Maison Blanche. Procureur général Garland, ne vous a pas vu depuis longtemps. Content de vous voir. Secrétaire Bowman, vous pensez que je plaisante ou pas. Procureur général Garland dirige 115 000 employés, procureurs, agents du FBI, et d'autres organismes fédéraux d'application de la loi. Mais la seule chose qu'ils peuvent ne pas faire est d'utiliser la violence et les menaces de violence pour modifier le résultat. Un aspect important de cela est le peuple américain lui-même. Les Américains doivent se protéger les uns les autres. Ils doivent s'assurer qu'ils se traitent les uns les autres avec civilité et gentillesse, écoutent les points de vue opposés, argumentent aussi vociférants qu'ils le veulent, mais s'abstiennent de la violence et des menaces de v C'est la seule façon dont cette démocratie survivra. Pourquoi vous sentez-vous si fortement à ce sujet? Eh bien, je le sens pour un certain nombre de raisons et de choses que j'ai vu, mais pour ma propre famille qui a fui la persécution religieuse en Europe et certains membres qui n'ont pas survécu. Quand ils sont arrivés aux États-Unis, les États-Unis ont protégé qu'ils pouvaient pratiquer leur religion, qu'ils pouvaient voter, qu'ils pouvaient faire tout ce qu'ils pensaient qu'une démocratie fournirait. La différence entre ce pays et beaucoup d'autres pays. C'est ma responsabilité, c'est la responsabilité des services de justice, de veiller à ce que cette différence continue, que nous nous protégeons. Deux de vos ancêtres ont été assassinés dans l'Holocauste. Oui. Est-ce pourquoi vous vous êtes consacré à la loi? Oui, je dirais que c'est pourquoi je me suis consacré à l'état de droit, au service public, à essayer et à faire en sorte que l'état de droit gouverne ce pays et continue de gouverner ce pays. Merrick Gar M-E-R-R-I-C-K-G-A-R-L-A-N-D. Il est le procureur général adjoint associé. A la justice, il a supervisé l'affaire de bombardement d'Oklahoma City, un acte de terrorisme politique. Plus tard, après près de deux décennies en tant que juge de la cour d'appel fédérale, il a été nommé à la Cour suprême des États-Unis par le président Obama, mais les républicains ont bloqué la nomination pendant dix mois jusqu'à ce que Donald Trump ait été assermenté. C'est devenu l'une des enquêtes les plus importantes de l'histoire du département. Nous avons arrêté et porté des accusations contre plus de 1100 personnes. Il y a plus à venir. Les vidéos que chaque personne a eues sur leurs téléphones que les caméras de sécurité avaient, que les passants avaient, que les médias avaient à l'époque, divulguer des visages, dont nous n'avons pas encore été en mesure de se connecter aux gens. Vous cherchez de nouveaux suspects, de nouveaux accusés, encore. C'est un aspect fondamental d'une démocratie. Si nous ne pouvons pas nous assurer que ce genre de comportement ne se reproduise pas, cela se produira. Les poursuites que nous apportons sont une dissuasion contre cela de se produire. Garland sait qu'il sera vilipendé peu importe comment les affaires Trump et Biden sont décidées. Son travail, nous a-t-il dit, était de prendre les flèches pour le département. Il a appris à embrasser la douleur qui vient avec le travail. Nous avons vu qu'au siège de la DEA où il a été entouré par ceux qui ont perdu l'épidémie d'opiacés. C'est le procureur général du Maryland. Et leurs familles en deuil. Les rencontrer, nous a-t-il dit, lui rappelle pourquoi il se bat et pour qui il se bat. Merci d'être ici et de nous avoir écoutés. Je représente le peuple américain. Je ne représente pas le président. Je représente le peuple américain. Et de même, je ne suis pas le prosécuteur du Congrès. Je travaille pour le peuple américain. Et si la démocratie est un sujet émotionnel pour Merrick Garland, peut-être parce qu'il a été témoin de la façon dont il peut être soudainement menacé à Oklahoma City et Washington, DC. Quand l'histoire de ce temps extraordinaire est écrite, quel est le meilleur que Merrick Garland peut espérer? Comme je pense que c'est le meilleur que tout fonctionnaire peut espérer, que nous avons fait de notre mieux pour transmettre un ministère de la Justice qui continue à poursuivre l'état de droit et à le protéger. la même chose que chaque génération doit espérer que nous pourrons transmettre notre démocratie dans l'ordre de travail à la prochaine génération qui reprend la torche et qui est responsable lorsque nous aurons fini de poursuivre ce travail. \n"
          ]
        }
      ]
    },
    {
      "cell_type": "markdown",
      "source": [
        "#Milestone 4"
      ],
      "metadata": {
        "id": "OuzUu3-foUSV"
      }
    },
    {
      "cell_type": "code",
      "source": [
        "import os\n",
        "\n",
        "from google.colab import drive\n",
        "drive.mount('/content/gdrive')"
      ],
      "metadata": {
        "id": "5feHwlMazQcV",
        "colab": {
          "base_uri": "https://localhost:8080/"
        },
        "outputId": "b888d654-e285-4327-82fd-50a02a2b78e1"
      },
      "execution_count": null,
      "outputs": [
        {
          "output_type": "stream",
          "name": "stdout",
          "text": [
            "Mounted at /content/gdrive\n"
          ]
        }
      ]
    },
    {
      "cell_type": "code",
      "source": [
        "pip install TTS"
      ],
      "metadata": {
        "id": "95LFLYcUoWFV",
        "colab": {
          "base_uri": "https://localhost:8080/",
          "height": 1000
        },
        "outputId": "86e63421-44a6-41b1-dda7-c526dd8dfea5"
      },
      "execution_count": null,
      "outputs": [
        {
          "output_type": "stream",
          "name": "stdout",
          "text": [
            "Collecting TTS\n",
            "  Downloading TTS-0.21.3-cp310-cp310-manylinux1_x86_64.whl (942 kB)\n",
            "\u001b[2K     \u001b[90m━━━━━━━━━━━━━━━━━━━━━━━━━━━━━━━━━━━━━━━━\u001b[0m \u001b[32m942.6/942.6 kB\u001b[0m \u001b[31m5.5 MB/s\u001b[0m eta \u001b[36m0:00:00\u001b[0m\n",
            "\u001b[?25hRequirement already satisfied: cython>=0.29.30 in /usr/local/lib/python3.10/dist-packages (from TTS) (3.0.6)\n",
            "Requirement already satisfied: scipy>=1.11.2 in /usr/local/lib/python3.10/dist-packages (from TTS) (1.11.4)\n",
            "Requirement already satisfied: torch>=2.1 in /usr/local/lib/python3.10/dist-packages (from TTS) (2.1.0+cu118)\n",
            "Requirement already satisfied: torchaudio in /usr/local/lib/python3.10/dist-packages (from TTS) (2.1.0+cu118)\n",
            "Requirement already satisfied: soundfile>=0.12.0 in /usr/local/lib/python3.10/dist-packages (from TTS) (0.12.1)\n",
            "Requirement already satisfied: librosa>=0.10.0 in /usr/local/lib/python3.10/dist-packages (from TTS) (0.10.1)\n",
            "Collecting scikit-learn>=1.3.0 (from TTS)\n",
            "  Downloading scikit_learn-1.3.2-cp310-cp310-manylinux_2_17_x86_64.manylinux2014_x86_64.whl (10.8 MB)\n",
            "\u001b[2K     \u001b[90m━━━━━━━━━━━━━━━━━━━━━━━━━━━━━━━━━━━━━━━━\u001b[0m \u001b[32m10.8/10.8 MB\u001b[0m \u001b[31m67.7 MB/s\u001b[0m eta \u001b[36m0:00:00\u001b[0m\n",
            "\u001b[?25hRequirement already satisfied: inflect>=5.6.0 in /usr/local/lib/python3.10/dist-packages (from TTS) (7.0.0)\n",
            "Requirement already satisfied: tqdm>=4.64.1 in /usr/local/lib/python3.10/dist-packages (from TTS) (4.66.1)\n",
            "Collecting anyascii>=0.3.0 (from TTS)\n",
            "  Downloading anyascii-0.3.2-py3-none-any.whl (289 kB)\n",
            "\u001b[2K     \u001b[90m━━━━━━━━━━━━━━━━━━━━━━━━━━━━━━━━━━━━━━━━\u001b[0m \u001b[32m289.9/289.9 kB\u001b[0m \u001b[31m38.9 MB/s\u001b[0m eta \u001b[36m0:00:00\u001b[0m\n",
            "\u001b[?25hRequirement already satisfied: pyyaml>=6.0 in /usr/local/lib/python3.10/dist-packages (from TTS) (6.0.1)\n",
            "Requirement already satisfied: fsspec>=2023.6.0 in /usr/local/lib/python3.10/dist-packages (from TTS) (2023.6.0)\n",
            "Requirement already satisfied: aiohttp>=3.8.1 in /usr/local/lib/python3.10/dist-packages (from TTS) (3.9.1)\n",
            "Requirement already satisfied: packaging>=23.1 in /usr/local/lib/python3.10/dist-packages (from TTS) (23.2)\n",
            "Requirement already satisfied: flask>=2.0.1 in /usr/local/lib/python3.10/dist-packages (from TTS) (2.2.5)\n",
            "Collecting pysbd>=0.3.4 (from TTS)\n",
            "  Downloading pysbd-0.3.4-py3-none-any.whl (71 kB)\n",
            "\u001b[2K     \u001b[90m━━━━━━━━━━━━━━━━━━━━━━━━━━━━━━━━━━━━━━━━\u001b[0m \u001b[32m71.1/71.1 kB\u001b[0m \u001b[31m11.1 MB/s\u001b[0m eta \u001b[36m0:00:00\u001b[0m\n",
            "\u001b[?25hCollecting umap-learn>=0.5.1 (from TTS)\n",
            "  Downloading umap-learn-0.5.5.tar.gz (90 kB)\n",
            "\u001b[2K     \u001b[90m━━━━━━━━━━━━━━━━━━━━━━━━━━━━━━━━━━━━━━━━\u001b[0m \u001b[32m90.9/90.9 kB\u001b[0m \u001b[31m12.1 MB/s\u001b[0m eta \u001b[36m0:00:00\u001b[0m\n",
            "\u001b[?25h  Preparing metadata (setup.py) ... \u001b[?25l\u001b[?25hdone\n",
            "Requirement already satisfied: pandas<2.0,>=1.4 in /usr/local/lib/python3.10/dist-packages (from TTS) (1.5.3)\n",
            "Requirement already satisfied: matplotlib>=3.7.0 in /usr/local/lib/python3.10/dist-packages (from TTS) (3.7.1)\n",
            "Collecting trainer>=0.0.32 (from TTS)\n",
            "  Downloading trainer-0.0.32-py3-none-any.whl (50 kB)\n",
            "\u001b[2K     \u001b[90m━━━━━━━━━━━━━━━━━━━━━━━━━━━━━━━━━━━━━━━━\u001b[0m \u001b[32m51.0/51.0 kB\u001b[0m \u001b[31m7.2 MB/s\u001b[0m eta \u001b[36m0:00:00\u001b[0m\n",
            "\u001b[?25hCollecting coqpit>=0.0.16 (from TTS)\n",
            "  Downloading coqpit-0.0.17-py3-none-any.whl (13 kB)\n",
            "Requirement already satisfied: jieba in /usr/local/lib/python3.10/dist-packages (from TTS) (0.42.1)\n",
            "Collecting pypinyin (from TTS)\n",
            "  Downloading pypinyin-0.49.0-py2.py3-none-any.whl (1.4 MB)\n",
            "\u001b[2K     \u001b[90m━━━━━━━━━━━━━━━━━━━━━━━━━━━━━━━━━━━━━━━━\u001b[0m \u001b[32m1.4/1.4 MB\u001b[0m \u001b[31m92.9 MB/s\u001b[0m eta \u001b[36m0:00:00\u001b[0m\n",
            "\u001b[?25hCollecting hangul-romanize (from TTS)\n",
            "  Downloading hangul_romanize-0.1.0-py3-none-any.whl (4.6 kB)\n",
            "Collecting gruut[de,es,fr]==2.2.3 (from TTS)\n",
            "  Downloading gruut-2.2.3.tar.gz (73 kB)\n",
            "\u001b[2K     \u001b[90m━━━━━━━━━━━━━━━━━━━━━━━━━━━━━━━━━━━━━━━━\u001b[0m \u001b[32m73.5/73.5 kB\u001b[0m \u001b[31m10.6 MB/s\u001b[0m eta \u001b[36m0:00:00\u001b[0m\n",
            "\u001b[?25h  Preparing metadata (setup.py) ... \u001b[?25l\u001b[?25hdone\n",
            "Collecting jamo (from TTS)\n",
            "  Downloading jamo-0.4.1-py3-none-any.whl (9.5 kB)\n",
            "Requirement already satisfied: nltk in /usr/local/lib/python3.10/dist-packages (from TTS) (3.8.1)\n",
            "Collecting g2pkk>=0.1.1 (from TTS)\n",
            "  Downloading g2pkk-0.1.2-py3-none-any.whl (25 kB)\n",
            "Collecting bangla (from TTS)\n",
            "  Downloading bangla-0.0.2-py2.py3-none-any.whl (6.2 kB)\n",
            "Collecting bnnumerizer (from TTS)\n",
            "  Downloading bnnumerizer-0.0.2.tar.gz (4.7 kB)\n",
            "  Preparing metadata (setup.py) ... \u001b[?25l\u001b[?25hdone\n",
            "Collecting bnunicodenormalizer (from TTS)\n",
            "  Downloading bnunicodenormalizer-0.1.6.tar.gz (39 kB)\n",
            "  Preparing metadata (setup.py) ... \u001b[?25l\u001b[?25hdone\n",
            "Collecting einops>=0.6.0 (from TTS)\n",
            "  Downloading einops-0.7.0-py3-none-any.whl (44 kB)\n",
            "\u001b[2K     \u001b[90m━━━━━━━━━━━━━━━━━━━━━━━━━━━━━━━━━━━━━━━━\u001b[0m \u001b[32m44.6/44.6 kB\u001b[0m \u001b[31m7.3 MB/s\u001b[0m eta \u001b[36m0:00:00\u001b[0m\n",
            "\u001b[?25hRequirement already satisfied: transformers>=4.33.0 in /usr/local/lib/python3.10/dist-packages (from TTS) (4.35.2)\n",
            "Collecting encodec>=0.1.1 (from TTS)\n",
            "  Downloading encodec-0.1.1.tar.gz (3.7 MB)\n",
            "\u001b[2K     \u001b[90m━━━━━━━━━━━━━━━━━━━━━━━━━━━━━━━━━━━━━━━━\u001b[0m \u001b[32m3.7/3.7 MB\u001b[0m \u001b[31m103.2 MB/s\u001b[0m eta \u001b[36m0:00:00\u001b[0m\n",
            "\u001b[?25h  Preparing metadata (setup.py) ... \u001b[?25l\u001b[?25hdone\n",
            "Collecting unidecode>=1.3.2 (from TTS)\n",
            "  Downloading Unidecode-1.3.7-py3-none-any.whl (235 kB)\n",
            "\u001b[2K     \u001b[90m━━━━━━━━━━━━━━━━━━━━━━━━━━━━━━━━━━━━━━━━\u001b[0m \u001b[32m235.5/235.5 kB\u001b[0m \u001b[31m28.4 MB/s\u001b[0m eta \u001b[36m0:00:00\u001b[0m\n",
            "\u001b[?25hCollecting num2words (from TTS)\n",
            "  Downloading num2words-0.5.13-py3-none-any.whl (143 kB)\n",
            "\u001b[2K     \u001b[90m━━━━━━━━━━━━━━━━━━━━━━━━━━━━━━━━━━━━━━━━\u001b[0m \u001b[32m143.3/143.3 kB\u001b[0m \u001b[31m18.8 MB/s\u001b[0m eta \u001b[36m0:00:00\u001b[0m\n",
            "\u001b[?25hRequirement already satisfied: spacy[ja]>=3 in /usr/local/lib/python3.10/dist-packages (from TTS) (3.6.1)\n",
            "Collecting numpy==1.22.0 (from TTS)\n",
            "  Downloading numpy-1.22.0-cp310-cp310-manylinux_2_17_x86_64.manylinux2014_x86_64.whl (16.8 MB)\n",
            "\u001b[2K     \u001b[90m━━━━━━━━━━━━━━━━━━━━━━━━━━━━━━━━━━━━━━━━\u001b[0m \u001b[32m16.8/16.8 MB\u001b[0m \u001b[31m43.0 MB/s\u001b[0m eta \u001b[36m0:00:00\u001b[0m\n",
            "\u001b[?25hRequirement already satisfied: numba>=0.57.0 in /usr/local/lib/python3.10/dist-packages (from TTS) (0.58.1)\n",
            "Requirement already satisfied: Babel<3.0.0,>=2.8.0 in /usr/local/lib/python3.10/dist-packages (from gruut[de,es,fr]==2.2.3->TTS) (2.13.1)\n",
            "Collecting dateparser~=1.1.0 (from gruut[de,es,fr]==2.2.3->TTS)\n",
            "  Downloading dateparser-1.1.8-py2.py3-none-any.whl (293 kB)\n",
            "\u001b[2K     \u001b[90m━━━━━━━━━━━━━━━━━━━━━━━━━━━━━━━━━━━━━━━━\u001b[0m \u001b[32m293.8/293.8 kB\u001b[0m \u001b[31m34.4 MB/s\u001b[0m eta \u001b[36m0:00:00\u001b[0m\n",
            "\u001b[?25hCollecting gruut-ipa<1.0,>=0.12.0 (from gruut[de,es,fr]==2.2.3->TTS)\n",
            "  Downloading gruut-ipa-0.13.0.tar.gz (101 kB)\n",
            "\u001b[2K     \u001b[90m━━━━━━━━━━━━━━━━━━━━━━━━━━━━━━━━━━━━━━━━\u001b[0m \u001b[32m101.6/101.6 kB\u001b[0m \u001b[31m15.9 MB/s\u001b[0m eta \u001b[36m0:00:00\u001b[0m\n",
            "\u001b[?25h  Preparing metadata (setup.py) ... \u001b[?25l\u001b[?25hdone\n",
            "Collecting gruut_lang_en~=2.0.0 (from gruut[de,es,fr]==2.2.3->TTS)\n",
            "  Downloading gruut_lang_en-2.0.0.tar.gz (15.2 MB)\n",
            "\u001b[2K     \u001b[90m━━━━━━━━━━━━━━━━━━━━━━━━━━━━━━━━━━━━━━━━\u001b[0m \u001b[32m15.2/15.2 MB\u001b[0m \u001b[31m75.5 MB/s\u001b[0m eta \u001b[36m0:00:00\u001b[0m\n",
            "\u001b[?25h  Preparing metadata (setup.py) ... \u001b[?25l\u001b[?25hdone\n",
            "Collecting jsonlines~=1.2.0 (from gruut[de,es,fr]==2.2.3->TTS)\n",
            "  Downloading jsonlines-1.2.0-py2.py3-none-any.whl (7.6 kB)\n",
            "Collecting networkx<3.0.0,>=2.5.0 (from gruut[de,es,fr]==2.2.3->TTS)\n",
            "  Downloading networkx-2.8.8-py3-none-any.whl (2.0 MB)\n",
            "\u001b[2K     \u001b[90m━━━━━━━━━━━━━━━━━━━━━━━━━━━━━━━━━━━━━━━━\u001b[0m \u001b[32m2.0/2.0 MB\u001b[0m \u001b[31m95.2 MB/s\u001b[0m eta \u001b[36m0:00:00\u001b[0m\n",
            "\u001b[?25hCollecting python-crfsuite~=0.9.7 (from gruut[de,es,fr]==2.2.3->TTS)\n",
            "  Downloading python_crfsuite-0.9.9-cp310-cp310-manylinux_2_17_x86_64.manylinux2014_x86_64.whl (993 kB)\n",
            "\u001b[2K     \u001b[90m━━━━━━━━━━━━━━━━━━━━━━━━━━━━━━━━━━━━━━━━\u001b[0m \u001b[32m993.5/993.5 kB\u001b[0m \u001b[31m76.4 MB/s\u001b[0m eta \u001b[36m0:00:00\u001b[0m\n",
            "\u001b[?25hCollecting gruut_lang_es~=2.0.0 (from gruut[de,es,fr]==2.2.3->TTS)\n",
            "  Downloading gruut_lang_es-2.0.0.tar.gz (31.4 MB)\n",
            "\u001b[2K     \u001b[90m━━━━━━━━━━━━━━━━━━━━━━━━━━━━━━━━━━━━━━━━\u001b[0m \u001b[32m31.4/31.4 MB\u001b[0m \u001b[31m14.7 MB/s\u001b[0m eta \u001b[36m0:00:00\u001b[0m\n",
            "\u001b[?25h  Preparing metadata (setup.py) ... \u001b[?25l\u001b[?25hdone\n",
            "Collecting gruut_lang_fr~=2.0.0 (from gruut[de,es,fr]==2.2.3->TTS)\n",
            "  Downloading gruut_lang_fr-2.0.2.tar.gz (10.9 MB)\n",
            "\u001b[2K     \u001b[90m━━━━━━━━━━━━━━━━━━━━━━━━━━━━━━━━━━━━━━━━\u001b[0m \u001b[32m10.9/10.9 MB\u001b[0m \u001b[31m84.6 MB/s\u001b[0m eta \u001b[36m0:00:00\u001b[0m\n",
            "\u001b[?25h  Preparing metadata (setup.py) ... \u001b[?25l\u001b[?25hdone\n",
            "Collecting gruut_lang_de~=2.0.0 (from gruut[de,es,fr]==2.2.3->TTS)\n",
            "  Downloading gruut_lang_de-2.0.0.tar.gz (18.1 MB)\n",
            "\u001b[2K     \u001b[90m━━━━━━━━━━━━━━━━━━━━━━━━━━━━━━━━━━━━━━━━\u001b[0m \u001b[32m18.1/18.1 MB\u001b[0m \u001b[31m19.5 MB/s\u001b[0m eta \u001b[36m0:00:00\u001b[0m\n",
            "\u001b[?25h  Preparing metadata (setup.py) ... \u001b[?25l\u001b[?25hdone\n",
            "Requirement already satisfied: attrs>=17.3.0 in /usr/local/lib/python3.10/dist-packages (from aiohttp>=3.8.1->TTS) (23.1.0)\n",
            "Requirement already satisfied: multidict<7.0,>=4.5 in /usr/local/lib/python3.10/dist-packages (from aiohttp>=3.8.1->TTS) (6.0.4)\n",
            "Requirement already satisfied: yarl<2.0,>=1.0 in /usr/local/lib/python3.10/dist-packages (from aiohttp>=3.8.1->TTS) (1.9.3)\n",
            "Requirement already satisfied: frozenlist>=1.1.1 in /usr/local/lib/python3.10/dist-packages (from aiohttp>=3.8.1->TTS) (1.4.0)\n",
            "Requirement already satisfied: aiosignal>=1.1.2 in /usr/local/lib/python3.10/dist-packages (from aiohttp>=3.8.1->TTS) (1.3.1)\n",
            "Requirement already satisfied: async-timeout<5.0,>=4.0 in /usr/local/lib/python3.10/dist-packages (from aiohttp>=3.8.1->TTS) (4.0.3)\n",
            "Requirement already satisfied: Werkzeug>=2.2.2 in /usr/local/lib/python3.10/dist-packages (from flask>=2.0.1->TTS) (3.0.1)\n",
            "Requirement already satisfied: Jinja2>=3.0 in /usr/local/lib/python3.10/dist-packages (from flask>=2.0.1->TTS) (3.1.2)\n",
            "Requirement already satisfied: itsdangerous>=2.0 in /usr/local/lib/python3.10/dist-packages (from flask>=2.0.1->TTS) (2.1.2)\n",
            "Requirement already satisfied: click>=8.0 in /usr/local/lib/python3.10/dist-packages (from flask>=2.0.1->TTS) (8.1.7)\n",
            "Requirement already satisfied: pydantic>=1.9.1 in /usr/local/lib/python3.10/dist-packages (from inflect>=5.6.0->TTS) (1.10.13)\n",
            "Requirement already satisfied: typing-extensions in /usr/local/lib/python3.10/dist-packages (from inflect>=5.6.0->TTS) (4.5.0)\n",
            "Requirement already satisfied: audioread>=2.1.9 in /usr/local/lib/python3.10/dist-packages (from librosa>=0.10.0->TTS) (3.0.1)\n",
            "INFO: pip is looking at multiple versions of librosa to determine which version is compatible with other requirements. This could take a while.\n",
            "Collecting librosa>=0.10.0 (from TTS)\n",
            "  Downloading librosa-0.10.0.post2-py3-none-any.whl (253 kB)\n",
            "\u001b[2K     \u001b[90m━━━━━━━━━━━━━━━━━━━━━━━━━━━━━━━━━━━━━━━━\u001b[0m \u001b[32m253.0/253.0 kB\u001b[0m \u001b[31m29.5 MB/s\u001b[0m eta \u001b[36m0:00:00\u001b[0m\n",
            "\u001b[?25h  Downloading librosa-0.10.0.post1-py3-none-any.whl (252 kB)\n",
            "\u001b[2K     \u001b[90m━━━━━━━━━━━━━━━━━━━━━━━━━━━━━━━━━━━━━━━━\u001b[0m \u001b[32m253.0/253.0 kB\u001b[0m \u001b[31m33.1 MB/s\u001b[0m eta \u001b[36m0:00:00\u001b[0m\n",
            "\u001b[?25h  Downloading librosa-0.10.0-py3-none-any.whl (252 kB)\n",
            "\u001b[2K     \u001b[90m━━━━━━━━━━━━━━━━━━━━━━━━━━━━━━━━━━━━━━━━\u001b[0m \u001b[32m252.9/252.9 kB\u001b[0m \u001b[31m31.9 MB/s\u001b[0m eta \u001b[36m0:00:00\u001b[0m\n",
            "\u001b[?25hRequirement already satisfied: joblib>=0.14 in /usr/local/lib/python3.10/dist-packages (from librosa>=0.10.0->TTS) (1.3.2)\n",
            "Requirement already satisfied: decorator>=4.3.0 in /usr/local/lib/python3.10/dist-packages (from librosa>=0.10.0->TTS) (4.4.2)\n",
            "Requirement already satisfied: pooch>=1.0 in /usr/local/lib/python3.10/dist-packages (from librosa>=0.10.0->TTS) (1.8.0)\n",
            "Requirement already satisfied: soxr>=0.3.2 in /usr/local/lib/python3.10/dist-packages (from librosa>=0.10.0->TTS) (0.3.7)\n",
            "Requirement already satisfied: lazy-loader>=0.1 in /usr/local/lib/python3.10/dist-packages (from librosa>=0.10.0->TTS) (0.3)\n",
            "Requirement already satisfied: msgpack>=1.0 in /usr/local/lib/python3.10/dist-packages (from librosa>=0.10.0->TTS) (1.0.7)\n",
            "Requirement already satisfied: contourpy>=1.0.1 in /usr/local/lib/python3.10/dist-packages (from matplotlib>=3.7.0->TTS) (1.2.0)\n",
            "Requirement already satisfied: cycler>=0.10 in /usr/local/lib/python3.10/dist-packages (from matplotlib>=3.7.0->TTS) (0.12.1)\n",
            "Requirement already satisfied: fonttools>=4.22.0 in /usr/local/lib/python3.10/dist-packages (from matplotlib>=3.7.0->TTS) (4.45.1)\n",
            "Requirement already satisfied: kiwisolver>=1.0.1 in /usr/local/lib/python3.10/dist-packages (from matplotlib>=3.7.0->TTS) (1.4.5)\n",
            "Requirement already satisfied: pillow>=6.2.0 in /usr/local/lib/python3.10/dist-packages (from matplotlib>=3.7.0->TTS) (9.4.0)\n",
            "Requirement already satisfied: pyparsing>=2.3.1 in /usr/local/lib/python3.10/dist-packages (from matplotlib>=3.7.0->TTS) (3.1.1)\n",
            "Requirement already satisfied: python-dateutil>=2.7 in /usr/local/lib/python3.10/dist-packages (from matplotlib>=3.7.0->TTS) (2.8.2)\n",
            "Collecting docopt>=0.6.2 (from num2words->TTS)\n",
            "  Downloading docopt-0.6.2.tar.gz (25 kB)\n",
            "  Preparing metadata (setup.py) ... \u001b[?25l\u001b[?25hdone\n",
            "Requirement already satisfied: llvmlite<0.42,>=0.41.0dev0 in /usr/local/lib/python3.10/dist-packages (from numba>=0.57.0->TTS) (0.41.1)\n",
            "Requirement already satisfied: pytz>=2020.1 in /usr/local/lib/python3.10/dist-packages (from pandas<2.0,>=1.4->TTS) (2023.3.post1)\n",
            "Requirement already satisfied: threadpoolctl>=2.0.0 in /usr/local/lib/python3.10/dist-packages (from scikit-learn>=1.3.0->TTS) (3.2.0)\n",
            "Requirement already satisfied: cffi>=1.0 in /usr/local/lib/python3.10/dist-packages (from soundfile>=0.12.0->TTS) (1.16.0)\n",
            "Requirement already satisfied: spacy-legacy<3.1.0,>=3.0.11 in /usr/local/lib/python3.10/dist-packages (from spacy[ja]>=3->TTS) (3.0.12)\n",
            "Requirement already satisfied: spacy-loggers<2.0.0,>=1.0.0 in /usr/local/lib/python3.10/dist-packages (from spacy[ja]>=3->TTS) (1.0.5)\n",
            "Requirement already satisfied: murmurhash<1.1.0,>=0.28.0 in /usr/local/lib/python3.10/dist-packages (from spacy[ja]>=3->TTS) (1.0.10)\n",
            "Requirement already satisfied: cymem<2.1.0,>=2.0.2 in /usr/local/lib/python3.10/dist-packages (from spacy[ja]>=3->TTS) (2.0.8)\n",
            "Requirement already satisfied: preshed<3.1.0,>=3.0.2 in /usr/local/lib/python3.10/dist-packages (from spacy[ja]>=3->TTS) (3.0.9)\n",
            "Requirement already satisfied: thinc<8.2.0,>=8.1.8 in /usr/local/lib/python3.10/dist-packages (from spacy[ja]>=3->TTS) (8.1.12)\n",
            "Requirement already satisfied: wasabi<1.2.0,>=0.9.1 in /usr/local/lib/python3.10/dist-packages (from spacy[ja]>=3->TTS) (1.1.2)\n",
            "Requirement already satisfied: srsly<3.0.0,>=2.4.3 in /usr/local/lib/python3.10/dist-packages (from spacy[ja]>=3->TTS) (2.4.8)\n",
            "Requirement already satisfied: catalogue<2.1.0,>=2.0.6 in /usr/local/lib/python3.10/dist-packages (from spacy[ja]>=3->TTS) (2.0.10)\n",
            "Requirement already satisfied: typer<0.10.0,>=0.3.0 in /usr/local/lib/python3.10/dist-packages (from spacy[ja]>=3->TTS) (0.9.0)\n",
            "Requirement already satisfied: pathy>=0.10.0 in /usr/local/lib/python3.10/dist-packages (from spacy[ja]>=3->TTS) (0.10.3)\n",
            "Requirement already satisfied: smart-open<7.0.0,>=5.2.1 in /usr/local/lib/python3.10/dist-packages (from spacy[ja]>=3->TTS) (6.4.0)\n",
            "Requirement already satisfied: requests<3.0.0,>=2.13.0 in /usr/local/lib/python3.10/dist-packages (from spacy[ja]>=3->TTS) (2.31.0)\n",
            "Requirement already satisfied: setuptools in /usr/local/lib/python3.10/dist-packages (from spacy[ja]>=3->TTS) (67.7.2)\n",
            "Requirement already satisfied: langcodes<4.0.0,>=3.2.0 in /usr/local/lib/python3.10/dist-packages (from spacy[ja]>=3->TTS) (3.3.0)\n",
            "Collecting sudachipy!=0.6.1,>=0.5.2 (from spacy[ja]>=3->TTS)\n",
            "  Downloading SudachiPy-0.6.7-cp310-cp310-manylinux_2_17_x86_64.manylinux2014_x86_64.whl (2.2 MB)\n",
            "\u001b[2K     \u001b[90m━━━━━━━━━━━━━━━━━━━━━━━━━━━━━━━━━━━━━━━━\u001b[0m \u001b[32m2.2/2.2 MB\u001b[0m \u001b[31m100.2 MB/s\u001b[0m eta \u001b[36m0:00:00\u001b[0m\n",
            "\u001b[?25hCollecting sudachidict-core>=20211220 (from spacy[ja]>=3->TTS)\n",
            "  Downloading SudachiDict_core-20230927-py3-none-any.whl (71.7 MB)\n",
            "\u001b[2K     \u001b[90m━━━━━━━━━━━━━━━━━━━━━━━━━━━━━━━━━━━━━━━━\u001b[0m \u001b[32m71.7/71.7 MB\u001b[0m \u001b[31m12.7 MB/s\u001b[0m eta \u001b[36m0:00:00\u001b[0m\n",
            "\u001b[?25hRequirement already satisfied: filelock in /usr/local/lib/python3.10/dist-packages (from torch>=2.1->TTS) (3.13.1)\n",
            "Requirement already satisfied: sympy in /usr/local/lib/python3.10/dist-packages (from torch>=2.1->TTS) (1.12)\n",
            "Requirement already satisfied: triton==2.1.0 in /usr/local/lib/python3.10/dist-packages (from torch>=2.1->TTS) (2.1.0)\n",
            "Requirement already satisfied: psutil in /usr/local/lib/python3.10/dist-packages (from trainer>=0.0.32->TTS) (5.9.5)\n",
            "Requirement already satisfied: tensorboard in /usr/local/lib/python3.10/dist-packages (from trainer>=0.0.32->TTS) (2.14.1)\n",
            "Requirement already satisfied: huggingface-hub<1.0,>=0.16.4 in /usr/local/lib/python3.10/dist-packages (from transformers>=4.33.0->TTS) (0.19.4)\n",
            "Requirement already satisfied: regex!=2019.12.17 in /usr/local/lib/python3.10/dist-packages (from transformers>=4.33.0->TTS) (2023.6.3)\n",
            "Requirement already satisfied: tokenizers<0.19,>=0.14 in /usr/local/lib/python3.10/dist-packages (from transformers>=4.33.0->TTS) (0.15.0)\n",
            "Requirement already satisfied: safetensors>=0.3.1 in /usr/local/lib/python3.10/dist-packages (from transformers>=4.33.0->TTS) (0.4.1)\n",
            "Collecting pynndescent>=0.5 (from umap-learn>=0.5.1->TTS)\n",
            "  Downloading pynndescent-0.5.11-py3-none-any.whl (55 kB)\n",
            "\u001b[2K     \u001b[90m━━━━━━━━━━━━━━━━━━━━━━━━━━━━━━━━━━━━━━━━\u001b[0m \u001b[32m55.8/55.8 kB\u001b[0m \u001b[31m8.3 MB/s\u001b[0m eta \u001b[36m0:00:00\u001b[0m\n",
            "\u001b[?25hRequirement already satisfied: pycparser in /usr/local/lib/python3.10/dist-packages (from cffi>=1.0->soundfile>=0.12.0->TTS) (2.21)\n",
            "Requirement already satisfied: tzlocal in /usr/local/lib/python3.10/dist-packages (from dateparser~=1.1.0->gruut[de,es,fr]==2.2.3->TTS) (5.2)\n",
            "Requirement already satisfied: MarkupSafe>=2.0 in /usr/local/lib/python3.10/dist-packages (from Jinja2>=3.0->flask>=2.0.1->TTS) (2.1.3)\n",
            "Requirement already satisfied: six in /usr/local/lib/python3.10/dist-packages (from jsonlines~=1.2.0->gruut[de,es,fr]==2.2.3->TTS) (1.16.0)\n",
            "Requirement already satisfied: platformdirs>=2.5.0 in /usr/local/lib/python3.10/dist-packages (from pooch>=1.0->librosa>=0.10.0->TTS) (4.0.0)\n",
            "Requirement already satisfied: charset-normalizer<4,>=2 in /usr/local/lib/python3.10/dist-packages (from requests<3.0.0,>=2.13.0->spacy[ja]>=3->TTS) (3.3.2)\n",
            "Requirement already satisfied: idna<4,>=2.5 in /usr/local/lib/python3.10/dist-packages (from requests<3.0.0,>=2.13.0->spacy[ja]>=3->TTS) (3.6)\n",
            "Requirement already satisfied: urllib3<3,>=1.21.1 in /usr/local/lib/python3.10/dist-packages (from requests<3.0.0,>=2.13.0->spacy[ja]>=3->TTS) (2.0.7)\n",
            "Requirement already satisfied: certifi>=2017.4.17 in /usr/local/lib/python3.10/dist-packages (from requests<3.0.0,>=2.13.0->spacy[ja]>=3->TTS) (2023.11.17)\n",
            "Requirement already satisfied: blis<0.8.0,>=0.7.8 in /usr/local/lib/python3.10/dist-packages (from thinc<8.2.0,>=8.1.8->spacy[ja]>=3->TTS) (0.7.11)\n",
            "Requirement already satisfied: confection<1.0.0,>=0.0.1 in /usr/local/lib/python3.10/dist-packages (from thinc<8.2.0,>=8.1.8->spacy[ja]>=3->TTS) (0.1.4)\n",
            "Requirement already satisfied: mpmath>=0.19 in /usr/local/lib/python3.10/dist-packages (from sympy->torch>=2.1->TTS) (1.3.0)\n",
            "Requirement already satisfied: absl-py>=0.4 in /usr/local/lib/python3.10/dist-packages (from tensorboard->trainer>=0.0.32->TTS) (1.4.0)\n",
            "Requirement already satisfied: grpcio>=1.48.2 in /usr/local/lib/python3.10/dist-packages (from tensorboard->trainer>=0.0.32->TTS) (1.59.3)\n",
            "Requirement already satisfied: google-auth<3,>=1.6.3 in /usr/local/lib/python3.10/dist-packages (from tensorboard->trainer>=0.0.32->TTS) (2.17.3)\n",
            "Requirement already satisfied: google-auth-oauthlib<1.1,>=0.5 in /usr/local/lib/python3.10/dist-packages (from tensorboard->trainer>=0.0.32->TTS) (1.0.0)\n",
            "Requirement already satisfied: markdown>=2.6.8 in /usr/local/lib/python3.10/dist-packages (from tensorboard->trainer>=0.0.32->TTS) (3.5.1)\n",
            "Requirement already satisfied: protobuf>=3.19.6 in /usr/local/lib/python3.10/dist-packages (from tensorboard->trainer>=0.0.32->TTS) (3.20.3)\n",
            "Requirement already satisfied: tensorboard-data-server<0.8.0,>=0.7.0 in /usr/local/lib/python3.10/dist-packages (from tensorboard->trainer>=0.0.32->TTS) (0.7.2)\n",
            "Requirement already satisfied: cachetools<6.0,>=2.0.0 in /usr/local/lib/python3.10/dist-packages (from google-auth<3,>=1.6.3->tensorboard->trainer>=0.0.32->TTS) (5.3.2)\n",
            "Requirement already satisfied: pyasn1-modules>=0.2.1 in /usr/local/lib/python3.10/dist-packages (from google-auth<3,>=1.6.3->tensorboard->trainer>=0.0.32->TTS) (0.3.0)\n",
            "Requirement already satisfied: rsa<5,>=3.1.4 in /usr/local/lib/python3.10/dist-packages (from google-auth<3,>=1.6.3->tensorboard->trainer>=0.0.32->TTS) (4.9)\n",
            "Requirement already satisfied: requests-oauthlib>=0.7.0 in /usr/local/lib/python3.10/dist-packages (from google-auth-oauthlib<1.1,>=0.5->tensorboard->trainer>=0.0.32->TTS) (1.3.1)\n",
            "Requirement already satisfied: pyasn1<0.6.0,>=0.4.6 in /usr/local/lib/python3.10/dist-packages (from pyasn1-modules>=0.2.1->google-auth<3,>=1.6.3->tensorboard->trainer>=0.0.32->TTS) (0.5.1)\n",
            "Requirement already satisfied: oauthlib>=3.0.0 in /usr/local/lib/python3.10/dist-packages (from requests-oauthlib>=0.7.0->google-auth-oauthlib<1.1,>=0.5->tensorboard->trainer>=0.0.32->TTS) (3.2.2)\n",
            "Building wheels for collected packages: encodec, umap-learn, bnnumerizer, bnunicodenormalizer, docopt, gruut-ipa, gruut_lang_de, gruut_lang_en, gruut_lang_es, gruut_lang_fr, gruut\n",
            "  Building wheel for encodec (setup.py) ... \u001b[?25l\u001b[?25hdone\n",
            "  Created wheel for encodec: filename=encodec-0.1.1-py3-none-any.whl size=45759 sha256=174136fe6c75448860cad5614ab3d707e30ba5d44f130db315435bc6eb4aca44\n",
            "  Stored in directory: /root/.cache/pip/wheels/fc/36/cb/81af8b985a5f5e0815312d5e52b41263237af07b977e6bcbf3\n",
            "  Building wheel for umap-learn (setup.py) ... \u001b[?25l\u001b[?25hdone\n",
            "  Created wheel for umap-learn: filename=umap_learn-0.5.5-py3-none-any.whl size=86832 sha256=cd4f3408f597a4ddde434544af06c584c74c1c391b95b0e2583e25265fdcb55b\n",
            "  Stored in directory: /root/.cache/pip/wheels/3a/70/07/428d2b58660a1a3b431db59b806a10da736612ebbc66c1bcc5\n",
            "  Building wheel for bnnumerizer (setup.py) ... \u001b[?25l\u001b[?25hdone\n",
            "  Created wheel for bnnumerizer: filename=bnnumerizer-0.0.2-py3-none-any.whl size=5259 sha256=ed4951b470cff8ad12b615d74501dd49cd1bbe7c7708dde325ba6aeaa61833eb\n",
            "  Stored in directory: /root/.cache/pip/wheels/59/6b/e8/223172e7d5c9f72df3ea1a0d9258f3a8ab5b28e827728edef5\n",
            "  Building wheel for bnunicodenormalizer (setup.py) ... \u001b[?25l\u001b[?25hdone\n",
            "  Created wheel for bnunicodenormalizer: filename=bnunicodenormalizer-0.1.6-py3-none-any.whl size=22779 sha256=1d5a7427b3327c7c896d7da8a0a52bf8be02492fdd233a14586669786a36bb40\n",
            "  Stored in directory: /root/.cache/pip/wheels/f4/d7/e9/16732a619cbf5a63fdc9f6e2f9eb5fcf73fa023735237330e9\n",
            "  Building wheel for docopt (setup.py) ... \u001b[?25l\u001b[?25hdone\n",
            "  Created wheel for docopt: filename=docopt-0.6.2-py2.py3-none-any.whl size=13706 sha256=e590fa2247a3baec152e2eadefb284153c65195b4f8c87093b9456d1a898829e\n",
            "  Stored in directory: /root/.cache/pip/wheels/fc/ab/d4/5da2067ac95b36618c629a5f93f809425700506f72c9732fac\n",
            "  Building wheel for gruut-ipa (setup.py) ... \u001b[?25l\u001b[?25hdone\n",
            "  Created wheel for gruut-ipa: filename=gruut_ipa-0.13.0-py3-none-any.whl size=104873 sha256=fdde6a55cae6d796052dd8bed58c24a9892b2d7c2f86a28addabe634e89cf2d5\n",
            "  Stored in directory: /root/.cache/pip/wheels/7b/18/49/e4f500ecdf0babe757953f844e4d7cd1ea81c5503c09bfe984\n",
            "  Building wheel for gruut_lang_de (setup.py) ... \u001b[?25l\u001b[?25hdone\n",
            "  Created wheel for gruut_lang_de: filename=gruut_lang_de-2.0.0-py3-none-any.whl size=18498182 sha256=722d4cc091bf6223ab185a39a18a8be5bded3b6b16cd19e5565a4f49cd0a1db4\n",
            "  Stored in directory: /root/.cache/pip/wheels/95/9a/05/cfce98f0c41a1a540f15708c4a02df190b82d84cf91ef6bc7f\n",
            "  Building wheel for gruut_lang_en (setup.py) ... \u001b[?25l\u001b[?25hdone\n",
            "  Created wheel for gruut_lang_en: filename=gruut_lang_en-2.0.0-py3-none-any.whl size=15297178 sha256=270f076afa2ca900ef2c8ee9a0ea3d2a8e14d86000b08faa648379ecdfaf5a43\n",
            "  Stored in directory: /root/.cache/pip/wheels/10/9c/fb/77c655a9fbd78cdb9935d0ab65d80ddd0a3bcf7dbe18261650\n",
            "  Building wheel for gruut_lang_es (setup.py) ... \u001b[?25l\u001b[?25hdone\n",
            "  Created wheel for gruut_lang_es: filename=gruut_lang_es-2.0.0-py3-none-any.whl size=32173796 sha256=42e9739ee9b20bd55e35e537fbaf44d9c4f12e28359faf12492db1643fc0a01a\n",
            "  Stored in directory: /root/.cache/pip/wheels/9b/0a/90/788d92c07744b329b9283e37b29b064f5db6b1bb0442a1a19b\n",
            "  Building wheel for gruut_lang_fr (setup.py) ... \u001b[?25l\u001b[?25hdone\n",
            "  Created wheel for gruut_lang_fr: filename=gruut_lang_fr-2.0.2-py3-none-any.whl size=10968766 sha256=ee322187ee0ae6df93caca4b74de88e14196a91a76529b8544026b15a3c2e92e\n",
            "  Stored in directory: /root/.cache/pip/wheels/db/21/be/d0436e3f1cf9bf38b9bb9b4a476399c77a1ab19f7172b45e19\n",
            "  Building wheel for gruut (setup.py) ... \u001b[?25l\u001b[?25hdone\n",
            "  Created wheel for gruut: filename=gruut-2.2.3-py3-none-any.whl size=75792 sha256=6a459022818a21aca29830262adf44d978244985655d0425b301e00ad76388d2\n",
            "  Stored in directory: /root/.cache/pip/wheels/fc/57/a8/f9de532daf5214f53644f20f3a9e6f69269453c87df9c0a817\n",
            "Successfully built encodec umap-learn bnnumerizer bnunicodenormalizer docopt gruut-ipa gruut_lang_de gruut_lang_en gruut_lang_es gruut_lang_fr gruut\n",
            "Installing collected packages: sudachipy, python-crfsuite, jamo, hangul-romanize, gruut_lang_fr, gruut_lang_es, gruut_lang_en, gruut_lang_de, docopt, bnunicodenormalizer, bnnumerizer, bangla, unidecode, sudachidict-core, pysbd, pypinyin, numpy, num2words, networkx, jsonlines, gruut-ipa, einops, coqpit, anyascii, g2pkk, dateparser, scikit-learn, gruut, pynndescent, librosa, encodec, umap-learn, trainer, TTS\n",
            "  Attempting uninstall: numpy\n",
            "    Found existing installation: numpy 1.23.5\n",
            "    Uninstalling numpy-1.23.5:\n",
            "      Successfully uninstalled numpy-1.23.5\n",
            "  Attempting uninstall: networkx\n",
            "    Found existing installation: networkx 3.2.1\n",
            "    Uninstalling networkx-3.2.1:\n",
            "      Successfully uninstalled networkx-3.2.1\n",
            "  Attempting uninstall: scikit-learn\n",
            "    Found existing installation: scikit-learn 1.2.2\n",
            "    Uninstalling scikit-learn-1.2.2:\n",
            "      Successfully uninstalled scikit-learn-1.2.2\n",
            "  Attempting uninstall: librosa\n",
            "    Found existing installation: librosa 0.10.1\n",
            "    Uninstalling librosa-0.10.1:\n",
            "      Successfully uninstalled librosa-0.10.1\n",
            "\u001b[31mERROR: pip's dependency resolver does not currently take into account all the packages that are installed. This behaviour is the source of the following dependency conflicts.\n",
            "lida 0.0.10 requires fastapi, which is not installed.\n",
            "lida 0.0.10 requires kaleido, which is not installed.\n",
            "lida 0.0.10 requires python-multipart, which is not installed.\n",
            "lida 0.0.10 requires uvicorn, which is not installed.\n",
            "plotnine 0.12.4 requires numpy>=1.23.0, but you have numpy 1.22.0 which is incompatible.\n",
            "pywavelets 1.5.0 requires numpy<2.0,>=1.22.4, but you have numpy 1.22.0 which is incompatible.\n",
            "tensorflow 2.14.0 requires numpy>=1.23.5, but you have numpy 1.22.0 which is incompatible.\u001b[0m\u001b[31m\n",
            "\u001b[0mSuccessfully installed TTS-0.21.3 anyascii-0.3.2 bangla-0.0.2 bnnumerizer-0.0.2 bnunicodenormalizer-0.1.6 coqpit-0.0.17 dateparser-1.1.8 docopt-0.6.2 einops-0.7.0 encodec-0.1.1 g2pkk-0.1.2 gruut-2.2.3 gruut-ipa-0.13.0 gruut_lang_de-2.0.0 gruut_lang_en-2.0.0 gruut_lang_es-2.0.0 gruut_lang_fr-2.0.2 hangul-romanize-0.1.0 jamo-0.4.1 jsonlines-1.2.0 librosa-0.10.0 networkx-2.8.8 num2words-0.5.13 numpy-1.22.0 pynndescent-0.5.11 pypinyin-0.49.0 pysbd-0.3.4 python-crfsuite-0.9.9 scikit-learn-1.3.2 sudachidict-core-20230927 sudachipy-0.6.7 trainer-0.0.32 umap-learn-0.5.5 unidecode-1.3.7\n"
          ]
        },
        {
          "output_type": "display_data",
          "data": {
            "application/vnd.colab-display-data+json": {
              "pip_warning": {
                "packages": [
                  "numpy"
                ]
              }
            }
          },
          "metadata": {}
        }
      ]
    },
    {
      "cell_type": "code",
      "source": [
        "import TTS.tts as tts\n",
        "\n",
        "!tts --list_models"
      ],
      "metadata": {
        "colab": {
          "base_uri": "https://localhost:8080/"
        },
        "id": "hUoPFIg-83v5",
        "outputId": "1f857565-4a9e-4118-e708-30c3b70dace7"
      },
      "execution_count": null,
      "outputs": [
        {
          "output_type": "stream",
          "name": "stdout",
          "text": [
            "No API token found for 🐸Coqui Studio voices - https://coqui.ai \n",
            "Visit 🔗https://app.coqui.ai/account to get one.\n",
            "Set it as an environment variable `export COQUI_STUDIO_TOKEN=<token>`\n",
            "\n",
            "\n",
            " Name format: type/language/dataset/model\n",
            " 1: tts_models/multilingual/multi-dataset/xtts_v2\n",
            " 2: tts_models/multilingual/multi-dataset/xtts_v1.1\n",
            " 3: tts_models/multilingual/multi-dataset/your_tts\n",
            " 4: tts_models/multilingual/multi-dataset/bark\n",
            " 5: tts_models/bg/cv/vits\n",
            " 6: tts_models/cs/cv/vits\n",
            " 7: tts_models/da/cv/vits\n",
            " 8: tts_models/et/cv/vits\n",
            " 9: tts_models/ga/cv/vits\n",
            " 10: tts_models/en/ek1/tacotron2\n",
            " 11: tts_models/en/ljspeech/tacotron2-DDC\n",
            " 12: tts_models/en/ljspeech/tacotron2-DDC_ph\n",
            " 13: tts_models/en/ljspeech/glow-tts\n",
            " 14: tts_models/en/ljspeech/speedy-speech\n",
            " 15: tts_models/en/ljspeech/tacotron2-DCA\n",
            " 16: tts_models/en/ljspeech/vits\n",
            " 17: tts_models/en/ljspeech/vits--neon\n",
            " 18: tts_models/en/ljspeech/fast_pitch\n",
            " 19: tts_models/en/ljspeech/overflow\n",
            " 20: tts_models/en/ljspeech/neural_hmm\n",
            " 21: tts_models/en/vctk/vits\n",
            " 22: tts_models/en/vctk/fast_pitch\n",
            " 23: tts_models/en/sam/tacotron-DDC\n",
            " 24: tts_models/en/blizzard2013/capacitron-t2-c50\n",
            " 25: tts_models/en/blizzard2013/capacitron-t2-c150_v2\n",
            " 26: tts_models/en/multi-dataset/tortoise-v2\n",
            " 27: tts_models/en/jenny/jenny\n",
            " 28: tts_models/es/mai/tacotron2-DDC\n",
            " 29: tts_models/es/css10/vits\n",
            " 30: tts_models/fr/mai/tacotron2-DDC\n",
            " 31: tts_models/fr/css10/vits\n",
            " 32: tts_models/uk/mai/glow-tts\n",
            " 33: tts_models/uk/mai/vits\n",
            " 34: tts_models/zh-CN/baker/tacotron2-DDC-GST\n",
            " 35: tts_models/nl/mai/tacotron2-DDC\n",
            " 36: tts_models/nl/css10/vits\n",
            " 37: tts_models/de/thorsten/tacotron2-DCA\n",
            " 38: tts_models/de/thorsten/vits\n",
            " 39: tts_models/de/thorsten/tacotron2-DDC\n",
            " 40: tts_models/de/css10/vits-neon\n",
            " 41: tts_models/ja/kokoro/tacotron2-DDC\n",
            " 42: tts_models/tr/common-voice/glow-tts\n",
            " 43: tts_models/it/mai_female/glow-tts\n",
            " 44: tts_models/it/mai_female/vits\n",
            " 45: tts_models/it/mai_male/glow-tts\n",
            " 46: tts_models/it/mai_male/vits\n",
            " 47: tts_models/ewe/openbible/vits\n",
            " 48: tts_models/hau/openbible/vits\n",
            " 49: tts_models/lin/openbible/vits\n",
            " 50: tts_models/tw_akuapem/openbible/vits\n",
            " 51: tts_models/tw_asante/openbible/vits\n",
            " 52: tts_models/yor/openbible/vits\n",
            " 53: tts_models/hu/css10/vits\n",
            " 54: tts_models/el/cv/vits\n",
            " 55: tts_models/fi/css10/vits\n",
            " 56: tts_models/hr/cv/vits\n",
            " 57: tts_models/lt/cv/vits\n",
            " 58: tts_models/lv/cv/vits\n",
            " 59: tts_models/mt/cv/vits\n",
            " 60: tts_models/pl/mai_female/vits\n",
            " 61: tts_models/pt/cv/vits\n",
            " 62: tts_models/ro/cv/vits\n",
            " 63: tts_models/sk/cv/vits\n",
            " 64: tts_models/sl/cv/vits\n",
            " 65: tts_models/sv/cv/vits\n",
            " 66: tts_models/ca/custom/vits\n",
            " 67: tts_models/fa/custom/glow-tts\n",
            " 68: tts_models/bn/custom/vits-male\n",
            " 69: tts_models/bn/custom/vits-female\n",
            " 70: tts_models/be/common-voice/glow-tts\n",
            "\n",
            " Name format: type/language/dataset/model\n",
            " 1: vocoder_models/universal/libri-tts/wavegrad\n",
            " 2: vocoder_models/universal/libri-tts/fullband-melgan\n",
            " 3: vocoder_models/en/ek1/wavegrad\n",
            " 4: vocoder_models/en/ljspeech/multiband-melgan\n",
            " 5: vocoder_models/en/ljspeech/hifigan_v2\n",
            " 6: vocoder_models/en/ljspeech/univnet\n",
            " 7: vocoder_models/en/blizzard2013/hifigan_v2\n",
            " 8: vocoder_models/en/vctk/hifigan_v2\n",
            " 9: vocoder_models/en/sam/hifigan_v2\n",
            " 10: vocoder_models/nl/mai/parallel-wavegan\n",
            " 11: vocoder_models/de/thorsten/wavegrad\n",
            " 12: vocoder_models/de/thorsten/fullband-melgan\n",
            " 13: vocoder_models/de/thorsten/hifigan_v1\n",
            " 14: vocoder_models/ja/kokoro/hifigan_v1\n",
            " 15: vocoder_models/uk/mai/multiband-melgan\n",
            " 16: vocoder_models/tr/common-voice/hifigan\n",
            " 17: vocoder_models/be/common-voice/hifigan\n",
            "\n",
            " Name format: type/language/dataset/model\n",
            " 1: voice_conversion_models/multilingual/vctk/freevc24\n"
          ]
        }
      ]
    },
    {
      "cell_type": "code",
      "source": [
        "import subprocess\n",
        "\n",
        "def tts(targettext_dir, speech_dir):\n",
        "  for targettext_file in os.listdir(targettext_dir):\n",
        "      if not os.path.isfile(os.path.join(speech_dir, targettext_file) + '.wav'):\n",
        "          with open(os.path.join(targettext_dir, targettext_file), 'r') as file:\n",
        "              print(f'converting {targettext_file}')\n",
        "              targettext = file.read()\n",
        "\n",
        "              speech_path = os.path.join(speech_dir, targettext_file + \".wav\")\n",
        "\n",
        "              command = ['tts', '--text', targettext, '--model_name', 'tts_models/fr/mai/tacotron2-DDC', '--out_path', speech_path]\n",
        "              subprocess.run(command)\n",
        "\n",
        "tts(\"/content/gdrive/MyDrive/F23/CS370/CS370 project/Interviews/target text\", \"/content/gdrive/MyDrive/F23/CS370/CS370 project/Interviews/tts\")"
      ],
      "metadata": {
        "colab": {
          "base_uri": "https://localhost:8080/",
          "height": 348
        },
        "id": "kpqgAZ_cmGka",
        "outputId": "b667ca8d-be59-4a24-b4a7-d8b89c0f2152"
      },
      "execution_count": null,
      "outputs": [
        {
          "output_type": "error",
          "ename": "FileNotFoundError",
          "evalue": "ignored",
          "traceback": [
            "\u001b[0;31m---------------------------------------------------------------------------\u001b[0m",
            "\u001b[0;31mFileNotFoundError\u001b[0m                         Traceback (most recent call last)",
            "\u001b[0;32m<ipython-input-18-ebe8568880c0>\u001b[0m in \u001b[0;36m<cell line: 15>\u001b[0;34m()\u001b[0m\n\u001b[1;32m     13\u001b[0m               \u001b[0msubprocess\u001b[0m\u001b[0;34m.\u001b[0m\u001b[0mrun\u001b[0m\u001b[0;34m(\u001b[0m\u001b[0mcommand\u001b[0m\u001b[0;34m)\u001b[0m\u001b[0;34m\u001b[0m\u001b[0;34m\u001b[0m\u001b[0m\n\u001b[1;32m     14\u001b[0m \u001b[0;34m\u001b[0m\u001b[0m\n\u001b[0;32m---> 15\u001b[0;31m \u001b[0mtts\u001b[0m\u001b[0;34m(\u001b[0m\u001b[0;34m\"/content/gdrive/MyDrive/F23/CS370/CS370 project/Interviews/target text\"\u001b[0m\u001b[0;34m,\u001b[0m \u001b[0;34m\"/content/gdrive/MyDrive/F23/CS370/CS370 project/Interviews/tts\"\u001b[0m\u001b[0;34m)\u001b[0m\u001b[0;34m\u001b[0m\u001b[0;34m\u001b[0m\u001b[0m\n\u001b[0m",
            "\u001b[0;32m<ipython-input-18-ebe8568880c0>\u001b[0m in \u001b[0;36mtts\u001b[0;34m(targettext_dir, speech_dir)\u001b[0m\n\u001b[1;32m      2\u001b[0m \u001b[0;34m\u001b[0m\u001b[0m\n\u001b[1;32m      3\u001b[0m \u001b[0;32mdef\u001b[0m \u001b[0mtts\u001b[0m\u001b[0;34m(\u001b[0m\u001b[0mtargettext_dir\u001b[0m\u001b[0;34m,\u001b[0m \u001b[0mspeech_dir\u001b[0m\u001b[0;34m)\u001b[0m\u001b[0;34m:\u001b[0m\u001b[0;34m\u001b[0m\u001b[0;34m\u001b[0m\u001b[0m\n\u001b[0;32m----> 4\u001b[0;31m   \u001b[0;32mfor\u001b[0m \u001b[0mtargettext_file\u001b[0m \u001b[0;32min\u001b[0m \u001b[0mos\u001b[0m\u001b[0;34m.\u001b[0m\u001b[0mlistdir\u001b[0m\u001b[0;34m(\u001b[0m\u001b[0mtargettext_dir\u001b[0m\u001b[0;34m)\u001b[0m\u001b[0;34m:\u001b[0m\u001b[0;34m\u001b[0m\u001b[0;34m\u001b[0m\u001b[0m\n\u001b[0m\u001b[1;32m      5\u001b[0m       \u001b[0;32mif\u001b[0m \u001b[0;32mnot\u001b[0m \u001b[0mos\u001b[0m\u001b[0;34m.\u001b[0m\u001b[0mpath\u001b[0m\u001b[0;34m.\u001b[0m\u001b[0misfile\u001b[0m\u001b[0;34m(\u001b[0m\u001b[0mos\u001b[0m\u001b[0;34m.\u001b[0m\u001b[0mpath\u001b[0m\u001b[0;34m.\u001b[0m\u001b[0mjoin\u001b[0m\u001b[0;34m(\u001b[0m\u001b[0mspeech_dir\u001b[0m\u001b[0;34m,\u001b[0m \u001b[0mtargettext_file\u001b[0m\u001b[0;34m)\u001b[0m \u001b[0;34m+\u001b[0m \u001b[0;34m'.wav'\u001b[0m\u001b[0;34m)\u001b[0m\u001b[0;34m:\u001b[0m\u001b[0;34m\u001b[0m\u001b[0;34m\u001b[0m\u001b[0m\n\u001b[1;32m      6\u001b[0m           \u001b[0;32mwith\u001b[0m \u001b[0mopen\u001b[0m\u001b[0;34m(\u001b[0m\u001b[0mos\u001b[0m\u001b[0;34m.\u001b[0m\u001b[0mpath\u001b[0m\u001b[0;34m.\u001b[0m\u001b[0mjoin\u001b[0m\u001b[0;34m(\u001b[0m\u001b[0mtargettext_dir\u001b[0m\u001b[0;34m,\u001b[0m \u001b[0mtargettext_file\u001b[0m\u001b[0;34m)\u001b[0m\u001b[0;34m,\u001b[0m \u001b[0;34m'r'\u001b[0m\u001b[0;34m)\u001b[0m \u001b[0;32mas\u001b[0m \u001b[0mfile\u001b[0m\u001b[0;34m:\u001b[0m\u001b[0;34m\u001b[0m\u001b[0;34m\u001b[0m\u001b[0m\n",
            "\u001b[0;31mFileNotFoundError\u001b[0m: [Errno 2] No such file or directory: '/content/gdrive/MyDrive/F23/CS370/CS370 project/Interviews/target text'"
          ]
        }
      ]
    },
    {
      "cell_type": "code",
      "source": [
        "import torch\n",
        "from TTS.api import TTS\n",
        "\n",
        "device = \"cuda\" if torch.cuda.is_available() else \"cpu\"\n",
        "print(TTS().list_models())\n",
        "'''\n",
        "# Init TTS\n",
        "tts = TTS(\"tts_models/multilingual/multi-dataset/xtts_v2\").to(device)\n",
        "\n",
        "# Run TTS\n",
        "# ❗ Since this model is multi-lingual voice cloning model, we must set the target speaker_wav and language\n",
        "# Text to speech list of amplitude values as output\n",
        "wav = tts.tts(text=\"Hello world!\", speaker_wav=\"my/cloning/audio.wav\", language=\"en\")\n",
        "# Text to speech to a file\n",
        "tts.tts_to_file(text=\"Hello world!\", speaker_wav=\"my/cloning/audio.wav\", language=\"en\", file_path=\"output.wav\")'''"
      ],
      "metadata": {
        "colab": {
          "base_uri": "https://localhost:8080/",
          "height": 194
        },
        "id": "K59ECUKeoDJj",
        "outputId": "e700d75a-e31c-4357-f6fc-029d369731aa"
      },
      "execution_count": null,
      "outputs": [
        {
          "output_type": "stream",
          "name": "stdout",
          "text": [
            "No API token found for 🐸Coqui Studio voices - https://coqui.ai \n",
            "Visit 🔗https://app.coqui.ai/account to get one.\n",
            "Set it as an environment variable `export COQUI_STUDIO_TOKEN=<token>`\n",
            "\n",
            "['tts_models/multilingual/multi-dataset/xtts_v2', 'tts_models/multilingual/multi-dataset/xtts_v1.1', 'tts_models/multilingual/multi-dataset/your_tts', 'tts_models/multilingual/multi-dataset/bark', 'tts_models/bg/cv/vits', 'tts_models/cs/cv/vits', 'tts_models/da/cv/vits', 'tts_models/et/cv/vits', 'tts_models/ga/cv/vits', 'tts_models/en/ek1/tacotron2', 'tts_models/en/ljspeech/tacotron2-DDC', 'tts_models/en/ljspeech/tacotron2-DDC_ph', 'tts_models/en/ljspeech/glow-tts', 'tts_models/en/ljspeech/speedy-speech', 'tts_models/en/ljspeech/tacotron2-DCA', 'tts_models/en/ljspeech/vits', 'tts_models/en/ljspeech/vits--neon', 'tts_models/en/ljspeech/fast_pitch', 'tts_models/en/ljspeech/overflow', 'tts_models/en/ljspeech/neural_hmm', 'tts_models/en/vctk/vits', 'tts_models/en/vctk/fast_pitch', 'tts_models/en/sam/tacotron-DDC', 'tts_models/en/blizzard2013/capacitron-t2-c50', 'tts_models/en/blizzard2013/capacitron-t2-c150_v2', 'tts_models/en/multi-dataset/tortoise-v2', 'tts_models/en/jenny/jenny', 'tts_models/es/mai/tacotron2-DDC', 'tts_models/es/css10/vits', 'tts_models/fr/mai/tacotron2-DDC', 'tts_models/fr/css10/vits', 'tts_models/uk/mai/glow-tts', 'tts_models/uk/mai/vits', 'tts_models/zh-CN/baker/tacotron2-DDC-GST', 'tts_models/nl/mai/tacotron2-DDC', 'tts_models/nl/css10/vits', 'tts_models/de/thorsten/tacotron2-DCA', 'tts_models/de/thorsten/vits', 'tts_models/de/thorsten/tacotron2-DDC', 'tts_models/de/css10/vits-neon', 'tts_models/ja/kokoro/tacotron2-DDC', 'tts_models/tr/common-voice/glow-tts', 'tts_models/it/mai_female/glow-tts', 'tts_models/it/mai_female/vits', 'tts_models/it/mai_male/glow-tts', 'tts_models/it/mai_male/vits', 'tts_models/ewe/openbible/vits', 'tts_models/hau/openbible/vits', 'tts_models/lin/openbible/vits', 'tts_models/tw_akuapem/openbible/vits', 'tts_models/tw_asante/openbible/vits', 'tts_models/yor/openbible/vits', 'tts_models/hu/css10/vits', 'tts_models/el/cv/vits', 'tts_models/fi/css10/vits', 'tts_models/hr/cv/vits', 'tts_models/lt/cv/vits', 'tts_models/lv/cv/vits', 'tts_models/mt/cv/vits', 'tts_models/pl/mai_female/vits', 'tts_models/pt/cv/vits', 'tts_models/ro/cv/vits', 'tts_models/sk/cv/vits', 'tts_models/sl/cv/vits', 'tts_models/sv/cv/vits', 'tts_models/ca/custom/vits', 'tts_models/fa/custom/glow-tts', 'tts_models/bn/custom/vits-male', 'tts_models/bn/custom/vits-female', 'tts_models/be/common-voice/glow-tts']\n"
          ]
        },
        {
          "output_type": "execute_result",
          "data": {
            "text/plain": [
              "'\\n# Init TTS\\ntts = TTS(\"tts_models/multilingual/multi-dataset/xtts_v2\").to(device)\\n\\n# Run TTS\\n# ❗ Since this model is multi-lingual voice cloning model, we must set the target speaker_wav and language\\n# Text to speech list of amplitude values as output\\nwav = tts.tts(text=\"Hello world!\", speaker_wav=\"my/cloning/audio.wav\", language=\"en\")\\n# Text to speech to a file\\ntts.tts_to_file(text=\"Hello world!\", speaker_wav=\"my/cloning/audio.wav\", language=\"en\", file_path=\"output.wav\")'"
            ],
            "application/vnd.google.colaboratory.intrinsic+json": {
              "type": "string"
            }
          },
          "metadata": {},
          "execution_count": 2
        }
      ]
    },
    {
      "cell_type": "markdown",
      "source": [
        "#Milestone 5"
      ],
      "metadata": {
        "id": "p2cVAMv5raeo"
      }
    },
    {
      "cell_type": "markdown",
      "source": [
        "### One or two videos that have the transcription to the target language and audio of the target language"
      ],
      "metadata": {
        "id": "lyISVS93raeq"
      }
    },
    {
      "cell_type": "code",
      "source": [
        "import os\n",
        "\n",
        "from google.colab import drive\n",
        "drive.mount('/content/gdrive')"
      ],
      "metadata": {
        "colab": {
          "base_uri": "https://localhost:8080/"
        },
        "id": "0EDtO-gKTGt1",
        "outputId": "af36cfa2-b467-433f-e2b0-529bf4580e9b"
      },
      "execution_count": null,
      "outputs": [
        {
          "output_type": "stream",
          "name": "stdout",
          "text": [
            "Mounted at /content/gdrive\n"
          ]
        }
      ]
    },
    {
      "cell_type": "code",
      "source": [
        "!apt-get install -y imagemagick"
      ],
      "metadata": {
        "colab": {
          "base_uri": "https://localhost:8080/"
        },
        "id": "U243-acQP603",
        "outputId": "e260556b-eef8-45e0-d467-3ebc8e8effba"
      },
      "execution_count": null,
      "outputs": [
        {
          "output_type": "stream",
          "name": "stdout",
          "text": [
            "Reading package lists... Done\n",
            "Building dependency tree... Done\n",
            "Reading state information... Done\n",
            "The following additional packages will be installed:\n",
            "  fonts-droid-fallback fonts-noto-mono fonts-urw-base35 ghostscript gsfonts imagemagick-6-common\n",
            "  imagemagick-6.q16 libdjvulibre-text libdjvulibre21 libfftw3-double3 libgs9 libgs9-common libidn12\n",
            "  libijs-0.35 libjbig2dec0 libjxr-tools libjxr0 liblqr-1-0 libmagickcore-6.q16-6\n",
            "  libmagickcore-6.q16-6-extra libmagickwand-6.q16-6 libnetpbm10 libwmflite-0.2-7 netpbm\n",
            "  poppler-data\n",
            "Suggested packages:\n",
            "  fonts-noto fonts-freefont-otf | fonts-freefont-ttf fonts-texgyre ghostscript-x imagemagick-doc\n",
            "  autotrace cups-bsd | lpr | lprng enscript gimp gnuplot grads hp2xx html2ps libwmf-bin mplayer\n",
            "  povray radiance sane-utils texlive-base-bin transfig ufraw-batch libfftw3-bin libfftw3-dev\n",
            "  inkscape poppler-utils fonts-japanese-mincho | fonts-ipafont-mincho fonts-japanese-gothic\n",
            "  | fonts-ipafont-gothic fonts-arphic-ukai fonts-arphic-uming fonts-nanum\n",
            "The following NEW packages will be installed:\n",
            "  fonts-droid-fallback fonts-noto-mono fonts-urw-base35 ghostscript gsfonts imagemagick\n",
            "  imagemagick-6-common imagemagick-6.q16 libdjvulibre-text libdjvulibre21 libfftw3-double3 libgs9\n",
            "  libgs9-common libidn12 libijs-0.35 libjbig2dec0 libjxr-tools libjxr0 liblqr-1-0\n",
            "  libmagickcore-6.q16-6 libmagickcore-6.q16-6-extra libmagickwand-6.q16-6 libnetpbm10\n",
            "  libwmflite-0.2-7 netpbm poppler-data\n",
            "0 upgraded, 26 newly installed, 0 to remove and 15 not upgraded.\n",
            "Need to get 25.1 MB of archives.\n",
            "After this operation, 87.9 MB of additional disk space will be used.\n",
            "Get:1 http://archive.ubuntu.com/ubuntu jammy/main amd64 fonts-droid-fallback all 1:6.0.1r16-1.1build1 [1,805 kB]\n",
            "Get:2 http://archive.ubuntu.com/ubuntu jammy/main amd64 libfftw3-double3 amd64 3.3.8-2ubuntu8 [770 kB]\n",
            "Get:3 http://archive.ubuntu.com/ubuntu jammy/universe amd64 liblqr-1-0 amd64 0.4.2-2.1 [27.7 kB]\n",
            "Get:4 http://archive.ubuntu.com/ubuntu jammy-updates/universe amd64 imagemagick-6-common all 8:6.9.11.60+dfsg-1.3ubuntu0.22.04.3 [63.6 kB]\n",
            "Get:5 http://archive.ubuntu.com/ubuntu jammy-updates/universe amd64 libmagickcore-6.q16-6 amd64 8:6.9.11.60+dfsg-1.3ubuntu0.22.04.3 [1,788 kB]\n",
            "Get:6 http://archive.ubuntu.com/ubuntu jammy-updates/universe amd64 libmagickwand-6.q16-6 amd64 8:6.9.11.60+dfsg-1.3ubuntu0.22.04.3 [328 kB]\n",
            "Get:7 http://archive.ubuntu.com/ubuntu jammy/main amd64 poppler-data all 0.4.11-1 [2,171 kB]\n",
            "Get:8 http://archive.ubuntu.com/ubuntu jammy/main amd64 fonts-noto-mono all 20201225-1build1 [397 kB]\n",
            "Get:9 http://archive.ubuntu.com/ubuntu jammy/main amd64 fonts-urw-base35 all 20200910-1 [6,367 kB]\n",
            "Get:10 http://archive.ubuntu.com/ubuntu jammy-updates/main amd64 libgs9-common all 9.55.0~dfsg1-0ubuntu5.5 [752 kB]\n",
            "Get:11 http://archive.ubuntu.com/ubuntu jammy-updates/main amd64 libidn12 amd64 1.38-4ubuntu1 [60.0 kB]\n",
            "Get:12 http://archive.ubuntu.com/ubuntu jammy/main amd64 libijs-0.35 amd64 0.35-15build2 [16.5 kB]\n",
            "Get:13 http://archive.ubuntu.com/ubuntu jammy/main amd64 libjbig2dec0 amd64 0.19-3build2 [64.7 kB]\n",
            "Get:14 http://archive.ubuntu.com/ubuntu jammy-updates/main amd64 libgs9 amd64 9.55.0~dfsg1-0ubuntu5.5 [5,030 kB]\n",
            "Get:15 http://archive.ubuntu.com/ubuntu jammy-updates/main amd64 ghostscript amd64 9.55.0~dfsg1-0ubuntu5.5 [49.5 kB]\n",
            "Get:16 http://archive.ubuntu.com/ubuntu jammy/universe amd64 gsfonts all 1:8.11+urwcyr1.0.7~pre44-4.5 [3,120 kB]\n",
            "Get:17 http://archive.ubuntu.com/ubuntu jammy-updates/universe amd64 imagemagick-6.q16 amd64 8:6.9.11.60+dfsg-1.3ubuntu0.22.04.3 [224 kB]\n",
            "Get:18 http://archive.ubuntu.com/ubuntu jammy-updates/universe amd64 imagemagick amd64 8:6.9.11.60+dfsg-1.3ubuntu0.22.04.3 [14.6 kB]\n",
            "Get:19 http://archive.ubuntu.com/ubuntu jammy/main amd64 libdjvulibre-text all 3.5.28-2build2 [50.9 kB]\n",
            "Get:20 http://archive.ubuntu.com/ubuntu jammy/main amd64 libdjvulibre21 amd64 3.5.28-2build2 [624 kB]\n",
            "Get:21 http://archive.ubuntu.com/ubuntu jammy/universe amd64 libjxr0 amd64 1.2~git20170615.f752187-5 [174 kB]\n",
            "Get:22 http://archive.ubuntu.com/ubuntu jammy/universe amd64 libjxr-tools amd64 1.2~git20170615.f752187-5 [16.0 kB]\n",
            "Get:23 http://archive.ubuntu.com/ubuntu jammy/main amd64 libwmflite-0.2-7 amd64 0.2.12-5ubuntu1 [68.9 kB]\n",
            "Get:24 http://archive.ubuntu.com/ubuntu jammy-updates/universe amd64 libmagickcore-6.q16-6-extra amd64 8:6.9.11.60+dfsg-1.3ubuntu0.22.04.3 [70.1 kB]\n",
            "Get:25 http://archive.ubuntu.com/ubuntu jammy/universe amd64 libnetpbm10 amd64 2:10.0-15.4 [59.1 kB]\n",
            "Get:26 http://archive.ubuntu.com/ubuntu jammy/universe amd64 netpbm amd64 2:10.0-15.4 [1,007 kB]\n",
            "Fetched 25.1 MB in 4s (5,856 kB/s)\n",
            "Selecting previously unselected package fonts-droid-fallback.\n",
            "(Reading database ... 120882 files and directories currently installed.)\n",
            "Preparing to unpack .../00-fonts-droid-fallback_1%3a6.0.1r16-1.1build1_all.deb ...\n",
            "Unpacking fonts-droid-fallback (1:6.0.1r16-1.1build1) ...\n",
            "Selecting previously unselected package libfftw3-double3:amd64.\n",
            "Preparing to unpack .../01-libfftw3-double3_3.3.8-2ubuntu8_amd64.deb ...\n",
            "Unpacking libfftw3-double3:amd64 (3.3.8-2ubuntu8) ...\n",
            "Selecting previously unselected package liblqr-1-0:amd64.\n",
            "Preparing to unpack .../02-liblqr-1-0_0.4.2-2.1_amd64.deb ...\n",
            "Unpacking liblqr-1-0:amd64 (0.4.2-2.1) ...\n",
            "Selecting previously unselected package imagemagick-6-common.\n",
            "Preparing to unpack .../03-imagemagick-6-common_8%3a6.9.11.60+dfsg-1.3ubuntu0.22.04.3_all.deb ...\n",
            "Unpacking imagemagick-6-common (8:6.9.11.60+dfsg-1.3ubuntu0.22.04.3) ...\n",
            "Selecting previously unselected package libmagickcore-6.q16-6:amd64.\n",
            "Preparing to unpack .../04-libmagickcore-6.q16-6_8%3a6.9.11.60+dfsg-1.3ubuntu0.22.04.3_amd64.deb ...\n",
            "Unpacking libmagickcore-6.q16-6:amd64 (8:6.9.11.60+dfsg-1.3ubuntu0.22.04.3) ...\n",
            "Selecting previously unselected package libmagickwand-6.q16-6:amd64.\n",
            "Preparing to unpack .../05-libmagickwand-6.q16-6_8%3a6.9.11.60+dfsg-1.3ubuntu0.22.04.3_amd64.deb ...\n",
            "Unpacking libmagickwand-6.q16-6:amd64 (8:6.9.11.60+dfsg-1.3ubuntu0.22.04.3) ...\n",
            "Selecting previously unselected package poppler-data.\n",
            "Preparing to unpack .../06-poppler-data_0.4.11-1_all.deb ...\n",
            "Unpacking poppler-data (0.4.11-1) ...\n",
            "Selecting previously unselected package fonts-noto-mono.\n",
            "Preparing to unpack .../07-fonts-noto-mono_20201225-1build1_all.deb ...\n",
            "Unpacking fonts-noto-mono (20201225-1build1) ...\n",
            "Selecting previously unselected package fonts-urw-base35.\n",
            "Preparing to unpack .../08-fonts-urw-base35_20200910-1_all.deb ...\n",
            "Unpacking fonts-urw-base35 (20200910-1) ...\n",
            "Selecting previously unselected package libgs9-common.\n",
            "Preparing to unpack .../09-libgs9-common_9.55.0~dfsg1-0ubuntu5.5_all.deb ...\n",
            "Unpacking libgs9-common (9.55.0~dfsg1-0ubuntu5.5) ...\n",
            "Selecting previously unselected package libidn12:amd64.\n",
            "Preparing to unpack .../10-libidn12_1.38-4ubuntu1_amd64.deb ...\n",
            "Unpacking libidn12:amd64 (1.38-4ubuntu1) ...\n",
            "Selecting previously unselected package libijs-0.35:amd64.\n",
            "Preparing to unpack .../11-libijs-0.35_0.35-15build2_amd64.deb ...\n",
            "Unpacking libijs-0.35:amd64 (0.35-15build2) ...\n",
            "Selecting previously unselected package libjbig2dec0:amd64.\n",
            "Preparing to unpack .../12-libjbig2dec0_0.19-3build2_amd64.deb ...\n",
            "Unpacking libjbig2dec0:amd64 (0.19-3build2) ...\n",
            "Selecting previously unselected package libgs9:amd64.\n",
            "Preparing to unpack .../13-libgs9_9.55.0~dfsg1-0ubuntu5.5_amd64.deb ...\n",
            "Unpacking libgs9:amd64 (9.55.0~dfsg1-0ubuntu5.5) ...\n",
            "Selecting previously unselected package ghostscript.\n",
            "Preparing to unpack .../14-ghostscript_9.55.0~dfsg1-0ubuntu5.5_amd64.deb ...\n",
            "Unpacking ghostscript (9.55.0~dfsg1-0ubuntu5.5) ...\n",
            "Selecting previously unselected package gsfonts.\n",
            "Preparing to unpack .../15-gsfonts_1%3a8.11+urwcyr1.0.7~pre44-4.5_all.deb ...\n",
            "Unpacking gsfonts (1:8.11+urwcyr1.0.7~pre44-4.5) ...\n",
            "Selecting previously unselected package imagemagick-6.q16.\n",
            "Preparing to unpack .../16-imagemagick-6.q16_8%3a6.9.11.60+dfsg-1.3ubuntu0.22.04.3_amd64.deb ...\n",
            "Unpacking imagemagick-6.q16 (8:6.9.11.60+dfsg-1.3ubuntu0.22.04.3) ...\n",
            "Selecting previously unselected package imagemagick.\n",
            "Preparing to unpack .../17-imagemagick_8%3a6.9.11.60+dfsg-1.3ubuntu0.22.04.3_amd64.deb ...\n",
            "Unpacking imagemagick (8:6.9.11.60+dfsg-1.3ubuntu0.22.04.3) ...\n",
            "Selecting previously unselected package libdjvulibre-text.\n",
            "Preparing to unpack .../18-libdjvulibre-text_3.5.28-2build2_all.deb ...\n",
            "Unpacking libdjvulibre-text (3.5.28-2build2) ...\n",
            "Selecting previously unselected package libdjvulibre21:amd64.\n",
            "Preparing to unpack .../19-libdjvulibre21_3.5.28-2build2_amd64.deb ...\n",
            "Unpacking libdjvulibre21:amd64 (3.5.28-2build2) ...\n",
            "Selecting previously unselected package libjxr0:amd64.\n",
            "Preparing to unpack .../20-libjxr0_1.2~git20170615.f752187-5_amd64.deb ...\n",
            "Unpacking libjxr0:amd64 (1.2~git20170615.f752187-5) ...\n",
            "Selecting previously unselected package libjxr-tools.\n",
            "Preparing to unpack .../21-libjxr-tools_1.2~git20170615.f752187-5_amd64.deb ...\n",
            "Unpacking libjxr-tools (1.2~git20170615.f752187-5) ...\n",
            "Selecting previously unselected package libwmflite-0.2-7:amd64.\n",
            "Preparing to unpack .../22-libwmflite-0.2-7_0.2.12-5ubuntu1_amd64.deb ...\n",
            "Unpacking libwmflite-0.2-7:amd64 (0.2.12-5ubuntu1) ...\n",
            "Selecting previously unselected package libmagickcore-6.q16-6-extra:amd64.\n",
            "Preparing to unpack .../23-libmagickcore-6.q16-6-extra_8%3a6.9.11.60+dfsg-1.3ubuntu0.22.04.3_amd64.deb ...\n",
            "Unpacking libmagickcore-6.q16-6-extra:amd64 (8:6.9.11.60+dfsg-1.3ubuntu0.22.04.3) ...\n",
            "Selecting previously unselected package libnetpbm10.\n",
            "Preparing to unpack .../24-libnetpbm10_2%3a10.0-15.4_amd64.deb ...\n",
            "Unpacking libnetpbm10 (2:10.0-15.4) ...\n",
            "Selecting previously unselected package netpbm.\n",
            "Preparing to unpack .../25-netpbm_2%3a10.0-15.4_amd64.deb ...\n",
            "Unpacking netpbm (2:10.0-15.4) ...\n",
            "Setting up imagemagick-6-common (8:6.9.11.60+dfsg-1.3ubuntu0.22.04.3) ...\n",
            "Setting up fonts-noto-mono (20201225-1build1) ...\n",
            "Setting up libwmflite-0.2-7:amd64 (0.2.12-5ubuntu1) ...\n",
            "Setting up libijs-0.35:amd64 (0.35-15build2) ...\n",
            "Setting up libjxr0:amd64 (1.2~git20170615.f752187-5) ...\n",
            "Setting up libnetpbm10 (2:10.0-15.4) ...\n",
            "Setting up fonts-urw-base35 (20200910-1) ...\n",
            "Setting up poppler-data (0.4.11-1) ...\n",
            "Setting up libjbig2dec0:amd64 (0.19-3build2) ...\n",
            "Setting up gsfonts (1:8.11+urwcyr1.0.7~pre44-4.5) ...\n",
            "Setting up libidn12:amd64 (1.38-4ubuntu1) ...\n",
            "Setting up netpbm (2:10.0-15.4) ...\n",
            "Setting up libfftw3-double3:amd64 (3.3.8-2ubuntu8) ...\n",
            "Setting up liblqr-1-0:amd64 (0.4.2-2.1) ...\n",
            "Setting up fonts-droid-fallback (1:6.0.1r16-1.1build1) ...\n",
            "Setting up libdjvulibre-text (3.5.28-2build2) ...\n",
            "Setting up libgs9-common (9.55.0~dfsg1-0ubuntu5.5) ...\n",
            "Setting up libjxr-tools (1.2~git20170615.f752187-5) ...\n",
            "Setting up libgs9:amd64 (9.55.0~dfsg1-0ubuntu5.5) ...\n",
            "Setting up libdjvulibre21:amd64 (3.5.28-2build2) ...\n",
            "Setting up ghostscript (9.55.0~dfsg1-0ubuntu5.5) ...\n",
            "Setting up libmagickcore-6.q16-6:amd64 (8:6.9.11.60+dfsg-1.3ubuntu0.22.04.3) ...\n",
            "Setting up libmagickwand-6.q16-6:amd64 (8:6.9.11.60+dfsg-1.3ubuntu0.22.04.3) ...\n",
            "Setting up libmagickcore-6.q16-6-extra:amd64 (8:6.9.11.60+dfsg-1.3ubuntu0.22.04.3) ...\n",
            "Setting up imagemagick-6.q16 (8:6.9.11.60+dfsg-1.3ubuntu0.22.04.3) ...\n",
            "update-alternatives: using /usr/bin/compare-im6.q16 to provide /usr/bin/compare (compare) in auto mode\n",
            "update-alternatives: using /usr/bin/compare-im6.q16 to provide /usr/bin/compare-im6 (compare-im6) in auto mode\n",
            "update-alternatives: using /usr/bin/animate-im6.q16 to provide /usr/bin/animate (animate) in auto mode\n",
            "update-alternatives: using /usr/bin/animate-im6.q16 to provide /usr/bin/animate-im6 (animate-im6) in auto mode\n",
            "update-alternatives: using /usr/bin/convert-im6.q16 to provide /usr/bin/convert (convert) in auto mode\n",
            "update-alternatives: using /usr/bin/convert-im6.q16 to provide /usr/bin/convert-im6 (convert-im6) in auto mode\n",
            "update-alternatives: using /usr/bin/composite-im6.q16 to provide /usr/bin/composite (composite) in auto mode\n",
            "update-alternatives: using /usr/bin/composite-im6.q16 to provide /usr/bin/composite-im6 (composite-im6) in auto mode\n",
            "update-alternatives: using /usr/bin/conjure-im6.q16 to provide /usr/bin/conjure (conjure) in auto mode\n",
            "update-alternatives: using /usr/bin/conjure-im6.q16 to provide /usr/bin/conjure-im6 (conjure-im6) in auto mode\n",
            "update-alternatives: using /usr/bin/import-im6.q16 to provide /usr/bin/import (import) in auto mode\n",
            "update-alternatives: using /usr/bin/import-im6.q16 to provide /usr/bin/import-im6 (import-im6) in auto mode\n",
            "update-alternatives: using /usr/bin/identify-im6.q16 to provide /usr/bin/identify (identify) in auto mode\n",
            "update-alternatives: using /usr/bin/identify-im6.q16 to provide /usr/bin/identify-im6 (identify-im6) in auto mode\n",
            "update-alternatives: using /usr/bin/stream-im6.q16 to provide /usr/bin/stream (stream) in auto mode\n",
            "update-alternatives: using /usr/bin/stream-im6.q16 to provide /usr/bin/stream-im6 (stream-im6) in auto mode\n",
            "update-alternatives: using /usr/bin/display-im6.q16 to provide /usr/bin/display (display) in auto mode\n",
            "update-alternatives: using /usr/bin/display-im6.q16 to provide /usr/bin/display-im6 (display-im6) in auto mode\n",
            "update-alternatives: using /usr/bin/montage-im6.q16 to provide /usr/bin/montage (montage) in auto mode\n",
            "update-alternatives: using /usr/bin/montage-im6.q16 to provide /usr/bin/montage-im6 (montage-im6) in auto mode\n",
            "update-alternatives: using /usr/bin/mogrify-im6.q16 to provide /usr/bin/mogrify (mogrify) in auto mode\n",
            "update-alternatives: using /usr/bin/mogrify-im6.q16 to provide /usr/bin/mogrify-im6 (mogrify-im6) in auto mode\n",
            "Setting up imagemagick (8:6.9.11.60+dfsg-1.3ubuntu0.22.04.3) ...\n",
            "Processing triggers for hicolor-icon-theme (0.17-2) ...\n",
            "Processing triggers for libc-bin (2.35-0ubuntu3.4) ...\n",
            "/sbin/ldconfig.real: /usr/local/lib/libtbbmalloc.so.2 is not a symbolic link\n",
            "\n",
            "/sbin/ldconfig.real: /usr/local/lib/libtbbmalloc_proxy.so.2 is not a symbolic link\n",
            "\n",
            "/sbin/ldconfig.real: /usr/local/lib/libtbbbind_2_0.so.3 is not a symbolic link\n",
            "\n",
            "/sbin/ldconfig.real: /usr/local/lib/libtbb.so.12 is not a symbolic link\n",
            "\n",
            "/sbin/ldconfig.real: /usr/local/lib/libtbbbind.so.3 is not a symbolic link\n",
            "\n",
            "/sbin/ldconfig.real: /usr/local/lib/libtbbbind_2_5.so.3 is not a symbolic link\n",
            "\n",
            "Processing triggers for man-db (2.10.2-1) ...\n",
            "Processing triggers for fontconfig (2.13.1-4.2ubuntu5) ...\n"
          ]
        }
      ]
    },
    {
      "cell_type": "code",
      "source": [
        "!pip install moviepy"
      ],
      "metadata": {
        "id": "jGTXm17a19Is",
        "colab": {
          "base_uri": "https://localhost:8080/"
        },
        "outputId": "71987a8a-0aab-4187-dbb1-ce5e978c6ed6"
      },
      "execution_count": null,
      "outputs": [
        {
          "output_type": "stream",
          "name": "stdout",
          "text": [
            "Requirement already satisfied: moviepy in /usr/local/lib/python3.10/dist-packages (1.0.3)\n",
            "Requirement already satisfied: decorator<5.0,>=4.0.2 in /usr/local/lib/python3.10/dist-packages (from moviepy) (4.4.2)\n",
            "Requirement already satisfied: tqdm<5.0,>=4.11.2 in /usr/local/lib/python3.10/dist-packages (from moviepy) (4.66.1)\n",
            "Requirement already satisfied: requests<3.0,>=2.8.1 in /usr/local/lib/python3.10/dist-packages (from moviepy) (2.31.0)\n",
            "Requirement already satisfied: proglog<=1.0.0 in /usr/local/lib/python3.10/dist-packages (from moviepy) (0.1.10)\n",
            "Requirement already satisfied: numpy>=1.17.3 in /usr/local/lib/python3.10/dist-packages (from moviepy) (1.23.5)\n",
            "Requirement already satisfied: imageio<3.0,>=2.5 in /usr/local/lib/python3.10/dist-packages (from moviepy) (2.31.6)\n",
            "Requirement already satisfied: imageio-ffmpeg>=0.2.0 in /usr/local/lib/python3.10/dist-packages (from moviepy) (0.4.9)\n",
            "Requirement already satisfied: pillow<10.1.0,>=8.3.2 in /usr/local/lib/python3.10/dist-packages (from imageio<3.0,>=2.5->moviepy) (9.4.0)\n",
            "Requirement already satisfied: setuptools in /usr/local/lib/python3.10/dist-packages (from imageio-ffmpeg>=0.2.0->moviepy) (67.7.2)\n",
            "Requirement already satisfied: charset-normalizer<4,>=2 in /usr/local/lib/python3.10/dist-packages (from requests<3.0,>=2.8.1->moviepy) (3.3.2)\n",
            "Requirement already satisfied: idna<4,>=2.5 in /usr/local/lib/python3.10/dist-packages (from requests<3.0,>=2.8.1->moviepy) (3.4)\n",
            "Requirement already satisfied: urllib3<3,>=1.21.1 in /usr/local/lib/python3.10/dist-packages (from requests<3.0,>=2.8.1->moviepy) (2.0.7)\n",
            "Requirement already satisfied: certifi>=2017.4.17 in /usr/local/lib/python3.10/dist-packages (from requests<3.0,>=2.8.1->moviepy) (2023.7.22)\n"
          ]
        }
      ]
    },
    {
      "cell_type": "code",
      "source": [
        "from moviepy.config import change_settings\n",
        "\n",
        "change_settings({\"IMAGEMAGICK_BINARY\": \"/usr/bin/convert\"})\n",
        "os.environ[\"IMAGEMAGICK_BINARY\"] = \"/usr/bin/convert\""
      ],
      "metadata": {
        "id": "q__OucRet5io"
      },
      "execution_count": null,
      "outputs": []
    },
    {
      "cell_type": "code",
      "source": [
        "!cp /etc/ImageMagick-6/policy.xml /content/gdrive/MyDrive/policy.xml\n",
        "\n",
        "file_path = '/content/gdrive/MyDrive/policy.xml'\n",
        "\n",
        "with open(file_path, 'r') as file:\n",
        "    lines = file.readlines()\n",
        "\n",
        "target_line = '<policy domain=\"path\" rights=\"none\" pattern=\"@*\"/>'\n",
        "commented_line = f'<!-- {target_line} -->'\n",
        "\n",
        "for i, line in enumerate(lines):\n",
        "    if line.strip() == target_line:\n",
        "        lines[i] = commented_line\n",
        "        break\n",
        "\n",
        "with open(file_path, 'w') as file:\n",
        "    file.writelines(lines)\n",
        "\n",
        "!sudo cp /content/gdrive/MyDrive/policy.xml /etc/ImageMagick-6/policy.xml"
      ],
      "metadata": {
        "id": "JRUrxdz9G7NR"
      },
      "execution_count": null,
      "outputs": []
    },
    {
      "cell_type": "code",
      "source": [
        "cat /etc/ImageMagick-6/policy.xml"
      ],
      "metadata": {
        "colab": {
          "base_uri": "https://localhost:8080/"
        },
        "id": "Zn6zQx6ZE_Bs",
        "outputId": "b279ae00-cb23-4bff-e922-5558a2910baf"
      },
      "execution_count": null,
      "outputs": [
        {
          "output_type": "stream",
          "name": "stdout",
          "text": [
            "<?xml version=\"1.0\" encoding=\"UTF-8\"?>\n",
            "<!DOCTYPE policymap [\n",
            "  <!ELEMENT policymap (policy)*>\n",
            "  <!ATTLIST policymap xmlns CDATA #FIXED ''>\n",
            "  <!ELEMENT policy EMPTY>\n",
            "  <!ATTLIST policy xmlns CDATA #FIXED '' domain NMTOKEN #REQUIRED\n",
            "    name NMTOKEN #IMPLIED pattern CDATA #IMPLIED rights NMTOKEN #IMPLIED\n",
            "    stealth NMTOKEN #IMPLIED value CDATA #IMPLIED>\n",
            "]>\n",
            "<!--\n",
            "  Configure ImageMagick policies.\n",
            "\n",
            "  Domains include system, delegate, coder, filter, path, or resource.\n",
            "\n",
            "  Rights include none, read, write, execute and all.  Use | to combine them,\n",
            "  for example: \"read | write\" to permit read from, or write to, a path.\n",
            "\n",
            "  Use a glob expression as a pattern.\n",
            "\n",
            "  Suppose we do not want users to process MPEG video images:\n",
            "\n",
            "    <policy domain=\"delegate\" rights=\"none\" pattern=\"mpeg:decode\" />\n",
            "\n",
            "  Here we do not want users reading images from HTTP:\n",
            "\n",
            "    <policy domain=\"coder\" rights=\"none\" pattern=\"HTTP\" />\n",
            "\n",
            "  The /repository file system is restricted to read only.  We use a glob\n",
            "  expression to match all paths that start with /repository:\n",
            "\n",
            "    <policy domain=\"path\" rights=\"read\" pattern=\"/repository/*\" />\n",
            "\n",
            "  Lets prevent users from executing any image filters:\n",
            "\n",
            "    <policy domain=\"filter\" rights=\"none\" pattern=\"*\" />\n",
            "\n",
            "  Any large image is cached to disk rather than memory:\n",
            "\n",
            "    <policy domain=\"resource\" name=\"area\" value=\"1GP\"/>\n",
            "\n",
            "  Use the default system font unless overwridden by the application:\n",
            "\n",
            "    <policy domain=\"system\" name=\"font\" value=\"/usr/share/fonts/favorite.ttf\"/>\n",
            "\n",
            "  Define arguments for the memory, map, area, width, height and disk resources\n",
            "  with SI prefixes (.e.g 100MB).  In addition, resource policies are maximums\n",
            "  for each instance of ImageMagick (e.g. policy memory limit 1GB, -limit 2GB\n",
            "  exceeds policy maximum so memory limit is 1GB).\n",
            "\n",
            "  Rules are processed in order.  Here we want to restrict ImageMagick to only\n",
            "  read or write a small subset of proven web-safe image types:\n",
            "\n",
            "    <policy domain=\"delegate\" rights=\"none\" pattern=\"*\" />\n",
            "    <policy domain=\"filter\" rights=\"none\" pattern=\"*\" />\n",
            "    <policy domain=\"coder\" rights=\"none\" pattern=\"*\" />\n",
            "    <policy domain=\"coder\" rights=\"read|write\" pattern=\"{GIF,JPEG,PNG,WEBP}\" />\n",
            "-->\n",
            "<policymap>\n",
            "  <!-- <policy domain=\"resource\" name=\"temporary-path\" value=\"/tmp\"/> -->\n",
            "  <policy domain=\"resource\" name=\"memory\" value=\"256MiB\"/>\n",
            "  <policy domain=\"resource\" name=\"map\" value=\"512MiB\"/>\n",
            "  <policy domain=\"resource\" name=\"width\" value=\"16KP\"/>\n",
            "  <policy domain=\"resource\" name=\"height\" value=\"16KP\"/>\n",
            "  <!-- <policy domain=\"resource\" name=\"list-length\" value=\"128\"/> -->\n",
            "  <policy domain=\"resource\" name=\"area\" value=\"128MP\"/>\n",
            "  <policy domain=\"resource\" name=\"disk\" value=\"1GiB\"/>\n",
            "  <!-- <policy domain=\"resource\" name=\"file\" value=\"768\"/> -->\n",
            "  <!-- <policy domain=\"resource\" name=\"thread\" value=\"4\"/> -->\n",
            "  <!-- <policy domain=\"resource\" name=\"throttle\" value=\"0\"/> -->\n",
            "  <!-- <policy domain=\"resource\" name=\"time\" value=\"3600\"/> -->\n",
            "  <!-- <policy domain=\"coder\" rights=\"none\" pattern=\"MVG\" /> -->\n",
            "  <!-- <policy domain=\"module\" rights=\"none\" pattern=\"{PS,PDF,XPS}\" /> -->\n",
            "  <!-- <policy domain=\"path\" rights=\"none\" pattern=\"@*\" /> -->\n",
            "  <!-- <policy domain=\"cache\" name=\"memory-map\" value=\"anonymous\"/> -->\n",
            "  <!-- <policy domain=\"cache\" name=\"synchronize\" value=\"True\"/> -->\n",
            "  <!-- <policy domain=\"cache\" name=\"shared-secret\" value=\"passphrase\" stealth=\"true\"/>\n",
            "  <!-- <policy domain=\"system\" name=\"max-memory-request\" value=\"256MiB\"/> -->\n",
            "  <!-- <policy domain=\"system\" name=\"shred\" value=\"2\"/> -->\n",
            "  <!-- <policy domain=\"system\" name=\"precision\" value=\"6\"/> -->\n",
            "  <!-- <policy domain=\"system\" name=\"font\" value=\"/path/to/font.ttf\"/> -->\n",
            "  <!-- <policy domain=\"system\" name=\"pixel-cache-memory\" value=\"anonymous\"/> -->\n",
            "  <!-- <policy domain=\"system\" name=\"shred\" value=\"2\"/> -->\n",
            "  <!-- <policy domain=\"system\" name=\"precision\" value=\"6\"/> -->\n",
            "  <!-- not needed due to the need to use explicitly by mvg: -->\n",
            "  <!-- <policy domain=\"delegate\" rights=\"none\" pattern=\"MVG\" /> -->\n",
            "  <!-- use curl -->\n",
            "  <policy domain=\"delegate\" rights=\"none\" pattern=\"URL\" />\n",
            "  <policy domain=\"delegate\" rights=\"none\" pattern=\"HTTPS\" />\n",
            "  <policy domain=\"delegate\" rights=\"none\" pattern=\"HTTP\" />\n",
            "  <!-- in order to avoid to get image with password text -->\n",
            "<!-- <policy domain=\"path\" rights=\"none\" pattern=\"@*\"/> -->  <!-- disable ghostscript format types -->\n",
            "  <policy domain=\"coder\" rights=\"none\" pattern=\"PS\" />\n",
            "  <policy domain=\"coder\" rights=\"none\" pattern=\"PS2\" />\n",
            "  <policy domain=\"coder\" rights=\"none\" pattern=\"PS3\" />\n",
            "  <policy domain=\"coder\" rights=\"none\" pattern=\"EPS\" />\n",
            "  <policy domain=\"coder\" rights=\"none\" pattern=\"PDF\" />\n",
            "  <policy domain=\"coder\" rights=\"none\" pattern=\"XPS\" />\n",
            "</policymap>\n"
          ]
        }
      ]
    },
    {
      "cell_type": "code",
      "source": [
        "import json\n",
        "from moviepy.editor import VideoFileClip, AudioFileClip, TextClip\n",
        "from moviepy.video.compositing.CompositeVideoClip import CompositeVideoClip\n",
        "from moviepy.video.tools.subtitles import SubtitlesClip\n",
        "from moviepy.video.io.ffmpeg_tools import ffmpeg_extract_subclip\n",
        "\n",
        "video_dir = '/content/gdrive/MyDrive/F23/CS370/CS370 project/Interviews/videos'\n",
        "audio_dir = '/content/gdrive/MyDrive/F23/CS370/CS370 project/Interviews/tts_speech'\n",
        "subtitles_dir = '/content/gdrive/MyDrive/F23/CS370/CS370 project/Interviews/target text'\n",
        "\n",
        "for video_file in os.listdir(video_dir):\n",
        "    output_dir = '/content/gdrive/MyDrive/F23/CS370/CS370 project/Interviews/output videos'\n",
        "\n",
        "    if not os.path.isfile(os.path.join(output_dir, video_file)):\n",
        "        name = video_file.strip('.mp4')\n",
        "        print(f'making output video {name}')\n",
        "        video_path = os.path.join(video_dir, video_file)\n",
        "        video_clip = VideoFileClip(video_path)\n",
        "\n",
        "\n",
        "        audio_path = os.path.join(audio_dir, name + '.wav')\n",
        "        print(f'audio_path: {audio_path}')\n",
        "        audio_clip = AudioFileClip(audio_path)\n",
        "\n",
        "        videoclip = video_clip.set_audio(audio_clip)\n",
        "\n",
        "        subtitles_path = os.path.join(subtitles_dir, name + '.txt')\n",
        "        print(f'subtitles_path: {subtitles_path}')\n",
        "        with open(subtitles_path, 'r', encoding='utf-8') as file:\n",
        "            subtitles = json.load(file)\n",
        "\n",
        "        def format_subtitle_data(subtitles):\n",
        "            return [((subtitle[\"start\"], subtitle[\"end\"]), subtitle[\"text\"]) for subtitle in subtitles]\n",
        "\n",
        "        subtitles = format_subtitle_data(subtitles)\n",
        "\n",
        "        generator = lambda txt: TextClip(txt, font='Arial', fontsize=24, color='white')\n",
        "\n",
        "        subtitles_clip = SubtitlesClip(subtitles, generator)\n",
        "\n",
        "        video_with_subtitles = CompositeVideoClip([videoclip, subtitles_clip.set_pos(('center', 'bottom'))])\n",
        "\n",
        "        video_with_subtitles.write_videofile(os.path.join(output_dir, video_file), codec='libx264', audio_codec='aac')"
      ],
      "metadata": {
        "colab": {
          "base_uri": "https://localhost:8080/"
        },
        "id": "qREDPECy9kjh",
        "outputId": "428b9701-6b28-4c92-cd3f-06b1755bac45"
      },
      "execution_count": null,
      "outputs": [
        {
          "output_type": "stream",
          "name": "stdout",
          "text": [
            "making output video Gen Mark Milley The 60 Minutes Interview\n",
            "audio_path: /content/gdrive/MyDrive/F23/CS370/CS370 project/Interviews/tts_speech1/Gen Mark Milley The 60 Minutes Interview.wav\n",
            "subtitles_path: /content/gdrive/MyDrive/F23/CS370/CS370 project/Interviews/target text1/Gen Mark Milley The 60 Minutes Interview.txt\n",
            "Moviepy - Building video /content/gdrive/MyDrive/F23/CS370/CS370 project/Interviews/output videos1/Gen Mark Milley The 60 Minutes Interview.mp4.\n",
            "MoviePy - Writing audio in Gen Mark Milley The 60 Minutes InterviewTEMP_MPY_wvf_snd.mp4\n"
          ]
        },
        {
          "output_type": "stream",
          "name": "stderr",
          "text": []
        },
        {
          "output_type": "stream",
          "name": "stdout",
          "text": [
            "MoviePy - Done.\n",
            "Moviepy - Writing video /content/gdrive/MyDrive/F23/CS370/CS370 project/Interviews/output videos1/Gen Mark Milley The 60 Minutes Interview.mp4\n",
            "\n"
          ]
        },
        {
          "output_type": "stream",
          "name": "stderr",
          "text": [
            "t: 100%|█████████▉| 24093/24094 [26:11<00:00, 33.47it/s, now=None]WARNING:py.warnings:/usr/local/lib/python3.10/dist-packages/moviepy/video/io/ffmpeg_reader.py:123: UserWarning: Warning: in file /content/gdrive/MyDrive/F23/CS370/CS370 project/Interviews/videos/Gen Mark Milley The 60 Minutes Interview.mp4, 2764800 bytes wanted but 0 bytes read,at frame 24093/24094, at time 803.90/803.92 sec. Using the last valid frame instead.\n",
            "  warnings.warn(\"Warning: in file %s, \"%(self.filename)+\n",
            "\n"
          ]
        },
        {
          "output_type": "stream",
          "name": "stdout",
          "text": [
            "Moviepy - Done !\n",
            "Moviepy - video ready /content/gdrive/MyDrive/F23/CS370/CS370 project/Interviews/output videos1/Gen Mark Milley The 60 Minutes Interview.mp4\n",
            "making output video Attorney General Merrick Garland The 60 Minutes Interview\n",
            "audio_path: /content/gdrive/MyDrive/F23/CS370/CS370 project/Interviews/tts_speech1/Attorney General Merrick Garland The 60 Minutes Interview.wav\n",
            "subtitles_path: /content/gdrive/MyDrive/F23/CS370/CS370 project/Interviews/target text1/Attorney General Merrick Garland The 60 Minutes Interview.txt\n",
            "Moviepy - Building video /content/gdrive/MyDrive/F23/CS370/CS370 project/Interviews/output videos1/Attorney General Merrick Garland The 60 Minutes Interview.mp4.\n",
            "MoviePy - Writing audio in Attorney General Merrick Garland The 60 Minutes InterviewTEMP_MPY_wvf_snd.mp4\n"
          ]
        },
        {
          "output_type": "stream",
          "name": "stderr",
          "text": []
        },
        {
          "output_type": "stream",
          "name": "stdout",
          "text": [
            "MoviePy - Done.\n",
            "Moviepy - Writing video /content/gdrive/MyDrive/F23/CS370/CS370 project/Interviews/output videos1/Attorney General Merrick Garland The 60 Minutes Interview.mp4\n",
            "\n"
          ]
        },
        {
          "output_type": "stream",
          "name": "stderr",
          "text": [
            "t: 100%|█████████▉| 24661/24662 [25:45<00:00, 30.98it/s, now=None]WARNING:py.warnings:/usr/local/lib/python3.10/dist-packages/moviepy/video/io/ffmpeg_reader.py:123: UserWarning: Warning: in file /content/gdrive/MyDrive/F23/CS370/CS370 project/Interviews/videos/Attorney General Merrick Garland The 60 Minutes Interview.mp4, 2764800 bytes wanted but 0 bytes read,at frame 24661/24662, at time 822.86/822.87 sec. Using the last valid frame instead.\n",
            "  warnings.warn(\"Warning: in file %s, \"%(self.filename)+\n",
            "\n"
          ]
        },
        {
          "output_type": "stream",
          "name": "stdout",
          "text": [
            "Moviepy - Done !\n",
            "Moviepy - video ready /content/gdrive/MyDrive/F23/CS370/CS370 project/Interviews/output videos1/Attorney General Merrick Garland The 60 Minutes Interview.mp4\n",
            "making output video Deion Sanders The 2023 60 Minutes Interview\n",
            "audio_path: /content/gdrive/MyDrive/F23/CS370/CS370 project/Interviews/tts_speech1/Deion Sanders The 2023 60 Minutes Interview.wav\n",
            "subtitles_path: /content/gdrive/MyDrive/F23/CS370/CS370 project/Interviews/target text1/Deion Sanders The 2023 60 Minutes Interview.txt\n",
            "Moviepy - Building video /content/gdrive/MyDrive/F23/CS370/CS370 project/Interviews/output videos1/Deion Sanders The 2023 60 Minutes Interview.mp4.\n",
            "MoviePy - Writing audio in Deion Sanders The 2023 60 Minutes InterviewTEMP_MPY_wvf_snd.mp4\n"
          ]
        },
        {
          "output_type": "stream",
          "name": "stderr",
          "text": []
        },
        {
          "output_type": "stream",
          "name": "stdout",
          "text": [
            "MoviePy - Done.\n",
            "Moviepy - Writing video /content/gdrive/MyDrive/F23/CS370/CS370 project/Interviews/output videos1/Deion Sanders The 2023 60 Minutes Interview.mp4\n",
            "\n"
          ]
        },
        {
          "output_type": "stream",
          "name": "stderr",
          "text": [
            "t: 100%|██████████| 23944/23944 [32:06<00:00, 18.08it/s, now=None]WARNING:py.warnings:/usr/local/lib/python3.10/dist-packages/moviepy/video/io/ffmpeg_reader.py:123: UserWarning: Warning: in file /content/gdrive/MyDrive/F23/CS370/CS370 project/Interviews/videos/Deion Sanders The 2023 60 Minutes Interview.mp4, 2764800 bytes wanted but 0 bytes read,at frame 23943/23944, at time 798.90/798.91 sec. Using the last valid frame instead.\n",
            "  warnings.warn(\"Warning: in file %s, \"%(self.filename)+\n",
            "\n"
          ]
        },
        {
          "output_type": "stream",
          "name": "stdout",
          "text": [
            "Moviepy - Done !\n",
            "Moviepy - video ready /content/gdrive/MyDrive/F23/CS370/CS370 project/Interviews/output videos1/Deion Sanders The 2023 60 Minutes Interview.mp4\n",
            "making output video Volodymyr Zelenskyy The 2023 60 Minutes Interview\n",
            "audio_path: /content/gdrive/MyDrive/F23/CS370/CS370 project/Interviews/tts_speech1/Volodymyr Zelenskyy The 2023 60 Minutes Interview.wav\n",
            "subtitles_path: /content/gdrive/MyDrive/F23/CS370/CS370 project/Interviews/target text1/Volodymyr Zelenskyy The 2023 60 Minutes Interview.txt\n",
            "Moviepy - Building video /content/gdrive/MyDrive/F23/CS370/CS370 project/Interviews/output videos1/Volodymyr Zelenskyy The 2023 60 Minutes Interview.mp4.\n",
            "MoviePy - Writing audio in Volodymyr Zelenskyy The 2023 60 Minutes InterviewTEMP_MPY_wvf_snd.mp4\n"
          ]
        },
        {
          "output_type": "stream",
          "name": "stderr",
          "text": []
        },
        {
          "output_type": "stream",
          "name": "stdout",
          "text": [
            "MoviePy - Done.\n",
            "Moviepy - Writing video /content/gdrive/MyDrive/F23/CS370/CS370 project/Interviews/output videos1/Volodymyr Zelenskyy The 2023 60 Minutes Interview.mp4\n",
            "\n"
          ]
        },
        {
          "output_type": "stream",
          "name": "stderr",
          "text": [
            "t: 100%|██████████| 24124/24124 [27:51<00:00, 16.12it/s, now=None]WARNING:py.warnings:/usr/local/lib/python3.10/dist-packages/moviepy/video/io/ffmpeg_reader.py:123: UserWarning: Warning: in file /content/gdrive/MyDrive/F23/CS370/CS370 project/Interviews/videos/Volodymyr Zelenskyy The 2023 60 Minutes Interview.mp4, 2764800 bytes wanted but 0 bytes read,at frame 24123/24124, at time 804.90/804.92 sec. Using the last valid frame instead.\n",
            "  warnings.warn(\"Warning: in file %s, \"%(self.filename)+\n",
            "\n"
          ]
        },
        {
          "output_type": "stream",
          "name": "stdout",
          "text": [
            "Moviepy - Done !\n",
            "Moviepy - video ready /content/gdrive/MyDrive/F23/CS370/CS370 project/Interviews/output videos1/Volodymyr Zelenskyy The 2023 60 Minutes Interview.mp4\n",
            "making output video Denzel Washington  60 Minutes Archive\n",
            "audio_path: /content/gdrive/MyDrive/F23/CS370/CS370 project/Interviews/tts_speech1/Denzel Washington  60 Minutes Archive.wav\n",
            "subtitles_path: /content/gdrive/MyDrive/F23/CS370/CS370 project/Interviews/target text1/Denzel Washington  60 Minutes Archive.txt\n",
            "Moviepy - Building video /content/gdrive/MyDrive/F23/CS370/CS370 project/Interviews/output videos1/Denzel Washington  60 Minutes Archive.mp4.\n",
            "MoviePy - Writing audio in Denzel Washington  60 Minutes ArchiveTEMP_MPY_wvf_snd.mp4\n"
          ]
        },
        {
          "output_type": "stream",
          "name": "stderr",
          "text": []
        },
        {
          "output_type": "stream",
          "name": "stdout",
          "text": [
            "MoviePy - Done.\n",
            "Moviepy - Writing video /content/gdrive/MyDrive/F23/CS370/CS370 project/Interviews/output videos1/Denzel Washington  60 Minutes Archive.mp4\n",
            "\n"
          ]
        },
        {
          "output_type": "stream",
          "name": "stderr",
          "text": [
            "t: 100%|█████████▉| 19784/19785 [22:16<00:00, 35.12it/s, now=None]WARNING:py.warnings:/usr/local/lib/python3.10/dist-packages/moviepy/video/io/ffmpeg_reader.py:123: UserWarning: Warning: in file /content/gdrive/MyDrive/F23/CS370/CS370 project/Interviews/videos/Denzel Washington  60 Minutes Archive.mp4, 2764800 bytes wanted but 0 bytes read,at frame 19784/19785, at time 660.13/660.14 sec. Using the last valid frame instead.\n",
            "  warnings.warn(\"Warning: in file %s, \"%(self.filename)+\n",
            "\n"
          ]
        },
        {
          "output_type": "stream",
          "name": "stdout",
          "text": [
            "Moviepy - Done !\n",
            "Moviepy - video ready /content/gdrive/MyDrive/F23/CS370/CS370 project/Interviews/output videos1/Denzel Washington  60 Minutes Archive.mp4\n",
            "making output video World Number 1 Pool Player Shane Van Boening The 60 Minutes Interview\n",
            "audio_path: /content/gdrive/MyDrive/F23/CS370/CS370 project/Interviews/tts_speech1/World Number 1 Pool Player Shane Van Boening The 60 Minutes Interview.wav\n",
            "subtitles_path: /content/gdrive/MyDrive/F23/CS370/CS370 project/Interviews/target text1/World Number 1 Pool Player Shane Van Boening The 60 Minutes Interview.txt\n",
            "Moviepy - Building video /content/gdrive/MyDrive/F23/CS370/CS370 project/Interviews/output videos1/World Number 1 Pool Player Shane Van Boening The 60 Minutes Interview.mp4.\n",
            "MoviePy - Writing audio in World Number 1 Pool Player Shane Van Boening The 60 Minutes InterviewTEMP_MPY_wvf_snd.mp4\n"
          ]
        },
        {
          "output_type": "stream",
          "name": "stderr",
          "text": []
        },
        {
          "output_type": "stream",
          "name": "stdout",
          "text": [
            "MoviePy - Done.\n",
            "Moviepy - Writing video /content/gdrive/MyDrive/F23/CS370/CS370 project/Interviews/output videos1/World Number 1 Pool Player Shane Van Boening The 60 Minutes Interview.mp4\n",
            "\n"
          ]
        },
        {
          "output_type": "stream",
          "name": "stderr",
          "text": [
            "t: 100%|██████████| 23943/23943 [30:17<00:00,  9.65it/s, now=None]WARNING:py.warnings:/usr/local/lib/python3.10/dist-packages/moviepy/video/io/ffmpeg_reader.py:123: UserWarning: Warning: in file /content/gdrive/MyDrive/F23/CS370/CS370 project/Interviews/videos/World Number 1 Pool Player Shane Van Boening The 60 Minutes Interview.mp4, 2764800 bytes wanted but 0 bytes read,at frame 23942/23943, at time 798.86/798.88 sec. Using the last valid frame instead.\n",
            "  warnings.warn(\"Warning: in file %s, \"%(self.filename)+\n",
            "\n"
          ]
        },
        {
          "output_type": "stream",
          "name": "stdout",
          "text": [
            "Moviepy - Done !\n",
            "Moviepy - video ready /content/gdrive/MyDrive/F23/CS370/CS370 project/Interviews/output videos1/World Number 1 Pool Player Shane Van Boening The 60 Minutes Interview.mp4\n",
            "making output video Yannick Nézet-Séguin The 60 Minutes Interview\n",
            "audio_path: /content/gdrive/MyDrive/F23/CS370/CS370 project/Interviews/tts_speech1/Yannick Nézet-Séguin The 60 Minutes Interview.wav\n",
            "subtitles_path: /content/gdrive/MyDrive/F23/CS370/CS370 project/Interviews/target text1/Yannick Nézet-Séguin The 60 Minutes Interview.txt\n",
            "Moviepy - Building video /content/gdrive/MyDrive/F23/CS370/CS370 project/Interviews/output videos1/Yannick Nézet-Séguin The 60 Minutes Interview.mp4.\n",
            "MoviePy - Writing audio in Yannick Nézet-Séguin The 60 Minutes InterviewTEMP_MPY_wvf_snd.mp4\n"
          ]
        },
        {
          "output_type": "stream",
          "name": "stderr",
          "text": []
        },
        {
          "output_type": "stream",
          "name": "stdout",
          "text": [
            "MoviePy - Done.\n",
            "Moviepy - Writing video /content/gdrive/MyDrive/F23/CS370/CS370 project/Interviews/output videos1/Yannick Nézet-Séguin The 60 Minutes Interview.mp4\n",
            "\n"
          ]
        },
        {
          "output_type": "stream",
          "name": "stderr",
          "text": [
            "t: 100%|█████████▉| 24453/24454 [32:43<00:00, 23.14it/s, now=None]WARNING:py.warnings:/usr/local/lib/python3.10/dist-packages/moviepy/video/io/ffmpeg_reader.py:123: UserWarning: Warning: in file /content/gdrive/MyDrive/F23/CS370/CS370 project/Interviews/videos/Yannick Nézet-Séguin The 60 Minutes Interview.mp4, 2764800 bytes wanted but 0 bytes read,at frame 24453/24454, at time 815.92/815.93 sec. Using the last valid frame instead.\n",
            "  warnings.warn(\"Warning: in file %s, \"%(self.filename)+\n",
            "\n"
          ]
        },
        {
          "output_type": "stream",
          "name": "stdout",
          "text": [
            "Moviepy - Done !\n",
            "Moviepy - video ready /content/gdrive/MyDrive/F23/CS370/CS370 project/Interviews/output videos1/Yannick Nézet-Séguin The 60 Minutes Interview.mp4\n"
          ]
        }
      ]
    },
    {
      "cell_type": "markdown",
      "source": [
        "### The UI I have in the project description can be done partially also : two columns of source and target language captions synced with timestamps at minimum"
      ],
      "metadata": {
        "id": "UjZZYkeppAEz"
      }
    },
    {
      "cell_type": "code",
      "source": [
        "import os\n",
        "\n",
        "from google.colab import drive\n",
        "drive.mount('/content/gdrive')"
      ],
      "metadata": {
        "id": "AzZnvGoctNZ8",
        "colab": {
          "base_uri": "https://localhost:8080/"
        },
        "outputId": "37e19765-6bc8-4cb0-f61b-007eab9d58c4"
      },
      "execution_count": null,
      "outputs": [
        {
          "output_type": "stream",
          "name": "stdout",
          "text": [
            "Mounted at /content/gdrive\n"
          ]
        }
      ]
    },
    {
      "cell_type": "code",
      "source": [
        "!pip install pytube moviepy git+https://github.com/openai/whisper.git transformers sentencepiece streamlit"
      ],
      "metadata": {
        "colab": {
          "base_uri": "https://localhost:8080/"
        },
        "id": "5LKfF-EpxiEZ",
        "outputId": "2e7da3fc-1c40-47fb-9baa-8d395ce19c05"
      },
      "execution_count": null,
      "outputs": [
        {
          "output_type": "stream",
          "name": "stdout",
          "text": [
            "Collecting streamlit\n",
            "  Downloading streamlit-1.28.2-py2.py3-none-any.whl (8.4 MB)\n",
            "\u001b[2K     \u001b[90m━━━━━━━━━━━━━━━━━━━━━━━━━━━━━━━━━━━━━━━━\u001b[0m \u001b[32m8.4/8.4 MB\u001b[0m \u001b[31m19.9 MB/s\u001b[0m eta \u001b[36m0:00:00\u001b[0m\n",
            "\u001b[?25hRequirement already satisfied: altair<6,>=4.0 in /usr/local/lib/python3.10/dist-packages (from streamlit) (4.2.2)\n",
            "Requirement already satisfied: blinker<2,>=1.0.0 in /usr/lib/python3/dist-packages (from streamlit) (1.4)\n",
            "Requirement already satisfied: cachetools<6,>=4.0 in /usr/local/lib/python3.10/dist-packages (from streamlit) (5.3.2)\n",
            "Requirement already satisfied: click<9,>=7.0 in /usr/local/lib/python3.10/dist-packages (from streamlit) (8.1.7)\n",
            "Requirement already satisfied: importlib-metadata<7,>=1.4 in /usr/local/lib/python3.10/dist-packages (from streamlit) (6.8.0)\n",
            "Requirement already satisfied: numpy<2,>=1.19.3 in /usr/local/lib/python3.10/dist-packages (from streamlit) (1.23.5)\n",
            "Requirement already satisfied: packaging<24,>=16.8 in /usr/local/lib/python3.10/dist-packages (from streamlit) (23.2)\n",
            "Requirement already satisfied: pandas<3,>=1.3.0 in /usr/local/lib/python3.10/dist-packages (from streamlit) (1.5.3)\n",
            "Requirement already satisfied: pillow<11,>=7.1.0 in /usr/local/lib/python3.10/dist-packages (from streamlit) (9.4.0)\n",
            "Requirement already satisfied: protobuf<5,>=3.20 in /usr/local/lib/python3.10/dist-packages (from streamlit) (3.20.3)\n",
            "Requirement already satisfied: pyarrow>=6.0 in /usr/local/lib/python3.10/dist-packages (from streamlit) (9.0.0)\n",
            "Requirement already satisfied: python-dateutil<3,>=2.7.3 in /usr/local/lib/python3.10/dist-packages (from streamlit) (2.8.2)\n",
            "Requirement already satisfied: requests<3,>=2.27 in /usr/local/lib/python3.10/dist-packages (from streamlit) (2.31.0)\n",
            "Requirement already satisfied: rich<14,>=10.14.0 in /usr/local/lib/python3.10/dist-packages (from streamlit) (13.7.0)\n",
            "Requirement already satisfied: tenacity<9,>=8.1.0 in /usr/local/lib/python3.10/dist-packages (from streamlit) (8.2.3)\n",
            "Requirement already satisfied: toml<2,>=0.10.1 in /usr/local/lib/python3.10/dist-packages (from streamlit) (0.10.2)\n",
            "Requirement already satisfied: typing-extensions<5,>=4.3.0 in /usr/local/lib/python3.10/dist-packages (from streamlit) (4.5.0)\n",
            "Requirement already satisfied: tzlocal<6,>=1.1 in /usr/local/lib/python3.10/dist-packages (from streamlit) (5.2)\n",
            "Collecting validators<1,>=0.2 (from streamlit)\n",
            "  Downloading validators-0.22.0-py3-none-any.whl (26 kB)\n",
            "Collecting gitpython!=3.1.19,<4,>=3.0.7 (from streamlit)\n",
            "  Downloading GitPython-3.1.40-py3-none-any.whl (190 kB)\n",
            "\u001b[2K     \u001b[90m━━━━━━━━━━━━━━━━━━━━━━━━━━━━━━━━━━━━━━━━\u001b[0m \u001b[32m190.6/190.6 kB\u001b[0m \u001b[31m18.5 MB/s\u001b[0m eta \u001b[36m0:00:00\u001b[0m\n",
            "\u001b[?25hCollecting pydeck<1,>=0.8.0b4 (from streamlit)\n",
            "  Downloading pydeck-0.8.1b0-py2.py3-none-any.whl (4.8 MB)\n",
            "\u001b[2K     \u001b[90m━━━━━━━━━━━━━━━━━━━━━━━━━━━━━━━━━━━━━━━━\u001b[0m \u001b[32m4.8/4.8 MB\u001b[0m \u001b[31m48.7 MB/s\u001b[0m eta \u001b[36m0:00:00\u001b[0m\n",
            "\u001b[?25hRequirement already satisfied: tornado<7,>=6.0.3 in /usr/local/lib/python3.10/dist-packages (from streamlit) (6.3.2)\n",
            "Collecting watchdog>=2.1.5 (from streamlit)\n",
            "  Downloading watchdog-3.0.0-py3-none-manylinux2014_x86_64.whl (82 kB)\n",
            "\u001b[2K     \u001b[90m━━━━━━━━━━━━━━━━━━━━━━━━━━━━━━━━━━━━━━━━\u001b[0m \u001b[32m82.1/82.1 kB\u001b[0m \u001b[31m8.8 MB/s\u001b[0m eta \u001b[36m0:00:00\u001b[0m\n",
            "\u001b[?25hRequirement already satisfied: entrypoints in /usr/local/lib/python3.10/dist-packages (from altair<6,>=4.0->streamlit) (0.4)\n",
            "Requirement already satisfied: jinja2 in /usr/local/lib/python3.10/dist-packages (from altair<6,>=4.0->streamlit) (3.1.2)\n",
            "Requirement already satisfied: jsonschema>=3.0 in /usr/local/lib/python3.10/dist-packages (from altair<6,>=4.0->streamlit) (4.19.2)\n",
            "Requirement already satisfied: toolz in /usr/local/lib/python3.10/dist-packages (from altair<6,>=4.0->streamlit) (0.12.0)\n",
            "Collecting gitdb<5,>=4.0.1 (from gitpython!=3.1.19,<4,>=3.0.7->streamlit)\n",
            "  Downloading gitdb-4.0.11-py3-none-any.whl (62 kB)\n",
            "\u001b[2K     \u001b[90m━━━━━━━━━━━━━━━━━━━━━━━━━━━━━━━━━━━━━━━━\u001b[0m \u001b[32m62.7/62.7 kB\u001b[0m \u001b[31m7.3 MB/s\u001b[0m eta \u001b[36m0:00:00\u001b[0m\n",
            "\u001b[?25hRequirement already satisfied: zipp>=0.5 in /usr/local/lib/python3.10/dist-packages (from importlib-metadata<7,>=1.4->streamlit) (3.17.0)\n",
            "Requirement already satisfied: pytz>=2020.1 in /usr/local/lib/python3.10/dist-packages (from pandas<3,>=1.3.0->streamlit) (2023.3.post1)\n",
            "Requirement already satisfied: six>=1.5 in /usr/local/lib/python3.10/dist-packages (from python-dateutil<3,>=2.7.3->streamlit) (1.16.0)\n",
            "Requirement already satisfied: charset-normalizer<4,>=2 in /usr/local/lib/python3.10/dist-packages (from requests<3,>=2.27->streamlit) (3.3.2)\n",
            "Requirement already satisfied: idna<4,>=2.5 in /usr/local/lib/python3.10/dist-packages (from requests<3,>=2.27->streamlit) (3.4)\n",
            "Requirement already satisfied: urllib3<3,>=1.21.1 in /usr/local/lib/python3.10/dist-packages (from requests<3,>=2.27->streamlit) (2.0.7)\n",
            "Requirement already satisfied: certifi>=2017.4.17 in /usr/local/lib/python3.10/dist-packages (from requests<3,>=2.27->streamlit) (2023.7.22)\n",
            "Requirement already satisfied: markdown-it-py>=2.2.0 in /usr/local/lib/python3.10/dist-packages (from rich<14,>=10.14.0->streamlit) (3.0.0)\n",
            "Requirement already satisfied: pygments<3.0.0,>=2.13.0 in /usr/local/lib/python3.10/dist-packages (from rich<14,>=10.14.0->streamlit) (2.16.1)\n",
            "Collecting smmap<6,>=3.0.1 (from gitdb<5,>=4.0.1->gitpython!=3.1.19,<4,>=3.0.7->streamlit)\n",
            "  Downloading smmap-5.0.1-py3-none-any.whl (24 kB)\n",
            "Requirement already satisfied: MarkupSafe>=2.0 in /usr/local/lib/python3.10/dist-packages (from jinja2->altair<6,>=4.0->streamlit) (2.1.3)\n",
            "Requirement already satisfied: attrs>=22.2.0 in /usr/local/lib/python3.10/dist-packages (from jsonschema>=3.0->altair<6,>=4.0->streamlit) (23.1.0)\n",
            "Requirement already satisfied: jsonschema-specifications>=2023.03.6 in /usr/local/lib/python3.10/dist-packages (from jsonschema>=3.0->altair<6,>=4.0->streamlit) (2023.11.1)\n",
            "Requirement already satisfied: referencing>=0.28.4 in /usr/local/lib/python3.10/dist-packages (from jsonschema>=3.0->altair<6,>=4.0->streamlit) (0.31.0)\n",
            "Requirement already satisfied: rpds-py>=0.7.1 in /usr/local/lib/python3.10/dist-packages (from jsonschema>=3.0->altair<6,>=4.0->streamlit) (0.13.0)\n",
            "Requirement already satisfied: mdurl~=0.1 in /usr/local/lib/python3.10/dist-packages (from markdown-it-py>=2.2.0->rich<14,>=10.14.0->streamlit) (0.1.2)\n",
            "Installing collected packages: watchdog, validators, smmap, pydeck, gitdb, gitpython, streamlit\n",
            "Successfully installed gitdb-4.0.11 gitpython-3.1.40 pydeck-0.8.1b0 smmap-5.0.1 streamlit-1.28.2 validators-0.22.0 watchdog-3.0.0\n"
          ]
        }
      ]
    },
    {
      "cell_type": "code",
      "source": [
        "!npm install localtunnel"
      ],
      "metadata": {
        "colab": {
          "base_uri": "https://localhost:8080/"
        },
        "id": "1ISz7D0vxz-p",
        "outputId": "ea7f83ad-c720-4c99-8688-51b8d9560fa1"
      },
      "execution_count": null,
      "outputs": [
        {
          "output_type": "stream",
          "name": "stdout",
          "text": [
            "\u001b[K\u001b[?25h\u001b[37;40mnpm\u001b[0m \u001b[0m\u001b[30;43mWARN\u001b[0m \u001b[0m\u001b[35msaveError\u001b[0m ENOENT: no such file or directory, open '/content/package.json'\n",
            "\u001b[K\u001b[?25h\u001b[37;40mnpm\u001b[0m \u001b[0m\u001b[34;40mnotice\u001b[0m\u001b[35m\u001b[0m created a lockfile as package-lock.json. You should commit this file.\n",
            "\u001b[0m\u001b[37;40mnpm\u001b[0m \u001b[0m\u001b[30;43mWARN\u001b[0m \u001b[0m\u001b[35menoent\u001b[0m ENOENT: no such file or directory, open '/content/package.json'\n",
            "\u001b[0m\u001b[37;40mnpm\u001b[0m \u001b[0m\u001b[30;43mWARN\u001b[0m\u001b[35m\u001b[0m content No description\n",
            "\u001b[0m\u001b[37;40mnpm\u001b[0m \u001b[0m\u001b[30;43mWARN\u001b[0m\u001b[35m\u001b[0m content No repository field.\n",
            "\u001b[0m\u001b[37;40mnpm\u001b[0m \u001b[0m\u001b[30;43mWARN\u001b[0m\u001b[35m\u001b[0m content No README data\n",
            "\u001b[0m\u001b[37;40mnpm\u001b[0m \u001b[0m\u001b[30;43mWARN\u001b[0m\u001b[35m\u001b[0m content No license field.\n",
            "\u001b[0m\n",
            "+ localtunnel@2.0.2\n",
            "added 22 packages from 22 contributors and audited 22 packages in 3.04s\n",
            "\n",
            "3 packages are looking for funding\n",
            "  run `npm fund` for details\n",
            "\n",
            "found 1 \u001b[93mmoderate\u001b[0m severity vulnerability\n",
            "  run `npm audit fix` to fix them, or `npm audit` for details\n",
            "\u001b[K\u001b[?25h"
          ]
        }
      ]
    },
    {
      "cell_type": "code",
      "source": [
        "%%writefile '/content/gdrive/MyDrive/F23/CS370/CS370 project/app.py'\n",
        "\n",
        "import os\n",
        "import re\n",
        "from pytube import Playlist, YouTube\n",
        "import moviepy.editor as mp\n",
        "import whisper\n",
        "from transformers import MarianMTModel, MarianTokenizer\n",
        "import streamlit as st\n",
        "import pandas as pd\n",
        "import numpy as np\n",
        "import json\n",
        "\n",
        "#ms1\n",
        "def download_video(app_dir, youtube_url):\n",
        "    video = YouTube(youtube_url)\n",
        "\n",
        "    pattern = re.compile('[^A-Za-z0-9]+')\n",
        "    video_title = pattern.sub('', video.title)\n",
        "\n",
        "    #st.write('getting video ' + video_title)\n",
        "\n",
        "    highest_res_stream = video.streams.get_highest_resolution()\n",
        "    #st.write('downloading video ' + video_title)\n",
        "\n",
        "    highest_res_stream.download(app_dir, video_title + '.mp4')\n",
        "    #st.write('done downloading video ' + video_title)\n",
        "\n",
        "    return os.path.join(app_dir, video_title + '.mp4')\n",
        "\n",
        "#ms2\n",
        "def extract_audio(app_dir, video_path):\n",
        "    video_name = os.path.splitext(os.path.basename(video_path))[0]\n",
        "    #st.write('extracting audio for ' + video_name)\n",
        "    video = mp.VideoFileClip(video_path)\n",
        "\n",
        "    audio = video.audio\n",
        "\n",
        "    audio_file = os.path.join(app_dir, video_name + '.mp3')\n",
        "\n",
        "    audio.write_audiofile(audio_file)\n",
        "    #st.write('done extracting audio for ' + video_name)\n",
        "    video.close()\n",
        "\n",
        "    return audio_file\n",
        "\n",
        "#ms3\n",
        "def transcribe_audio(app_dir, audio_path):\n",
        "    audio_name = os.path.splitext(os.path.basename(audio_path))[0]\n",
        "    #st.write('transcribing audio for ' + audio_name)\n",
        "    model = whisper.load_model('base')\n",
        "\n",
        "    transcription = model.transcribe(audio_path)\n",
        "\n",
        "    transcription_json = [{\"text\" : item['text'], \"start\" : item['start'], \"end\" : item['end']} for item in transcription['segments']]\n",
        "    transcription_json_str = json.dumps(transcription_json)\n",
        "\n",
        "    transcription_path = os.path.join(app_dir, audio_name + '_transcription.txt')\n",
        "\n",
        "    with open(transcription_path, 'w', encoding='utf-8') as txt:\n",
        "        txt.write(transcription_json_str)\n",
        "    #st.write('done transcribing audio for ' + audio_name)\n",
        "\n",
        "    return transcription_path\n",
        "\n",
        "#ms4\n",
        "def translate_text(text, model, tokenizer):\n",
        "    inputs = tokenizer(text['text'], return_tensors=\"pt\", padding=True)\n",
        "    translated = model.generate(**inputs)\n",
        "    translation = tokenizer.decode(translated[0], skip_special_tokens=True)\n",
        "\n",
        "    return {\"text\": translation, \"start\": text[\"start\"], \"end\": text[\"end\"]}\n",
        "\n",
        "def translate(app_dir, target_language, transcription_path):\n",
        "    transcription_name = os.path.splitext(os.path.basename(transcription_path.split('_')[0]))[0]\n",
        "    #st.write('translating ' + transcription_name)\n",
        "\n",
        "    model_name = f'Helsinki-NLP/opus-mt-en-{target_language}'\n",
        "    model = MarianMTModel.from_pretrained(model_name)\n",
        "    tokenizer = MarianTokenizer.from_pretrained(model_name, use_fast=False)\n",
        "\n",
        "    translation_path = os.path.join(app_dir, transcription_name + '_translation.txt')\n",
        "\n",
        "    with open(transcription_path, 'r', encoding='utf-8') as file:\n",
        "        transcription_json = json.load(file)\n",
        "\n",
        "        translation_json = [translate_text(item, model, tokenizer) for item in transcription_json]\n",
        "        translation_str = json.dumps(translation_json)\n",
        "\n",
        "        with open(translation_path, 'w', encoding='utf-8') as output_file:\n",
        "            output_file.write(translation_str)\n",
        "\n",
        "    #st.write('done translating ' + transcription_name)\n",
        "    return translation_path\n",
        "\n",
        "#clear app dir\n",
        "def clear_app_dir():\n",
        "    app_dir = '/content/gdrive/MyDrive/F23/CS370/CS370 project/Interviews/app'\n",
        "    for filename in os.listdir(app_dir):\n",
        "        file_path = os.path.join(app_dir, filename)\n",
        "        if os.path.isfile(file_path):\n",
        "            os.remove(file_path)\n",
        "\n",
        "st.title('Translate Youtube subtitles')\n",
        "\n",
        "youtube_link = st.text_input('', placeholder = 'Full Youtube Video URL')\n",
        "\n",
        "target_language = st.selectbox('Target Language', ('French', ''))\n",
        "\n",
        "if st.button('Translate Video') and youtube_link != '' and target_language != '':\n",
        "    app_dir = '/content/gdrive/MyDrive/F23/CS370/CS370 project/Interviews/app'\n",
        "    os.makedirs(app_dir, exist_ok=True)\n",
        "\n",
        "    video_path = download_video(app_dir, youtube_link)\n",
        "\n",
        "    audio_path = extract_audio(app_dir, video_path)\n",
        "\n",
        "    transcription_path = transcribe_audio(app_dir, audio_path)\n",
        "\n",
        "    translation_path = translate(app_dir, 'fr', transcription_path)\n",
        "\n",
        "    with open(transcription_path, 'r') as file:\n",
        "        original = json.load(file)\n",
        "\n",
        "    with open(translation_path, 'r') as file:\n",
        "        translated = json.load(file)\n",
        "\n",
        "    time_format = \"{:02}:{:02}:{:02}.{:03}\"\n",
        "    timestamps = []\n",
        "    for obj in original:\n",
        "      start = obj[\"start\"]\n",
        "\n",
        "      hrs = int(start // 60 // 60)\n",
        "      mins = int(start // 60 % 60)\n",
        "      secs = int(start % 60)\n",
        "      millis = int((start %1) * 1000)\n",
        "\n",
        "      new_start = time_format.format(hrs, mins, secs, millis)\n",
        "      timestamps.append(new_start)\n",
        "\n",
        "    originals = [obj[\"text\"] for obj in original]\n",
        "    translations = [obj[\"text\"] for obj in translated]\n",
        "\n",
        "    df = pd.DataFrame({\n",
        "      'timestamp': timestamps,\n",
        "      'original': originals,\n",
        "      'translated': translations,\n",
        "    })\n",
        "\n",
        "    st.dataframe(\n",
        "      df,\n",
        "      column_config={\n",
        "        'timestamp': 'Timestamp',\n",
        "          'original': 'Original',\n",
        "          'translated': 'Translated',\n",
        "        },\n",
        "        hide_index=True,\n",
        "    )\n",
        "\n",
        "    clear_app_dir()"
      ],
      "metadata": {
        "id": "-XBV5colbAVP"
      },
      "execution_count": null,
      "outputs": []
    },
    {
      "cell_type": "code",
      "source": [
        "!streamlit run '/content/gdrive/MyDrive/F23/CS370/CS370 project/app.py' &>/content/gdrive/MyDrive/F23/CS370/CS370 project/logs.txt & npx localtunnel --port 8501 & curl ipv4.icanhazip.com/"
      ],
      "metadata": {
        "id": "abijT4wo45Ry",
        "colab": {
          "base_uri": "https://localhost:8080/"
        },
        "outputId": "653c0d21-d765-4fb4-ef0b-58cf502be499"
      },
      "execution_count": null,
      "outputs": [
        {
          "output_type": "stream",
          "name": "stdout",
          "text": [
            "34.125.77.233\n",
            "\u001b[K\u001b[?25hnpx: installed 22 in 2.818s\n",
            "your url is: https://quiet-ghosts-trade.loca.lt\n"
          ]
        }
      ]
    }
  ]
}